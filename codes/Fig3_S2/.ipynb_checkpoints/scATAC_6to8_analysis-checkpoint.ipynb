{
 "cells": [
  {
   "cell_type": "code",
   "execution_count": null,
   "metadata": {},
   "outputs": [],
   "source": [
    "library(Signac)"
   ]
  },
  {
   "cell_type": "code",
   "execution_count": null,
   "metadata": {},
   "outputs": [],
   "source": [
    "source(\"../../util/sc_preprocess.R\")"
   ]
  },
  {
   "cell_type": "code",
   "execution_count": null,
   "metadata": {},
   "outputs": [],
   "source": [
    "# CellRanger atac outputs\n",
    "fly_sci_6to8 <- Read10X_h5(\"~/work/barista/tool_test//sciATAC_again/CRatac/CRatac_fly_6to8//outs/raw_peak_bc_matrix.h5\")"
   ]
  },
  {
   "cell_type": "code",
   "execution_count": null,
   "metadata": {},
   "outputs": [],
   "source": [
    "fly_summits_6to8 = readRDS(\"~/work/barista/tool_test//sciATAC/original_data/orig_curated_6to8.2kb.rds\")"
   ]
  },
  {
   "cell_type": "code",
   "execution_count": null,
   "metadata": {},
   "outputs": [],
   "source": [
    "bclist <- read.table(\"barcode_correspondence_data//bc_correspo.6to8.CLEAN.tsv\",header=F,stringsAsFactors = F)"
   ]
  },
  {
   "cell_type": "code",
   "execution_count": null,
   "metadata": {},
   "outputs": [],
   "source": [
    "bc_conv_list <- paste0(bclist$V2,\"-1\"); names(bc_conv_list) <- bclist$V1"
   ]
  },
  {
   "cell_type": "code",
   "execution_count": null,
   "metadata": {},
   "outputs": [],
   "source": [
    "colnames(fly_summits_6to8) <- bc_conv_list[colnames(fly_summits_6to8)] %>% unname()"
   ]
  },
  {
   "cell_type": "code",
   "execution_count": null,
   "metadata": {},
   "outputs": [],
   "source": [
    "fly_sci_6to8 <- fly_sci_6to8[,colnames(fly_summits_6to8)]"
   ]
  },
  {
   "cell_type": "code",
   "execution_count": null,
   "metadata": {},
   "outputs": [],
   "source": [
    "fly_sci_6to8 <- CreateSeuratObject(\n",
    "  counts = dm_assay,\n",
    "  assay = \"peaks\",\n",
    "  min.cells=1)\n",
    "fly_orig_6to8 <- CreateSeuratObject(\n",
    "  counts = fly_summits_6to8,\n",
    "  assay = 'peaks',\n",
    "  project = 'ATAC',\n",
    "  min.cells = 1)"
   ]
  },
  {
   "cell_type": "code",
   "execution_count": null,
   "metadata": {},
   "outputs": [],
   "source": [
    "##start dimension reduction\n",
    "fly_10x_6to8 <- atac_dimred_lsi(fly_sci_6to8)\n",
    "fly_orig_6to8 <- atac_dimred_lsi(fly_orig_6to8)"
   ]
  },
  {
   "cell_type": "code",
   "execution_count": null,
   "metadata": {},
   "outputs": [],
   "source": [
    "fly_10x_6to8 <- atac_dimred_umap(fly_10x_6to8,use_dims = c(2:4,6:30))\n",
    "fly_orig_6to8<- atac_dimred_umap(fly_orig_6to8,use_dims= c(2:3,5:30))"
   ]
  },
  {
   "cell_type": "code",
   "execution_count": null,
   "metadata": {},
   "outputs": [],
   "source": [
    "# UMAP plot\n",
    "draw_atac_umap(seu_base = fly_orig_6to8,\n",
    "          seu_to10x = fly_10x_6to8,\n",
    "          col_seed = 5,\n",
    "          w=6,\n",
    "          h=6,\n",
    "          outdir = \"./\",\n",
    "          outname = \"sciATAC_fly\")"
   ]
  },
  {
   "cell_type": "code",
   "execution_count": null,
   "metadata": {},
   "outputs": [],
   "source": [
    "# Cell-cell distances\n",
    "df.case   <- get_dist_pcaspace_scatter(seu_base = fly_orig_6to8,\n",
    "     seu_target = fly_10x_6to8,\n",
    "     outdir = \"./\",\n",
    "     outname = \"sciATAC_fly_rawSignal_samegene\",\n",
    "     rowcount=F,\n",
    "     lsi = F,\n",
    "     rawsignal=T,\n",
    "     n_cell_sampling=10000)"
   ]
  },
  {
   "cell_type": "code",
   "execution_count": null,
   "metadata": {},
   "outputs": [],
   "source": [
    "# Cell-cell distances - scrambled\n",
    "df.scramble   <- get_dist_pcaspace_scatter(seu_base = fly_orig_6to8,\n",
    "     seu_target = fly_10x_6to8,\n",
    "     outdir = \"./\",\n",
    "     outname = \"sciATAC_fly_rawSignal_samegene\",\n",
    "     rowcount=F,\n",
    "     lsi = F,\n",
    "     n_scramble_sampling=100,\n",
    "     scramble = T,\n",
    "     rawsignal=T,\n",
    "     n_cell_sampling=10000)"
   ]
  },
  {
   "cell_type": "code",
   "execution_count": null,
   "metadata": {},
   "outputs": [],
   "source": [
    "# CellRanger atac outputs\n",
    "frag <- '/CRatac_fly_6to8//outs/fragments.tsv.gz'"
   ]
  },
  {
   "cell_type": "code",
   "execution_count": null,
   "metadata": {},
   "outputs": [],
   "source": [
    "fly_10x_6to8 <- atac_genecellmatrix(fly_10x_6to8,gtf = '~/database/fly_BDGP6/genes/genes.gtf',frag = frag)\n"
   ]
  },
  {
   "cell_type": "code",
   "execution_count": null,
   "metadata": {},
   "outputs": [],
   "source": [
    "tmp_fly_10x_6to8 <- fly_10x_6to8"
   ]
  },
  {
   "cell_type": "code",
   "execution_count": null,
   "metadata": {},
   "outputs": [],
   "source": [
    "celltype_dict <- c(\"4\"=\"CNS A\",\n",
    "               \"8\"=\"CNS A\",\n",
    "               \"19\"=\"CNS B\",\n",
    "               \"9\"=\"Hematocyte\",\n",
    "               \"7\"=\"Fat Body Prim\",\n",
    "               \"0\"=\"Muscle Prim A\",\n",
    "               \"10\"=\"Muscle Prim A\",\n",
    "               \"17\"=\"Muscle Prim A\",\n",
    "               \"12\"=\"Muscle Prim B\",\n",
    "               \"1\"='Ectoderm',\n",
    "               \"2\"='Ectoderm',\n",
    "               \"5\"='Ectoderm',\n",
    "               \"11\"='Ectoderm',\n",
    "               \"14\"='Ectoderm',\n",
    "               \"15\"='Unknown',\n",
    "               \"16\"='Ectoderm',\n",
    "               \"18\"='Ectoderm',\n",
    "               \"20\"=\"Ectoderm\",\n",
    "               \"6\"='Tracheal Prim',\n",
    "               \"3\"=\"Mid Gut Prim\",\n",
    "               \"13\"=\"Mid Gut Prim\")\n",
    "tmp_fly_10x_6to8$seurat_clusters <- fly_orig_6to8$seurat_clusters\n",
    "Idents(tmp_fly_10x_6to8) <- celltype_dict[tmp_fly_10x_6to8$seurat_clusters %>% as.character] %>% unname"
   ]
  },
  {
   "cell_type": "code",
   "execution_count": null,
   "metadata": {},
   "outputs": [],
   "source": [
    "dmp <- DimPlot(tmp_fly_10x_6to8,label=F,label.size=3,cols=brewer.pal(10,\"Set3\"),pt.size = .001)+\n",
    "NoLegend()+\n",
    "theme(axis.line=element_blank(),\n",
    "     axis.ticks=element_blank(),\n",
    "     axis.title=element_blank(),\n",
    "     axis.text=element_blank(),\n",
    "     plot.margin=unit(c(0,0,0,0),\"mm\"))"
   ]
  },
  {
   "cell_type": "code",
   "execution_count": null,
   "metadata": {},
   "outputs": [],
   "source": [
    "ggsave(\"./uap_annot.jpeg\",dmp,width=8,height=8,units=\"cm\",dpi=600)"
   ]
  },
  {
   "cell_type": "code",
   "execution_count": null,
   "metadata": {},
   "outputs": [],
   "source": [
    "for(g in c(\"CR44226\",\"CG11249\",\"CR44677\",\"GATAe\",\"btl\",\"scrt\",\"CG6415\",\"CG4393\",\"CG5225\",\"wor\",\"Mef2\",\"ftz\")){\n",
    "    draw_atac_ftp(fly_10x_6to8,\n",
    "                  fly_orig_6to8,\n",
    "                  g,\n",
    "                  outdir = \"./\",\n",
    "                  outname = \"sciATAC_fly\")\n",
    "    }"
   ]
  },
  {
   "cell_type": "code",
   "execution_count": null,
   "metadata": {},
   "outputs": [],
   "source": [
    "gtf <- rtracklayer::import('~/database/fly_BDGP6/genes/genes.gtf')\n",
    "seqlevelsStyle(gtf) <- 'Ensembl'\n",
    "Annotation(fly_10x_6to8) <- gtf"
   ]
  },
  {
   "cell_type": "code",
   "execution_count": null,
   "metadata": {},
   "outputs": [],
   "source": [
    "# Coverage plot\n",
    "g <- draw_atac_cvp(fly_orig_6to8,\n",
    "                   fly_10x_6to8,\n",
    "                   gene = \"Mef2\",\n",
    "                   gtf = '~/database/fly_BDGP6/genes/genes.gtf',\n",
    "                   outdir = \"./\",\n",
    "                   outname = \"sciATAC_fly_0805\",\n",
    "                   saveRDS=F,\n",
    "                   col_seed = 5,\n",
    "                   ncluster = length(unique(fly_orig_6to8$seurat_clusters)))\n",
    "\n"
   ]
  }
 ],
 "metadata": {
  "kernelspec": {
   "display_name": "R4",
   "language": "R",
   "name": "ir"
  },
  "language_info": {
   "codemirror_mode": "r",
   "file_extension": ".r",
   "mimetype": "text/x-r-source",
   "name": "R",
   "pygments_lexer": "r",
   "version": "4.2.1"
  }
 },
 "nbformat": 4,
 "nbformat_minor": 4
}
