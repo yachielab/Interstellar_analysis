{
 "cells": [
  {
   "cell_type": "code",
   "execution_count": null,
   "metadata": {},
   "outputs": [],
   "source": [
    "library(Signac)"
   ]
  },
  {
   "cell_type": "code",
   "execution_count": null,
   "metadata": {},
   "outputs": [],
   "source": [
    "source(\"../../sc_preprocess.R\")"
   ]
  },
  {
   "cell_type": "code",
   "execution_count": null,
   "metadata": {},
   "outputs": [],
   "source": [
    "# Cellranger atac aggr output\n",
    "h5_path <- \"/CRatac_fly_aggr/outs//filtered_peak_bc_matrix.h5\"\n",
    "sccsv <- \"/CRatac_fly_aggr/outs/singlecell.csv\"\n",
    "frag <- '/CRatac_fly_aggr/outs/fragments.tsv.gz'"
   ]
  },
  {
   "cell_type": "code",
   "execution_count": null,
   "metadata": {},
   "outputs": [],
   "source": [
    "fly_sci_6to8 <- atac_data_build(h5_path = h5_path,sccsv = sccsv,frag=frag)"
   ]
  },
  {
   "cell_type": "code",
   "execution_count": null,
   "metadata": {},
   "outputs": [],
   "source": [
    "fly_sci_6to8 <- atac_data_qc(fly_sci_6to8,gtf='~/database/fly_BDGP6/genes/genes.gtf',min_thresh_nucleosome_signal = 2)"
   ]
  },
  {
   "cell_type": "code",
   "execution_count": null,
   "metadata": {},
   "outputs": [],
   "source": [
    "fly_sci_6to8 <- atac_data_filtering(fly_sci_6to8)"
   ]
  },
  {
   "cell_type": "code",
   "execution_count": null,
   "metadata": {},
   "outputs": [],
   "source": [
    "##start dimension reduction\n",
    "fly_10x_6to8 <- atac_dimred_lsi(fly_sci_6to8)\n"
   ]
  },
  {
   "cell_type": "code",
   "execution_count": null,
   "metadata": {},
   "outputs": [],
   "source": [
    "fly_10x_6to8 <- atac_dimred_umap(fly_10x_6to8,use_dims = c(2:6,8:30))"
   ]
  },
  {
   "cell_type": "code",
   "execution_count": null,
   "metadata": {},
   "outputs": [],
   "source": [
    "DimPlot(fly_10x_6to8)"
   ]
  },
  {
   "cell_type": "code",
   "execution_count": null,
   "metadata": {},
   "outputs": [],
   "source": [
    "sample_v <- sub(\".+-\",\"\",colnames(fly_10x_6to8))"
   ]
  },
  {
   "cell_type": "code",
   "execution_count": null,
   "metadata": {},
   "outputs": [],
   "source": [
    "v <- c(\"1\"=\"2to4\",\"2\"=\"6to8\",\"3\"=\"10to12\")"
   ]
  },
  {
   "cell_type": "code",
   "execution_count": null,
   "metadata": {},
   "outputs": [],
   "source": [
    "sample_v <- sapply(sample_v,function(x,v){return(v[x])},v)"
   ]
  },
  {
   "cell_type": "code",
   "execution_count": null,
   "metadata": {},
   "outputs": [],
   "source": [
    "names(sample_v) <- colnames(fly_10x_6to8)"
   ]
  },
  {
   "cell_type": "code",
   "execution_count": null,
   "metadata": {},
   "outputs": [],
   "source": [
    "Idents(fly_10x_6to8) <- sample_v"
   ]
  },
  {
   "cell_type": "code",
   "execution_count": null,
   "metadata": {},
   "outputs": [],
   "source": [
    "dmp <- DimPlot(fly_10x_6to8,cols=brewer.pal(3,\"Set1\"),pt.size = 0.01)+\n",
    "theme(axis.line=element_blank(),\n",
    "     axis.ticks=element_blank(),\n",
    "     axis.title=element_blank(),\n",
    "     axis.text=element_blank(),\n",
    "     plot.margin=unit(c(0,0,0,0),\"mm\"))+\n",
    "NoLegend()\n",
    "ggsave(\"./umap_all.jpeg\",dmp,width=8,height=8.3,units=\"cm\",dpi=600)"
   ]
  },
  {
   "cell_type": "code",
   "execution_count": null,
   "metadata": {},
   "outputs": [],
   "source": []
  }
 ],
 "metadata": {
  "kernelspec": {
   "display_name": "R4",
   "language": "R",
   "name": "ir"
  },
  "language_info": {
   "codemirror_mode": "r",
   "file_extension": ".r",
   "mimetype": "text/x-r-source",
   "name": "R",
   "pygments_lexer": "r",
   "version": "4.2.1"
  }
 },
 "nbformat": 4,
 "nbformat_minor": 4
}
