{
 "cells": [
  {
   "cell_type": "code",
   "execution_count": 1,
   "id": "47942d31-8328-4209-a02f-e97192e59e8b",
   "metadata": {
    "execution": {
     "iopub.execute_input": "2022-04-02T19:55:27.919840Z",
     "iopub.status.busy": "2022-04-02T19:55:27.918124Z",
     "iopub.status.idle": "2022-04-02T19:56:07.135808Z",
     "shell.execute_reply": "2022-04-02T19:56:07.134592Z"
    },
    "tags": []
   },
   "outputs": [
    {
     "name": "stderr",
     "output_type": "stream",
     "text": [
      "Registered S3 method overwritten by 'spatstat.geom':\n",
      "  method     from\n",
      "  print.boxx cli \n",
      "\n",
      "Attaching SeuratObject\n",
      "\n",
      "── \u001b[1mAttaching packages\u001b[22m ───────────────────────────────────────────────────────────────────────────────────────────────────────────────────────────────────────────────────────────────────────────── tidyverse 1.3.1 ──\n",
      "\n",
      "\u001b[32m✔\u001b[39m \u001b[34mggplot2\u001b[39m 3.3.5     \u001b[32m✔\u001b[39m \u001b[34mpurrr  \u001b[39m 0.3.4\n",
      "\u001b[32m✔\u001b[39m \u001b[34mtibble \u001b[39m 3.1.6     \u001b[32m✔\u001b[39m \u001b[34mdplyr  \u001b[39m 1.0.7\n",
      "\u001b[32m✔\u001b[39m \u001b[34mtidyr  \u001b[39m 1.2.0     \u001b[32m✔\u001b[39m \u001b[34mstringr\u001b[39m 1.4.0\n",
      "\u001b[32m✔\u001b[39m \u001b[34mreadr  \u001b[39m 2.0.1     \u001b[32m✔\u001b[39m \u001b[34mforcats\u001b[39m 0.5.1\n",
      "\n",
      "── \u001b[1mConflicts\u001b[22m ──────────────────────────────────────────────────────────────────────────────────────────────────────────────────────────────────────────────────────────────────────────────── tidyverse_conflicts() ──\n",
      "\u001b[31m✖\u001b[39m \u001b[34mtidyr\u001b[39m::\u001b[32mexpand()\u001b[39m masks \u001b[34mMatrix\u001b[39m::expand()\n",
      "\u001b[31m✖\u001b[39m \u001b[34mdplyr\u001b[39m::\u001b[32mfilter()\u001b[39m masks \u001b[34mstats\u001b[39m::filter()\n",
      "\u001b[31m✖\u001b[39m \u001b[34mdplyr\u001b[39m::\u001b[32mlag()\u001b[39m    masks \u001b[34mstats\u001b[39m::lag()\n",
      "\u001b[31m✖\u001b[39m \u001b[34mtidyr\u001b[39m::\u001b[32mpack()\u001b[39m   masks \u001b[34mMatrix\u001b[39m::pack()\n",
      "\u001b[31m✖\u001b[39m \u001b[34mtidyr\u001b[39m::\u001b[32munpack()\u001b[39m masks \u001b[34mMatrix\u001b[39m::unpack()\n",
      "\n"
     ]
    }
   ],
   "source": [
    "library(Seurat)\n",
    "library(Matrix)\n",
    "library(tidyverse)"
   ]
  },
  {
   "cell_type": "code",
   "execution_count": 2,
   "id": "cfdb590b-155a-4719-8bf9-628bb157c944",
   "metadata": {
    "execution": {
     "iopub.execute_input": "2022-04-02T19:56:07.157998Z",
     "iopub.status.busy": "2022-04-02T19:56:07.137473Z",
     "iopub.status.idle": "2022-04-02T19:56:29.197558Z",
     "shell.execute_reply": "2022-04-02T19:56:29.196101Z"
    },
    "tags": []
   },
   "outputs": [
    {
     "name": "stderr",
     "output_type": "stream",
     "text": [
      " 要求されたパッケージ GenomicRanges をロード中です \n",
      "\n",
      " 要求されたパッケージ stats4 をロード中です \n",
      "\n",
      " 要求されたパッケージ BiocGenerics をロード中です \n",
      "\n",
      " 要求されたパッケージ parallel をロード中です \n",
      "\n",
      "\n",
      " 次のパッケージを付け加えます: ‘BiocGenerics’ \n",
      "\n",
      "\n",
      " 以下のオブジェクトは ‘package:parallel’ からマスクされています: \n",
      "\n",
      "     clusterApply, clusterApplyLB, clusterCall, clusterEvalQ,\n",
      "    clusterExport, clusterMap, parApply, parCapply, parLapply,\n",
      "    parLapplyLB, parRapply, parSapply, parSapplyLB \n",
      "\n",
      "\n",
      " 以下のオブジェクトは ‘package:dplyr’ からマスクされています: \n",
      "\n",
      "     combine, intersect, setdiff, union \n",
      "\n",
      "\n",
      " 以下のオブジェクトは ‘package:stats’ からマスクされています: \n",
      "\n",
      "     IQR, mad, sd, var, xtabs \n",
      "\n",
      "\n",
      " 以下のオブジェクトは ‘package:base’ からマスクされています: \n",
      "\n",
      "     anyDuplicated, append, as.data.frame, basename, cbind, colnames,\n",
      "    dirname, do.call, duplicated, eval, evalq, Filter, Find, get, grep,\n",
      "    grepl, intersect, is.unsorted, lapply, Map, mapply, match, mget,\n",
      "    order, paste, pmax, pmax.int, pmin, pmin.int, Position, rank,\n",
      "    rbind, Reduce, rownames, sapply, setdiff, sort, table, tapply,\n",
      "    union, unique, unsplit, which.max, which.min \n",
      "\n",
      "\n",
      " 要求されたパッケージ S4Vectors をロード中です \n",
      "\n",
      "\n",
      " 次のパッケージを付け加えます: ‘S4Vectors’ \n",
      "\n",
      "\n",
      " 以下のオブジェクトは ‘package:dplyr’ からマスクされています: \n",
      "\n",
      "     first, rename \n",
      "\n",
      "\n",
      " 以下のオブジェクトは ‘package:tidyr’ からマスクされています: \n",
      "\n",
      "     expand \n",
      "\n",
      "\n",
      " 以下のオブジェクトは ‘package:Matrix’ からマスクされています: \n",
      "\n",
      "     expand, unname \n",
      "\n",
      "\n",
      " 以下のオブジェクトは ‘package:base’ からマスクされています: \n",
      "\n",
      "     expand.grid, I, unname \n",
      "\n",
      "\n",
      " 要求されたパッケージ IRanges をロード中です \n",
      "\n",
      "\n",
      " 次のパッケージを付け加えます: ‘IRanges’ \n",
      "\n",
      "\n",
      " 以下のオブジェクトは ‘package:dplyr’ からマスクされています: \n",
      "\n",
      "     collapse, desc, slice \n",
      "\n",
      "\n",
      " 以下のオブジェクトは ‘package:purrr’ からマスクされています: \n",
      "\n",
      "     reduce \n",
      "\n",
      "\n",
      " 要求されたパッケージ GenomeInfoDb をロード中です \n",
      "\n"
     ]
    }
   ],
   "source": [
    "source(\"/home/ha5656/work/barista/paper_data/R_fig_script/src/sc_preprocess.R\")"
   ]
  },
  {
   "cell_type": "code",
   "execution_count": 3,
   "id": "a835cb5c-2b20-4ff0-a5e0-17ee6d3988e0",
   "metadata": {
    "execution": {
     "iopub.execute_input": "2022-04-02T19:57:30.075417Z",
     "iopub.status.busy": "2022-04-02T19:57:30.073635Z",
     "iopub.status.idle": "2022-04-02T19:57:41.568342Z",
     "shell.execute_reply": "2022-04-02T19:57:41.567119Z"
    },
    "tags": []
   },
   "outputs": [],
   "source": [
    "dge_base   <- readRDS(\"/home/ha5656/work/barista/paper_data/R_fig_script//intermediate_dataset//dge_Feb2021//vFeb2021_Drop_original_rawdge.rds\")\n",
    "dge_to10x <- readRDS(\"/home/ha5656/work/barista/paper_data/R_fig_script//intermediate_dataset//dge_Feb2021/vFeb2021_Drop_to_10x_rawdge.rds\")\n",
    "dge_todrop <- readRDS(\"/home/ha5656/work/barista/paper_data/R_fig_script//intermediate_dataset//dge_Feb2021/vFeb2021_Drop_to_drop_rawdge.rds\")\n",
    "dge_to10x_keepUMI  <- readRDS(\"/home/ha5656/work/barista/paper_data/R_fig_script//intermediate_dataset//dge_Feb2021//vFeb2021_Drop_to_10x_keepUMI_rawdge.rds\")\n",
    "dge_todrop_keepUMI <- readRDS(\"/home/ha5656/work/barista/paper_data/R_fig_script//intermediate_dataset//dge_Feb2021//vFeb2021_Drop_to_drop_keepUMI_rawdge.rds\")\n",
    "\n",
    "dge_todrop_seq2seq <- readRDS(\"/home/ha5656/work/Interstellar_test/seurat_obj/drop_to_drop_SEQ2SEQ.drop.rds\")"
   ]
  },
  {
   "cell_type": "code",
   "execution_count": 4,
   "id": "470953e7-a0fd-4ba4-ab0d-a05482a3b21f",
   "metadata": {
    "execution": {
     "iopub.execute_input": "2022-04-02T19:57:41.570831Z",
     "iopub.status.busy": "2022-04-02T19:57:41.569944Z",
     "iopub.status.idle": "2022-04-02T19:57:41.885763Z",
     "shell.execute_reply": "2022-04-02T19:57:41.884546Z"
    },
    "tags": []
   },
   "outputs": [],
   "source": [
    "bclist_to10x  <- read.table(\"/home/ha5661/work/barista/results/drop_to_10X_randomUMI_Dec2020/bclist_3.txt\",header=T)\n",
    "bclist_toDrop <- read.table(\"/home/ha5661/work/barista/results/drop_to_drop_randomUMI_Dec2020/bclist_3.txt\",header=T)\n",
    "bclist_to10x_keepUMI  <- read.table(\"/home/ha5661/work/barista/results/drop_to_10X_keepUMI_Dec2020/bclist_3.txt\",header=T); colnames(bclist_to10x_keepUMI) <- c(\"segment1.cellID\",\"exCellID\")\n",
    "bclist_toDrop_keepUMI <- read.table(\"/home/ha5661/work/barista/results/drop_to_drop_keepUMI_Dec2020/bclist_3.txt\",header=T)"
   ]
  },
  {
   "cell_type": "code",
   "execution_count": 5,
   "id": "68e91c71-112e-4136-aeb3-520ade5378b9",
   "metadata": {
    "execution": {
     "iopub.execute_input": "2022-04-02T19:57:41.888279Z",
     "iopub.status.busy": "2022-04-02T19:57:41.887372Z",
     "iopub.status.idle": "2022-04-02T19:57:41.948590Z",
     "shell.execute_reply": "2022-04-02T19:57:41.947442Z"
    },
    "tags": []
   },
   "outputs": [],
   "source": [
    "colnames(dge_to10x) <- gsub(\"-1\",\"\",colnames(dge_to10x))\n",
    "colnames(dge_to10x_keepUMI) <- gsub(\"-1\",\"\",colnames(dge_to10x_keepUMI))\n",
    "\n",
    "dge_to10x_new  <- refresh_dge(dge_to10x,bclist_to10x$segment1.cellID,bclist_to10x$exCellID)\n",
    "dge_todrop_new <- refresh_dge(dge_todrop,bclist_toDrop$segment1.cellID,bclist_toDrop$exCellID)\n",
    "dge_to10x_keepUMI_new  <- refresh_dge(dge_to10x_keepUMI,bclist_to10x_keepUMI$segment1.cellID,bclist_to10x_keepUMI$exCellID)\n",
    "dge_todrop_keepUMI_new <- refresh_dge(dge_todrop_keepUMI,bclist_toDrop_keepUMI$segment1.cellID,bclist_toDrop_keepUMI$exCellID)"
   ]
  },
  {
   "cell_type": "code",
   "execution_count": 6,
   "id": "620abaa9-7902-46a8-95a4-d234ef518223",
   "metadata": {
    "execution": {
     "iopub.execute_input": "2022-04-02T19:57:41.951101Z",
     "iopub.status.busy": "2022-04-02T19:57:41.950174Z",
     "iopub.status.idle": "2022-04-02T19:57:41.958906Z",
     "shell.execute_reply": "2022-04-02T19:57:41.957880Z"
    },
    "tags": []
   },
   "outputs": [],
   "source": [
    "# dge_target_list <- list(dge_to10x_new,dge_todrop_new,dge_dwn90,dge_dwn80,dge_dwn70,dge_to10x_keepUMI_new,dge_todrop_keepUMI_new)\n",
    "dge_target_list <- list(dge_todrop_new,dge_to10x_keepUMI_new,dge_todrop_keepUMI_new,dge_todrop_seq2seq)"
   ]
  },
  {
   "cell_type": "code",
   "execution_count": 7,
   "id": "b85df4d5-3d5a-4c97-9dae-93628faea2b0",
   "metadata": {
    "execution": {
     "iopub.execute_input": "2022-04-02T19:57:41.961299Z",
     "iopub.status.busy": "2022-04-02T19:57:41.960395Z",
     "iopub.status.idle": "2022-04-02T19:57:44.646031Z",
     "shell.execute_reply": "2022-04-02T19:57:44.644953Z"
    },
    "tags": []
   },
   "outputs": [
    {
     "name": "stdout",
     "output_type": "stream",
     "text": [
      " [1] \"mt-Atp6\" \"mt-Co1\"  \"mt-Co2\"  \"mt-Co3\"  \"mt-Cytb\" \"mt-Nd1\"  \"mt-Nd2\" \n",
      " [8] \"mt-Nd4\"  \"mt-Nd5\"  \"mt-Nd6\" \n"
     ]
    },
    {
     "name": "stderr",
     "output_type": "stream",
     "text": [
      "Parameters:\n",
      "\n",
      "min_features: 200\n",
      "\n",
      "num_feature_rna_min: 200\n",
      "\n",
      "num_feature_rna_max: 5000\n",
      "\n",
      "num_feature_rna_min 200\n",
      "\n",
      "mito_pattern ^mt-\n",
      "\n",
      "percent_mito 20\n",
      "\n",
      "\n",
      "\n",
      "Number of cells after QCing original: 11585\n",
      "\n",
      "Number of cells after taking intersection: 9597\n",
      "\n"
     ]
    }
   ],
   "source": [
    "use_cells <- get_cells_used(dge_base,dge_target_list,percent_mito = 20,min_features = 200)"
   ]
  },
  {
   "cell_type": "code",
   "execution_count": 12,
   "id": "ded947d7-4e1d-47a5-9185-3983a9ea162e",
   "metadata": {
    "execution": {
     "iopub.execute_input": "2022-04-02T07:02:09.745493Z",
     "iopub.status.busy": "2022-04-02T07:02:09.744454Z",
     "iopub.status.idle": "2022-04-02T07:02:09.754817Z",
     "shell.execute_reply": "2022-04-02T07:02:09.753811Z"
    },
    "tags": []
   },
   "outputs": [
    {
     "data": {
      "text/html": [
       "9597"
      ],
      "text/latex": [
       "9597"
      ],
      "text/markdown": [
       "9597"
      ],
      "text/plain": [
       "[1] 9597"
      ]
     },
     "metadata": {},
     "output_type": "display_data"
    }
   ],
   "source": [
    "length(use_cells)"
   ]
  },
  {
   "cell_type": "code",
   "execution_count": 8,
   "id": "97c16d6b-38b9-4cd3-a916-ff5f824620a4",
   "metadata": {
    "execution": {
     "iopub.execute_input": "2022-04-02T19:57:44.648587Z",
     "iopub.status.busy": "2022-04-02T19:57:44.647708Z",
     "iopub.status.idle": "2022-04-02T19:57:49.058168Z",
     "shell.execute_reply": "2022-04-02T19:57:49.056751Z"
    },
    "tags": []
   },
   "outputs": [],
   "source": [
    "store_dir <- \"/home/ha5656/work/barista/paper_data/R_fig_script/intermediate_dataset/seurat_rds_Feb2021/\"\n",
    "\n",
    "orig.intersect.seu <- readRDS(paste0(store_dir,\"Feb2021_Drop_original_Seurat.rds\"))"
   ]
  },
  {
   "cell_type": "code",
   "execution_count": 9,
   "id": "0edeb8d6-db7d-40b6-b583-52ca20056e67",
   "metadata": {
    "execution": {
     "iopub.execute_input": "2022-04-02T19:57:49.060736Z",
     "iopub.status.busy": "2022-04-02T19:57:49.059811Z",
     "iopub.status.idle": "2022-04-02T19:57:49.070589Z",
     "shell.execute_reply": "2022-04-02T19:57:49.069555Z"
    },
    "tags": []
   },
   "outputs": [],
   "source": [
    "# dge_base_intersect   <- dge_base[,use_cells]\n",
    "dge_todrop<- dge_todrop_seq2seq[,use_cells]"
   ]
  },
  {
   "cell_type": "code",
   "execution_count": 10,
   "id": "d83dc431-d905-4088-becd-2f0f6aa0bdb8",
   "metadata": {
    "execution": {
     "iopub.execute_input": "2022-04-02T19:57:49.073006Z",
     "iopub.status.busy": "2022-04-02T19:57:49.072136Z",
     "iopub.status.idle": "2022-04-02T19:57:50.490357Z",
     "shell.execute_reply": "2022-04-02T19:57:50.489096Z"
    },
    "tags": []
   },
   "outputs": [],
   "source": [
    "orig.intersect.seu <- orig.intersect.seu[,use_cells]"
   ]
  },
  {
   "cell_type": "code",
   "execution_count": 11,
   "id": "e27b9cdb-42bf-431f-b80d-dddf4c02ad09",
   "metadata": {
    "execution": {
     "iopub.execute_input": "2022-04-02T19:57:50.492887Z",
     "iopub.status.busy": "2022-04-02T19:57:50.491987Z",
     "iopub.status.idle": "2022-04-02T19:57:54.573045Z",
     "shell.execute_reply": "2022-04-02T19:57:54.571754Z"
    },
    "tags": []
   },
   "outputs": [],
   "source": [
    "# orig.intersect.seu   <- CreateSeuratObject(dge_base_intersect)\n",
    "todrop.intersect.seu <- CreateSeuratObject(dge_todrop)\n"
   ]
  },
  {
   "cell_type": "code",
   "execution_count": 12,
   "id": "bfb7e17c-22c6-4124-9dc6-b6f9868bcc67",
   "metadata": {
    "execution": {
     "iopub.execute_input": "2022-04-02T19:57:54.575623Z",
     "iopub.status.busy": "2022-04-02T19:57:54.574712Z",
     "iopub.status.idle": "2022-04-02T19:57:54.584711Z",
     "shell.execute_reply": "2022-04-02T19:57:54.583672Z"
    },
    "tags": []
   },
   "outputs": [],
   "source": [
    "high_var_genes <- VariableFeatures(orig.intersect.seu)"
   ]
  },
  {
   "cell_type": "code",
   "execution_count": 13,
   "id": "7fe04e6b-d92e-4a47-82be-62a9883a8a0b",
   "metadata": {
    "execution": {
     "iopub.execute_input": "2022-04-02T19:57:54.587120Z",
     "iopub.status.busy": "2022-04-02T19:57:54.586253Z",
     "iopub.status.idle": "2022-04-02T19:58:05.329358Z",
     "shell.execute_reply": "2022-04-02T19:58:05.324491Z"
    },
    "tags": []
   },
   "outputs": [
    {
     "name": "stderr",
     "output_type": "stream",
     "text": [
      "Warning message:\n",
      "“Not all features provided are in this Assay object, removing the following feature(s): 1700016K05Rik, 1700018A23Rik, 1700095J07Rik, 2200002J24Rik, 4930402K13Rik, 4930417O22Rik, 4930422C21Rik, 4930432J09Rik, 4930447F04Rik, 4930455M05Rik, 4933405O20Rik, 5430403N17Rik”\n"
     ]
    }
   ],
   "source": [
    "# orig.intersect.seu   <- getVarGenes_untilPCA(orig.intersect.seu,var_genes=high_var_genes,num_varFeatures = 5000)\n",
    "todrop.intersect.seu <- getVarGenes_untilPCA(todrop.intersect.seu,var_genes=high_var_genes,num_varFeatures = 5000)"
   ]
  },
  {
   "cell_type": "code",
   "execution_count": 14,
   "id": "eb61776b-bb5f-4a14-ade8-6832ffe1f0a1",
   "metadata": {
    "execution": {
     "iopub.execute_input": "2022-04-02T19:58:05.337875Z",
     "iopub.status.busy": "2022-04-02T19:58:05.334877Z",
     "iopub.status.idle": "2022-04-02T19:58:47.701909Z",
     "shell.execute_reply": "2022-04-02T19:58:47.700551Z"
    },
    "tags": []
   },
   "outputs": [
    {
     "name": "stderr",
     "output_type": "stream",
     "text": [
      "Warning message:\n",
      "“The default method for RunUMAP has changed from calling Python UMAP via reticulate to the R-native UWOT using the cosine metric\n",
      "To use Python UMAP via reticulate, set umap.method to 'umap-learn' and metric to 'correlation'\n",
      "This message will be shown once per session”\n"
     ]
    }
   ],
   "source": [
    "# orig.intersect.seu   <- seurat_processing_UMAP(orig.intersect.seu,dimlimit = 20,res = 0.6)\n",
    "todrop.intersect.seu <- seurat_processing_UMAP(todrop.intersect.seu,dimlimit = 20,res = 0.6)"
   ]
  },
  {
   "cell_type": "code",
   "execution_count": 25,
   "id": "7c2f93ca-c441-4357-bcb5-e15bca8a7111",
   "metadata": {
    "execution": {
     "iopub.execute_input": "2022-04-02T07:21:12.651268Z",
     "iopub.status.busy": "2022-04-02T07:21:12.650405Z",
     "iopub.status.idle": "2022-04-02T07:21:35.471391Z",
     "shell.execute_reply": "2022-04-02T07:21:35.469164Z"
    },
    "tags": []
   },
   "outputs": [],
   "source": [
    "store_dir <- \"/home/ha5656/work/Interstellar_test/seurat_obj/\"\n",
    "\n",
    "# saveRDS(orig.intersect.seu,paste0(store_dir,\"Mar2022_processed_Drop_original_Seurat.rds\"))\n",
    "# saveRDS(todrop.intersect.seu,paste0(store_dir,\"Mar2022_processed_Drop_to_drop_SEQ2SEQ_Seurat.intersectionAll.rds\"))"
   ]
  },
  {
   "cell_type": "code",
   "execution_count": 15,
   "id": "4a6770ec-da85-4f7b-8aaa-4f968923a4b5",
   "metadata": {
    "execution": {
     "iopub.execute_input": "2022-04-02T20:02:15.370301Z",
     "iopub.status.busy": "2022-04-02T20:02:15.369039Z",
     "iopub.status.idle": "2022-04-02T20:03:27.138688Z",
     "shell.execute_reply": "2022-04-02T20:03:27.135539Z"
    },
    "tags": []
   },
   "outputs": [],
   "source": [
    "#Fig drawing\n",
    "draw_umap(seu_base = orig.intersect.seu,\n",
    "          seu_to10x = orig.intersect.seu,\n",
    "          seu_todrop = todrop.intersect.seu,\n",
    "          col_seed = 22,\n",
    "          w=6,\n",
    "          h=6,\n",
    "          outdir = \"/home/ha5656/work/Interstellar_test/analysis_out/drop_SEQ2SEQ/\",\n",
    "          outname = \"Mar2022_processed_Drop_to_drop_SEQ2SEQ_intersectionAll\")"
   ]
  },
  {
   "cell_type": "code",
   "execution_count": 27,
   "id": "a2bc47c7-10b0-4ecf-ae0e-41f4918e32df",
   "metadata": {
    "execution": {
     "iopub.execute_input": "2022-04-02T07:22:44.779668Z",
     "iopub.status.busy": "2022-04-02T07:22:44.778452Z",
     "iopub.status.idle": "2022-04-02T07:23:13.086730Z",
     "shell.execute_reply": "2022-04-02T07:23:13.085601Z"
    },
    "tags": []
   },
   "outputs": [
    {
     "name": "stdout",
     "output_type": "stream",
     "text": [
      "[1] \"start...\"\n",
      "[1] \"start sampling...\"\n"
     ]
    }
   ],
   "source": [
    "#Export CellCellDist\n",
    "v.vln.todrop <- get_dist_pcaspace_scatter(orig.intersect.seu,\n",
    "                          todrop.intersect.seu,\n",
    "                          outdir = \"/home/ha5656/work/Interstellar_test/analysis_out/drop_SEQ2SEQ/\",\n",
    "                          outname = \"Mar2022_processed_drop_to_drop_SEQ2SEQ_intersectionAll\")"
   ]
  },
  {
   "cell_type": "code",
   "execution_count": 29,
   "id": "58c5790f-ff7a-40cf-be80-88e09364b382",
   "metadata": {
    "execution": {
     "iopub.execute_input": "2022-04-02T07:29:24.222019Z",
     "iopub.status.busy": "2022-04-02T07:29:24.220896Z",
     "iopub.status.idle": "2022-04-02T07:29:24.235488Z",
     "shell.execute_reply": "2022-04-02T07:29:24.234471Z"
    },
    "tags": []
   },
   "outputs": [
    {
     "data": {
      "text/html": [
       "15"
      ],
      "text/latex": [
       "15"
      ],
      "text/markdown": [
       "15"
      ],
      "text/plain": [
       "[1] 15"
      ]
     },
     "metadata": {},
     "output_type": "display_data"
    }
   ],
   "source": [
    "unique(orig.intersect.seu$seurat_clusters) %>% length"
   ]
  },
  {
   "cell_type": "code",
   "execution_count": 31,
   "id": "78f5204d-ea78-48e2-b30d-aa3755cff485",
   "metadata": {
    "execution": {
     "iopub.execute_input": "2022-04-02T07:30:10.441795Z",
     "iopub.status.busy": "2022-04-02T07:30:10.440725Z",
     "iopub.status.idle": "2022-04-02T07:30:14.105514Z",
     "shell.execute_reply": "2022-04-02T07:30:14.103905Z"
    },
    "tags": []
   },
   "outputs": [
    {
     "data": {
      "text/html": [
       "15"
      ],
      "text/latex": [
       "15"
      ],
      "text/markdown": [
       "15"
      ],
      "text/plain": [
       "[1] 15"
      ]
     },
     "metadata": {},
     "output_type": "display_data"
    }
   ],
   "source": [
    "store_dir <- \"/home/ha5656/work/barista/paper_data/R_fig_script/intermediate_dataset/seurat_rds_Feb2021/\"\n",
    "tes <- readRDS(paste0(store_dir,\"Feb2021_Drop_original_Seurat.rds\"))\n",
    "unique(tes$seurat_clusters) %>% length"
   ]
  },
  {
   "cell_type": "code",
   "execution_count": null,
   "id": "0cd14ec4-d818-4d2f-b1a3-66bd8943d9db",
   "metadata": {},
   "outputs": [],
   "source": []
  }
 ],
 "metadata": {
  "kernelspec": {
   "display_name": "R 4.1.1",
   "language": "R",
   "name": "ir411"
  },
  "language_info": {
   "codemirror_mode": "r",
   "file_extension": ".r",
   "mimetype": "text/x-r-source",
   "name": "R",
   "pygments_lexer": "r",
   "version": "4.1.1"
  }
 },
 "nbformat": 4,
 "nbformat_minor": 5
}
