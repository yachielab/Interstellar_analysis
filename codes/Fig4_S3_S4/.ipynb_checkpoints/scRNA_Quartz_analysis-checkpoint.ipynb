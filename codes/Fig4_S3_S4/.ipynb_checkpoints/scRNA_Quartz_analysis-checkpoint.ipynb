{
 "cells": [
  {
   "cell_type": "code",
   "execution_count": null,
   "metadata": {},
   "outputs": [],
   "source": [
    "library(Seurat)\n",
    "library(Matrix)\n",
    "library(tidyverse)"
   ]
  },
  {
   "cell_type": "code",
   "execution_count": null,
   "metadata": {},
   "outputs": [],
   "source": [
    "source(\"../../util/sc_preprocess.R\")"
   ]
  },
  {
   "cell_type": "code",
   "execution_count": null,
   "metadata": {},
   "outputs": [],
   "source": [
    "# The following RDS files are products from import_DGE.R\n",
    "dge_base   <- readRDS(\"vFeb2021_Quartz_original_rawdge.rds\")\n",
    "dge_to10x  <- readRDS(\"vFeb2021_Quartz_to_10x_rawdge.rds\")\n",
    "dge_todrop <- readRDS(\"vFeb2021_Quartz_to_drop_rawdge.rds\")\n",
    "dge_to10x_keepUMI  <- readRDS(\"vFeb2021_Quartz_to_10x_keepUMI_rawdge.rds\")\n",
    "dge_todrop_keepUMI <- readRDS(\"vFeb2021_Quartz_to_drop_keepUMI_rawdge.rds\")\n"
   ]
  },
  {
   "cell_type": "code",
   "execution_count": null,
   "metadata": {},
   "outputs": [],
   "source": [
    "bclist_to10x  <- read.table(\"barcode_correspondence_data//Fig4/Quartz_to_10X_random.txt\",header=T); colnames(bclist_to10x) <- c(\"segment1.cellID\",\"exCellID\")\n",
    "bclist_toDrop <- read.table(\"barcode_correspondence_data//Fig4/Quartz_to_Drop_random.txt\",header=T); colnames(bclist_toDrop) <- c(\"segment1.cellID\",\"exCellID\")\n",
    "bclist_to10x_keepUMI  <- read.table(\"barcode_correspondence_data//Fig4/Quartz_to_10X_keepUMI.txt\",header=T); colnames(bclist_to10x_keepUMI) <- c(\"segment1.cellID\",\"exCellID\")\n",
    "bclist_toDrop_keepUMI <- read.table(\"barcode_correspondence_data//Fig4/Quartz_to_Drop_keepUMI.txt\",header=T); colnames(bclist_toDrop_keepUMI) <- c(\"segment1.cellID\",\"exCellID\")\n"
   ]
  },
  {
   "cell_type": "code",
   "execution_count": null,
   "metadata": {},
   "outputs": [],
   "source": [
    "colnames(dge_to10x) <- sub(\"-1\",\"\",colnames(dge_to10x))\n",
    "colnames(dge_to10x_keepUMI) <- sub(\"-1\",\"\",colnames(dge_to10x_keepUMI))"
   ]
  },
  {
   "cell_type": "code",
   "execution_count": null,
   "metadata": {},
   "outputs": [],
   "source": [
    "dge_to10x_new  <- refresh_dge(dge_to10x,\n",
    "                              bclist_to10x$segment1.cellID,\n",
    "                              bclist_to10x$exCellID)\n",
    "dge_todrop_new <- refresh_dge(dge_todrop,\n",
    "                              bclist_toDrop$segment1.cellID,\n",
    "                              bclist_toDrop$exCellID)\n",
    "dge_to10x_keepUMI_new  <- refresh_dge(dge_to10x_keepUMI,\n",
    "                                      bclist_to10x_keepUMI$segment1.cellID,\n",
    "                                      bclist_to10x_keepUMI$exCellID)\n",
    "dge_todrop_keepUMI_new <- refresh_dge(dge_todrop_keepUMI,\n",
    "                                      bclist_toDrop_keepUMI$segment1.cellID,\n",
    "                                      bclist_toDrop_keepUMI$exCellID)"
   ]
  },
  {
   "cell_type": "code",
   "execution_count": null,
   "metadata": {},
   "outputs": [],
   "source": [
    "dge_target_list <- list(dge_to10x_new,\n",
    "                        dge_todrop_new,\n",
    "                        dge_to10x_keepUMI_new,\n",
    "                        dge_todrop_keepUMI_new)"
   ]
  },
  {
   "cell_type": "code",
   "execution_count": null,
   "metadata": {},
   "outputs": [],
   "source": [
    "use_cells <- get_cells_used(dge_base,dge_target_list,percent_mito = 20,min_features = 200)"
   ]
  },
  {
   "cell_type": "code",
   "execution_count": null,
   "metadata": {},
   "outputs": [],
   "source": [
    "dge_base_intersect   <- dge_base[,use_cells]\n",
    "dge_to10x_intersect  <- dge_to10x_new[,use_cells]\n",
    "dge_todrop_intersect <- dge_todrop_new[,use_cells]\n",
    "dge_to10x_keepUMI_intersect <- dge_to10x_keepUMI_new[,use_cells]\n",
    "dge_todrop_keepUMI_intersect<- dge_todrop_keepUMI_new[,use_cells]"
   ]
  },
  {
   "cell_type": "code",
   "execution_count": null,
   "metadata": {},
   "outputs": [],
   "source": [
    "orig.intersect.seu   <- CreateSeuratObject(dge_base_intersect)\n",
    "to10x.intersect.seu  <- CreateSeuratObject(dge_to10x_intersect)\n",
    "todrop.intersect.seu <- CreateSeuratObject(dge_todrop_intersect)\n",
    "to10x.keepUMI.seu    <- CreateSeuratObject(dge_to10x_keepUMI_intersect)\n",
    "todrop.keepUMI.seu   <- CreateSeuratObject(dge_todrop_keepUMI_intersect)"
   ]
  },
  {
   "cell_type": "code",
   "execution_count": null,
   "metadata": {},
   "outputs": [],
   "source": [
    "high_var_genes <- getVarGenes_untilPCA(orig.intersect.seu,num_varFeatures = 5000)"
   ]
  },
  {
   "cell_type": "code",
   "execution_count": null,
   "metadata": {},
   "outputs": [],
   "source": [
    "orig.intersect.seu   <- getVarGenes_untilPCA(orig.intersect.seu,var_genes=high_var_genes,num_varFeatures = 5000)\n",
    "to10x.intersect.seu  <- getVarGenes_untilPCA(to10x.intersect.seu,var_genes=high_var_genes,num_varFeatures = 5000)\n",
    "todrop.intersect.seu <- getVarGenes_untilPCA(todrop.intersect.seu,var_genes=high_var_genes,num_varFeatures = 5000)\n",
    "to10x.keepUMI.seu    <- getVarGenes_untilPCA(to10x.keepUMI.seu,var_genes=high_var_genes,num_varFeatures = 5000)\n",
    "todrop.keepUMI.seu   <- getVarGenes_untilPCA(todrop.keepUMI.seu,var_genes=high_var_genes,num_varFeatures = 5000)"
   ]
  },
  {
   "cell_type": "code",
   "execution_count": null,
   "metadata": {},
   "outputs": [],
   "source": [
    "orig.intersect.seu   <- seurat_processing_UMAP(orig.intersect.seu,dimlimit = 20,res = 0.6)\n",
    "to10x.intersect.seu  <- seurat_processing_UMAP(to10x.intersect.seu,dimlimit = 20,res = 0.6)\n",
    "todrop.intersect.seu <- seurat_processing_UMAP(todrop.intersect.seu,dimlimit = 20,res = 0.6)\n",
    "to10x.keepUMI.seu  <- seurat_processing_UMAP(to10x.keepUMI.seu,dimlimit = 20,res = 0.6)\n",
    "todrop.keepUMI.seu <- seurat_processing_UMAP(todrop.keepUMI.seu,dimlimit = 20,res = 0.6)"
   ]
  },
  {
   "cell_type": "code",
   "execution_count": null,
   "metadata": {},
   "outputs": [],
   "source": [
    "store_dir <- \"seurat_rds/\"\n",
    "\n",
    "saveRDS(orig.intersect.seu,paste0(store_dir,\"Feb2021_Quartz_original_Seurat.rds\"))\n",
    "saveRDS(to10x.intersect.seu,paste0(store_dir,\"Feb2021_Quartz_to_10x_Seurat.rds\"))\n",
    "saveRDS(todrop.intersect.seu,paste0(store_dir,\"Feb2021_Quartz_to_drop_Seurat.rds\"))\n",
    "saveRDS(to10x.keepUMI.seu,paste0(store_dir,\"Feb2021_Quartz_to_10x_keepUMI_Seurat.rds\"))\n",
    "saveRDS(todrop.keepUMI.seu,paste0(store_dir,\"Feb2021_Quartz_to_drop_keepUMI_Seurat.rds\"))"
   ]
  },
  {
   "cell_type": "code",
   "execution_count": null,
   "metadata": {},
   "outputs": [],
   "source": [
    "#Fig drawing\n",
    "draw_umap(seu_base = orig.intersect.seu,\n",
    "          seu_to10x = to10x.intersect.seu,\n",
    "          seu_todrop = todrop.intersect.seu,\n",
    "          col_seed = 3,\n",
    "          w=6,\n",
    "          h=6,\n",
    "          is_pdf=T,\n",
    "          outdir = \"figure_out/\",\n",
    "          outname = \"Quartz_randUMI_samegene\")"
   ]
  },
  {
   "cell_type": "code",
   "execution_count": null,
   "metadata": {},
   "outputs": [],
   "source": [
    "all(colnames(orig.intersect.seu)==colnames(to10x.intersect.seu))"
   ]
  },
  {
   "cell_type": "code",
   "execution_count": null,
   "metadata": {},
   "outputs": [],
   "source": [
    "#Export CellCellDist\n",
    "print(\"10x\")\n",
    "v.vln.to10x <- get_dist_pcaspace_scatter(orig.intersect.seu,\n",
    "                                         n_cell_sampling = 50000,\n",
    "                          to10x.intersect.seu,\n",
    "                          outdir = \"figure_out/\",\n",
    "                          outname = \"Quartz_to_10x_randUMI_samegene_raw_0415\")\n",
    "df.scramble.to10x <- get_dist_pcaspace_scatter(orig.intersect.seu,\n",
    "                                            to10x.intersect.seu,\n",
    "                                            n_cell_sampling = 50000,\n",
    "                                            n_scramble_sampling=100,\n",
    "                                            scramble = T,\n",
    "                                            outdir = \"figure_out/\",\n",
    "                                            outname = \"Quartz_orig_scramble_samegene_raw_0415\")\n",
    "\n",
    "\n",
    "print(\"drop\")\n",
    "v.vln.todrop <- get_dist_pcaspace_scatter(orig.intersect.seu,\n",
    "                                          n_cell_sampling = 50000,\n",
    "                          todrop.intersect.seu,\n",
    "                          outdir = \"figure_out/\",\n",
    "                          outname = \"Quartz_to_drop_randUMI_samegene_raw_0415\")\n",
    "df.scramble.todrop <- get_dist_pcaspace_scatter(orig.intersect.seu,\n",
    "                                            todrop.intersect.seu,\n",
    "                                            n_cell_sampling = 50000,\n",
    "                                            n_scramble_sampling=100,\n",
    "                                            scramble = T,\n",
    "                                            outdir = \"figure_out/\",\n",
    "                                            outname = \"Quartz_orig_scramble_samegene_raw_0415\")\n",
    "\n",
    "\n",
    "print(\"10x_keep\")\n",
    "v.vln.to10x_keep <- get_dist_pcaspace_scatter(orig.intersect.seu,\n",
    "                                              n_cell_sampling = 50000,\n",
    "                          to10x.keepUMI.seu,\n",
    "                          outdir = \"figure_out/\",\n",
    "                          outname = \"Quartz_to_10x_keepUMI_samegene_raw_0415\")\n",
    "df.scramble.to10x_keep <- get_dist_pcaspace_scatter(orig.intersect.seu,\n",
    "                                            to10x.keepUMI.seu,\n",
    "                                            n_cell_sampling = 50000,\n",
    "                                            n_scramble_sampling=100,\n",
    "                                            scramble = T,\n",
    "                                            outdir = \"figure_out/\",\n",
    "                                            outname = \"Quartz_orig_scramble_samegene_raw_0415\")\n",
    "\n",
    "\n",
    "print(\"drop_keep\")\n",
    "v.vln.todrop_keep <- get_dist_pcaspace_scatter(orig.intersect.seu,\n",
    "                                               n_cell_sampling = 50000,\n",
    "                          todrop.keepUMI.seu,\n",
    "                          outdir = \"figure_out/\",\n",
    "                          outname = \"Quartz_to_drop_keepUMI_samegene_raw_0415\")\n",
    "df.scramble.drop_keep <- get_dist_pcaspace_scatter(orig.intersect.seu,\n",
    "                                            todrop.keepUMI.seu,\n",
    "                                            n_cell_sampling = 50000,\n",
    "                                            n_scramble_sampling=100,\n",
    "                                            scramble = T,\n",
    "                                            outdir = \"figure_out/\",\n",
    "                                            outname = \"Quartz_orig_scramble_samegene_raw_0415\")\n"
   ]
  },
  {
   "cell_type": "code",
   "execution_count": null,
   "metadata": {},
   "outputs": [],
   "source": []
  }
 ],
 "metadata": {
  "kernelspec": {
   "display_name": "R4",
   "language": "R",
   "name": "ir"
  },
  "language_info": {
   "codemirror_mode": "r",
   "file_extension": ".r",
   "mimetype": "text/x-r-source",
   "name": "R",
   "pygments_lexer": "r",
   "version": "4.2.1"
  }
 },
 "nbformat": 4,
 "nbformat_minor": 4
}
