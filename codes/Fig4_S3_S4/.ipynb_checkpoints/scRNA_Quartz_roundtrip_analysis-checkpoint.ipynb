{
 "cells": [
  {
   "cell_type": "code",
   "execution_count": 42,
   "id": "2757d812-cf07-4b1b-b4ac-084d88d02f10",
   "metadata": {
    "execution": {
     "iopub.execute_input": "2022-08-20T17:38:27.190033Z",
     "iopub.status.busy": "2022-08-20T17:38:27.188921Z",
     "iopub.status.idle": "2022-08-20T17:38:28.033068Z",
     "shell.execute_reply": "2022-08-20T17:38:28.031944Z"
    },
    "tags": []
   },
   "outputs": [],
   "source": [
    "library(Seurat)\n",
    "library(Matrix)\n",
    "library(tidyverse)\n",
    "\n",
    "source(\"/home/ha5656/work/barista/paper_data/R_fig_script/src/sc_preprocess.R\")"
   ]
  },
  {
   "cell_type": "code",
   "execution_count": 43,
   "id": "e0d96dc5-7b40-4eca-94cd-c3460f856c53",
   "metadata": {
    "execution": {
     "iopub.execute_input": "2022-08-20T17:38:28.035551Z",
     "iopub.status.busy": "2022-08-20T17:38:28.034650Z",
     "iopub.status.idle": "2022-08-20T17:38:31.686300Z",
     "shell.execute_reply": "2022-08-20T17:38:31.685027Z"
    },
    "tags": []
   },
   "outputs": [],
   "source": [
    "dge_roundtrip.p10 <- read_dge_drop(\"/home/ha5656/work/Interstellar_test/REVISION_RND1//round_trip/analysis//Quartz//plate10//Quartz2_plate10.dge.txt.gz\")\n",
    "dge_roundtrip.p3  <- read_dge_drop(\"/home/ha5656/work/Interstellar_test/REVISION_RND1//round_trip/analysis//Quartz//plate3/Quartz2_plate3.dge.txt.gz\")\n",
    "dge_roundtrip.p4  <- read_dge_drop(\"/home/ha5656/work/Interstellar_test/REVISION_RND1//round_trip/analysis//Quartz//plate4//Quartz2_plate4.dge.txt.gz\")\n",
    "\n",
    "colnames(dge_roundtrip.p10) <- paste0(\"p10_\",colnames(dge_roundtrip.p10))\n",
    "colnames(dge_roundtrip.p3) <- paste0(\"p3_\",colnames(dge_roundtrip.p3))\n",
    "colnames(dge_roundtrip.p4) <- paste0(\"p4_\",colnames(dge_roundtrip.p4))\n",
    "\n",
    "use_genes <- intersect(rownames(dge_roundtrip.p10),intersect(rownames(dge_roundtrip.p3),rownames(dge_roundtrip.p4)))\n",
    "dge_roundtrip.p10 <- dge_roundtrip.p10[use_genes,]\n",
    "dge_roundtrip.p3 <- dge_roundtrip.p3[use_genes,]\n",
    "dge_roundtrip.p4 <- dge_roundtrip.p4[use_genes,]\n",
    "\n",
    "dge_roundtrip <- cbind(dge_roundtrip.p10,dge_roundtrip.p3,dge_roundtrip.p4)"
   ]
  },
  {
   "cell_type": "code",
   "execution_count": 44,
   "id": "d42cf98f-6d63-4e2b-aabc-8843b8342b08",
   "metadata": {
    "execution": {
     "iopub.execute_input": "2022-08-20T17:38:31.688857Z",
     "iopub.status.busy": "2022-08-20T17:38:31.687962Z",
     "iopub.status.idle": "2022-08-20T17:38:31.803298Z",
     "shell.execute_reply": "2022-08-20T17:38:31.802268Z"
    },
    "tags": []
   },
   "outputs": [],
   "source": [
    "dge_base   <- readRDS(\"/home/ha5656/work/barista/paper_data/R_fig_script//intermediate_dataset//dge_Feb2021/vFeb2021_Quartz_original_rawdge.rds\")"
   ]
  },
  {
   "cell_type": "code",
   "execution_count": 45,
   "id": "a3ff12d4-a3d9-4f17-8e92-66a077a3230d",
   "metadata": {
    "execution": {
     "iopub.execute_input": "2022-08-20T17:38:31.805730Z",
     "iopub.status.busy": "2022-08-20T17:38:31.804850Z",
     "iopub.status.idle": "2022-08-20T17:38:31.814670Z",
     "shell.execute_reply": "2022-08-20T17:38:31.813695Z"
    },
    "tags": []
   },
   "outputs": [
    {
     "data": {
      "text/html": [
       "<style>\n",
       ".list-inline {list-style: none; margin:0; padding: 0}\n",
       ".list-inline>li {display: inline-block}\n",
       ".list-inline>li:not(:last-child)::after {content: \"\\00b7\"; padding: 0 .5ex}\n",
       "</style>\n",
       "<ol class=list-inline><li>'p10_GGCGAGAGGTTATT'</li><li>'p10_TAGTGAGCTAGTCA'</li><li>'p10_GAAGCATAGGAGAA'</li><li>'p10_GCCTTCCAATAGTT'</li><li>'p10_AACAGTACCTGCGG'</li><li>'p10_CATCAATGCGGCAA'</li></ol>\n"
      ],
      "text/latex": [
       "\\begin{enumerate*}\n",
       "\\item 'p10\\_GGCGAGAGGTTATT'\n",
       "\\item 'p10\\_TAGTGAGCTAGTCA'\n",
       "\\item 'p10\\_GAAGCATAGGAGAA'\n",
       "\\item 'p10\\_GCCTTCCAATAGTT'\n",
       "\\item 'p10\\_AACAGTACCTGCGG'\n",
       "\\item 'p10\\_CATCAATGCGGCAA'\n",
       "\\end{enumerate*}\n"
      ],
      "text/markdown": [
       "1. 'p10_GGCGAGAGGTTATT'\n",
       "2. 'p10_TAGTGAGCTAGTCA'\n",
       "3. 'p10_GAAGCATAGGAGAA'\n",
       "4. 'p10_GCCTTCCAATAGTT'\n",
       "5. 'p10_AACAGTACCTGCGG'\n",
       "6. 'p10_CATCAATGCGGCAA'\n",
       "\n",
       "\n"
      ],
      "text/plain": [
       "[1] \"p10_GGCGAGAGGTTATT\" \"p10_TAGTGAGCTAGTCA\" \"p10_GAAGCATAGGAGAA\"\n",
       "[4] \"p10_GCCTTCCAATAGTT\" \"p10_AACAGTACCTGCGG\" \"p10_CATCAATGCGGCAA\""
      ]
     },
     "metadata": {},
     "output_type": "display_data"
    }
   ],
   "source": [
    "colnames(dge_roundtrip) %>% head"
   ]
  },
  {
   "cell_type": "code",
   "execution_count": 46,
   "id": "8224fce4-a5fe-44ba-9d1f-4b2391b1d9af",
   "metadata": {
    "execution": {
     "iopub.execute_input": "2022-08-20T17:38:34.145763Z",
     "iopub.status.busy": "2022-08-20T17:38:34.144828Z",
     "iopub.status.idle": "2022-08-20T17:38:34.162766Z",
     "shell.execute_reply": "2022-08-20T17:38:34.161776Z"
    },
    "tags": []
   },
   "outputs": [],
   "source": [
    "bclist_fwd <- read.table(\"/home/ha5656/work/Interstellar_test/REVISION_RND1/round_trip/bc_correspo/Quartz/roundtrip/fwd_merged.txv\",header=F)\n",
    "bclist_rev <- read.table(\"/home/ha5656/work/Interstellar_test/REVISION_RND1/round_trip/bc_correspo/Quartz//roundtrip/rev_merged.txv\",header=F)"
   ]
  },
  {
   "cell_type": "code",
   "execution_count": 47,
   "id": "4f3f2a99-c4e6-41d2-96a1-c4828c741d55",
   "metadata": {
    "execution": {
     "iopub.execute_input": "2022-08-20T17:38:35.638667Z",
     "iopub.status.busy": "2022-08-20T17:38:35.637795Z",
     "iopub.status.idle": "2022-08-20T17:38:35.734221Z",
     "shell.execute_reply": "2022-08-20T17:38:35.733213Z"
    },
    "tags": []
   },
   "outputs": [],
   "source": [
    "bclist <- merge(bclist_fwd,bclist_rev,by.x=2,by.y=1)"
   ]
  },
  {
   "cell_type": "code",
   "execution_count": 49,
   "id": "a1d930ab-8384-4da0-81be-7416d3e2bca3",
   "metadata": {
    "execution": {
     "iopub.execute_input": "2022-08-20T17:38:42.839736Z",
     "iopub.status.busy": "2022-08-20T17:38:42.838778Z",
     "iopub.status.idle": "2022-08-20T17:38:42.954811Z",
     "shell.execute_reply": "2022-08-20T17:38:42.953821Z"
    },
    "tags": []
   },
   "outputs": [
    {
     "data": {
      "text/html": [
       "<table class=\"dataframe\">\n",
       "<caption>A data.frame: 6 × 3</caption>\n",
       "<thead>\n",
       "\t<tr><th></th><th scope=col>V2</th><th scope=col>V1</th><th scope=col>V2.y</th></tr>\n",
       "\t<tr><th></th><th scope=col>&lt;chr&gt;</th><th scope=col>&lt;chr&gt;</th><th scope=col>&lt;chr&gt;</th></tr>\n",
       "</thead>\n",
       "<tbody>\n",
       "\t<tr><th scope=row>1</th><td>AAAAACGTGGC</td><td>p3_ACAACATGCTCCTA </td><td>p3_TTGGAACCTTGCCG </td></tr>\n",
       "\t<tr><th scope=row>2</th><td>AAAAAGCTTAA</td><td>p4_GGTCGGTCCATCAT </td><td>p4_ATCGGATAAGATGC </td></tr>\n",
       "\t<tr><th scope=row>3</th><td>AAAACCTACAA</td><td>p4_AGTAACGGTTGGTA </td><td>p4_CCTCCTGAATAGAC </td></tr>\n",
       "\t<tr><th scope=row>4</th><td>AAAAGGGTTGA</td><td>p10_ACGGTTCAGATAGG</td><td>p10_CCGGATGCACTGTT</td></tr>\n",
       "\t<tr><th scope=row>5</th><td>AAAAGGTCTAC</td><td>p3_ATGAGCGCATATCA </td><td>p3_GAGAGGCGACACAA </td></tr>\n",
       "\t<tr><th scope=row>6</th><td>AAAATGAAGTT</td><td>p10_GAGACAAGCGATAA</td><td>p10_GCTAATTCCACTCG</td></tr>\n",
       "</tbody>\n",
       "</table>\n"
      ],
      "text/latex": [
       "A data.frame: 6 × 3\n",
       "\\begin{tabular}{r|lll}\n",
       "  & V2 & V1 & V2.y\\\\\n",
       "  & <chr> & <chr> & <chr>\\\\\n",
       "\\hline\n",
       "\t1 & AAAAACGTGGC & p3\\_ACAACATGCTCCTA  & p3\\_TTGGAACCTTGCCG \\\\\n",
       "\t2 & AAAAAGCTTAA & p4\\_GGTCGGTCCATCAT  & p4\\_ATCGGATAAGATGC \\\\\n",
       "\t3 & AAAACCTACAA & p4\\_AGTAACGGTTGGTA  & p4\\_CCTCCTGAATAGAC \\\\\n",
       "\t4 & AAAAGGGTTGA & p10\\_ACGGTTCAGATAGG & p10\\_CCGGATGCACTGTT\\\\\n",
       "\t5 & AAAAGGTCTAC & p3\\_ATGAGCGCATATCA  & p3\\_GAGAGGCGACACAA \\\\\n",
       "\t6 & AAAATGAAGTT & p10\\_GAGACAAGCGATAA & p10\\_GCTAATTCCACTCG\\\\\n",
       "\\end{tabular}\n"
      ],
      "text/markdown": [
       "\n",
       "A data.frame: 6 × 3\n",
       "\n",
       "| <!--/--> | V2 &lt;chr&gt; | V1 &lt;chr&gt; | V2.y &lt;chr&gt; |\n",
       "|---|---|---|---|\n",
       "| 1 | AAAAACGTGGC | p3_ACAACATGCTCCTA  | p3_TTGGAACCTTGCCG  |\n",
       "| 2 | AAAAAGCTTAA | p4_GGTCGGTCCATCAT  | p4_ATCGGATAAGATGC  |\n",
       "| 3 | AAAACCTACAA | p4_AGTAACGGTTGGTA  | p4_CCTCCTGAATAGAC  |\n",
       "| 4 | AAAAGGGTTGA | p10_ACGGTTCAGATAGG | p10_CCGGATGCACTGTT |\n",
       "| 5 | AAAAGGTCTAC | p3_ATGAGCGCATATCA  | p3_GAGAGGCGACACAA  |\n",
       "| 6 | AAAATGAAGTT | p10_GAGACAAGCGATAA | p10_GCTAATTCCACTCG |\n",
       "\n"
      ],
      "text/plain": [
       "  V2          V1                 V2.y              \n",
       "1 AAAAACGTGGC p3_ACAACATGCTCCTA  p3_TTGGAACCTTGCCG \n",
       "2 AAAAAGCTTAA p4_GGTCGGTCCATCAT  p4_ATCGGATAAGATGC \n",
       "3 AAAACCTACAA p4_AGTAACGGTTGGTA  p4_CCTCCTGAATAGAC \n",
       "4 AAAAGGGTTGA p10_ACGGTTCAGATAGG p10_CCGGATGCACTGTT\n",
       "5 AAAAGGTCTAC p3_ATGAGCGCATATCA  p3_GAGAGGCGACACAA \n",
       "6 AAAATGAAGTT p10_GAGACAAGCGATAA p10_GCTAATTCCACTCG"
      ]
     },
     "metadata": {},
     "output_type": "display_data"
    }
   ],
   "source": [
    "head(bclist)"
   ]
  },
  {
   "cell_type": "code",
   "execution_count": 50,
   "id": "a6a3dc4a-3d5a-44ea-bf0c-8b4c2bcb796f",
   "metadata": {
    "execution": {
     "iopub.execute_input": "2022-08-20T17:38:48.932460Z",
     "iopub.status.busy": "2022-08-20T17:38:48.931501Z",
     "iopub.status.idle": "2022-08-20T17:38:48.939714Z",
     "shell.execute_reply": "2022-08-20T17:38:48.938728Z"
    },
    "tags": []
   },
   "outputs": [],
   "source": [
    "colnames(bclist) <- c(\"sim\",\"orig\",\"roundtrip\")"
   ]
  },
  {
   "cell_type": "code",
   "execution_count": 51,
   "id": "72cfd3f9-e26d-4707-8ecf-861ca0362d1e",
   "metadata": {
    "execution": {
     "iopub.execute_input": "2022-08-20T17:38:54.590097Z",
     "iopub.status.busy": "2022-08-20T17:38:54.589010Z",
     "iopub.status.idle": "2022-08-20T17:38:54.615969Z",
     "shell.execute_reply": "2022-08-20T17:38:54.614968Z"
    },
    "tags": []
   },
   "outputs": [],
   "source": [
    "# colnames(dge_base) <- gsub(\"-1\",\"\",colnames(dge_base))\n",
    "# colnames(dge_roundtrip) <- gsub(\"-1\",\"\",colnames(dge_roundtrip))\n",
    "dge_new <- refresh_dge(dge_roundtrip,bclist$orig,bclist$roundtrip)"
   ]
  },
  {
   "cell_type": "code",
   "execution_count": 54,
   "id": "2d25a08f-d32f-4bcd-b09d-b822c844dafd",
   "metadata": {
    "execution": {
     "iopub.execute_input": "2022-08-20T17:39:10.104857Z",
     "iopub.status.busy": "2022-08-20T17:39:10.103883Z",
     "iopub.status.idle": "2022-08-20T17:39:10.122979Z",
     "shell.execute_reply": "2022-08-20T17:39:10.121835Z"
    },
    "tags": []
   },
   "outputs": [
    {
     "data": {
      "text/html": [
       "<style>\n",
       ".list-inline {list-style: none; margin:0; padding: 0}\n",
       ".list-inline>li {display: inline-block}\n",
       ".list-inline>li:not(:last-child)::after {content: \"\\00b7\"; padding: 0 .5ex}\n",
       "</style>\n",
       "<ol class=list-inline><li>10894</li><li>1152</li></ol>\n"
      ],
      "text/latex": [
       "\\begin{enumerate*}\n",
       "\\item 10894\n",
       "\\item 1152\n",
       "\\end{enumerate*}\n"
      ],
      "text/markdown": [
       "1. 10894\n",
       "2. 1152\n",
       "\n",
       "\n"
      ],
      "text/plain": [
       "[1] 10894  1152"
      ]
     },
     "metadata": {},
     "output_type": "display_data"
    }
   ],
   "source": [
    "dim(dge_new)"
   ]
  },
  {
   "cell_type": "code",
   "execution_count": 33,
   "id": "a8f917d5-bc78-4f10-bd0b-93814ddbeb46",
   "metadata": {
    "execution": {
     "iopub.execute_input": "2022-08-20T17:28:41.002127Z",
     "iopub.status.busy": "2022-08-20T17:28:41.001082Z",
     "iopub.status.idle": "2022-08-20T17:28:41.011451Z",
     "shell.execute_reply": "2022-08-20T17:28:41.010470Z"
    },
    "tags": []
   },
   "outputs": [
    {
     "data": {
      "text/html": [
       "<style>\n",
       ".list-inline {list-style: none; margin:0; padding: 0}\n",
       ".list-inline>li {display: inline-block}\n",
       ".list-inline>li:not(:last-child)::after {content: \"\\00b7\"; padding: 0 .5ex}\n",
       "</style>\n",
       "<ol class=list-inline><li>11085</li><li>1152</li></ol>\n"
      ],
      "text/latex": [
       "\\begin{enumerate*}\n",
       "\\item 11085\n",
       "\\item 1152\n",
       "\\end{enumerate*}\n"
      ],
      "text/markdown": [
       "1. 11085\n",
       "2. 1152\n",
       "\n",
       "\n"
      ],
      "text/plain": [
       "[1] 11085  1152"
      ]
     },
     "metadata": {},
     "output_type": "display_data"
    }
   ],
   "source": [
    "dim(dge_base)"
   ]
  },
  {
   "cell_type": "code",
   "execution_count": 55,
   "id": "cfe898af-c05c-4d0d-a6e2-c1fe1688e30f",
   "metadata": {
    "execution": {
     "iopub.execute_input": "2022-08-20T17:39:15.488820Z",
     "iopub.status.busy": "2022-08-20T17:39:15.487857Z",
     "iopub.status.idle": "2022-08-20T17:39:15.962034Z",
     "shell.execute_reply": "2022-08-20T17:39:15.960938Z"
    },
    "tags": []
   },
   "outputs": [
    {
     "name": "stdout",
     "output_type": "stream",
     "text": [
      "[1] \"mt-Co1\"  \"mt-Cytb\" \"mt-Nd1\"  \"mt-Nd2\"  \"mt-Nd4\"  \"mt-Nd5\"  \"mt-Nd6\" \n"
     ]
    },
    {
     "name": "stderr",
     "output_type": "stream",
     "text": [
      "Parameters:\n",
      "\n",
      "min_features: 200\n",
      "\n",
      "num_feature_rna_min: 200\n",
      "\n",
      "num_feature_rna_max: 5000\n",
      "\n",
      "num_feature_rna_min 200\n",
      "\n",
      "mito_pattern ^mt-\n",
      "\n",
      "percent_mito 20\n",
      "\n",
      "\n",
      "\n",
      "Number of cells after QCing original: 1048\n",
      "\n",
      "Number of cells after taking intersection: 1048\n",
      "\n"
     ]
    }
   ],
   "source": [
    "dge_target_list <- list(dge_new)\n",
    "use_cells <- get_cells_used(dge_base,dge_target_list,percent_mito = 20)\n",
    "\n",
    "dge_base_intersect   <- dge_base[,use_cells]\n",
    "dge_new_intersect  <- dge_new[,use_cells]"
   ]
  },
  {
   "cell_type": "code",
   "execution_count": 56,
   "id": "34a3ec12-b501-4473-97f8-5dc13af6f9dc",
   "metadata": {
    "execution": {
     "iopub.execute_input": "2022-08-20T17:39:19.641812Z",
     "iopub.status.busy": "2022-08-20T17:39:19.640863Z",
     "iopub.status.idle": "2022-08-20T17:39:19.654499Z",
     "shell.execute_reply": "2022-08-20T17:39:19.653506Z"
    },
    "tags": []
   },
   "outputs": [
    {
     "data": {
      "text/html": [
       "1048"
      ],
      "text/latex": [
       "1048"
      ],
      "text/markdown": [
       "1048"
      ],
      "text/plain": [
       "[1] 1048"
      ]
     },
     "metadata": {},
     "output_type": "display_data"
    },
    {
     "data": {
      "text/html": [
       "1048"
      ],
      "text/latex": [
       "1048"
      ],
      "text/markdown": [
       "1048"
      ],
      "text/plain": [
       "[1] 1048"
      ]
     },
     "metadata": {},
     "output_type": "display_data"
    }
   ],
   "source": [
    "# intersection\n",
    "ncol(dge_base_intersect)\n",
    "ncol(dge_new_intersect)"
   ]
  },
  {
   "cell_type": "code",
   "execution_count": 57,
   "id": "4d6ee569-a23d-43e6-9e0c-524390cd1b62",
   "metadata": {
    "execution": {
     "iopub.execute_input": "2022-08-20T17:39:28.223893Z",
     "iopub.status.busy": "2022-08-20T17:39:28.222904Z",
     "iopub.status.idle": "2022-08-20T17:39:28.337143Z",
     "shell.execute_reply": "2022-08-20T17:39:28.335962Z"
    },
    "tags": []
   },
   "outputs": [],
   "source": [
    "orig.intersect.seu   <- CreateSeuratObject(dge_base_intersect)\n",
    "roundtrip.seu    <- CreateSeuratObject(dge_new_intersect)"
   ]
  },
  {
   "cell_type": "code",
   "execution_count": 58,
   "id": "d55f8dbc-4823-4d0e-89a0-7cfad47e0014",
   "metadata": {
    "execution": {
     "iopub.execute_input": "2022-08-20T17:39:28.584651Z",
     "iopub.status.busy": "2022-08-20T17:39:28.583740Z",
     "iopub.status.idle": "2022-08-20T17:39:30.130737Z",
     "shell.execute_reply": "2022-08-20T17:39:30.129505Z"
    },
    "tags": []
   },
   "outputs": [],
   "source": [
    "high_var_genes <- getVarGenes_untilPCA(orig.intersect.seu,num_varFeatures = 5000)"
   ]
  },
  {
   "cell_type": "code",
   "execution_count": 59,
   "id": "5cdb4291-9758-4f28-89ee-b182ce11b8c6",
   "metadata": {
    "execution": {
     "iopub.execute_input": "2022-08-20T17:39:31.762773Z",
     "iopub.status.busy": "2022-08-20T17:39:31.761828Z",
     "iopub.status.idle": "2022-08-20T17:39:35.934971Z",
     "shell.execute_reply": "2022-08-20T17:39:35.932092Z"
    },
    "tags": []
   },
   "outputs": [
    {
     "name": "stderr",
     "output_type": "stream",
     "text": [
      "Warning message:\n",
      "“Not all features provided are in this Assay object, removing the following feature(s): Rnase2a, Dscaml1, Mcm10, H19, Gm9947, Atp1b2, Tg, Igdcc4, Spink2, P2ry6, Otof, Tspoap1, Hoxd3os1, Pdzk1ip1, Sntg2, Bst1, Tex15, Pde9a, Gucy1a2, Map3k20, Tuba8, Lrr1, Hist1h3c, 4831440E17Rik, Npr3, Pla2g4f, BC030867, Selp, AY074887, BB123696, Ctgf, Epha1, Taf9b, 4930455G09Rik, Prdm16, Gpc4, Ceacam1, Gm49087, Kcnip3, Slc33a1, Syne3, Bcar1, Crebl2, Ccdc18, Kcnmb4os2, Cyp7b1, Grsf1, Kcnab1, Ptprm, Ticrr, 1190002N15Rik, 4930432K21Rik, B230317F23Rik, Brca1, Cort, Dag1, Dmtn, Dusp14, Gm11827, Gm12500, Gm13179, Gm20512, Gm26648, Gm26793, Gm28523, Gm41307, Gm42726, Gm48623, Gsdme, Hpcal1, Ifit3, Itm2c, Lrrc73, Npas2, Odf3b, Poc1b, Sp2, Tmem82, Vps33b, Wdr81, Zfp503, Abcd2, Ctps, Dcst2, Dnah2os, Fndc4, Gcsam, Ghdc, Gm10093, Gm13178, Gm16117, Gm26636, Gm2a, Gpr162, Gucy1a1, Mindy4, Mrpl9, Psrc1, Rad9b, Rbm46, Rsph14, Slc25a17, Slc3a1, St3gal5, Stard6, Trhde, Vma21-ps, Zfp37, Trpm4, 0610006L08Rik, A830035O19Rik, AC130815.3, Arl8b, C730034F03Rik, Capns2, Car9, Cep295nl, Coq8a, Defb25, Dram1, Dzip1l, Epdr1, Fam198a, Gm12089, Gm26542, Gm29100, Kcnab3, Mthfd2l, Oaf, Pex11a, Phactr4, Prkg2, Ptprg, Rab13, Rps6ka2, Steap1, Tbc1d22a, Zfp984, 1110059E24Rik, Camk1d, D230017M19Rik, Duox1, Fam171a1, Fat4, Gm15491, Gm16861, Gm38403, Hecw2, Hgh1, Hoxa2, Kmt5c, Nckap5l, Nphp4, Pygo1, Slc25a13, Cacnb1, Gm11520, Gm34961, Hexim2, Kif3b, March8, Mpeg1, Otud6b, Ptger4, S1pr2”\n"
     ]
    }
   ],
   "source": [
    "orig.intersect.seu   <- getVarGenes_untilPCA(orig.intersect.seu,var_genes=high_var_genes,num_varFeatures = 5000)\n",
    "roundtrip.seu    <- getVarGenes_untilPCA(roundtrip.seu,var_genes=high_var_genes,num_varFeatures = 5000)"
   ]
  },
  {
   "cell_type": "code",
   "execution_count": 60,
   "id": "9acd8334-2d44-4569-9d86-cb939397960e",
   "metadata": {
    "execution": {
     "iopub.execute_input": "2022-08-20T17:39:35.941233Z",
     "iopub.status.busy": "2022-08-20T17:39:35.938934Z",
     "iopub.status.idle": "2022-08-20T17:39:53.063750Z",
     "shell.execute_reply": "2022-08-20T17:39:53.062624Z"
    },
    "tags": []
   },
   "outputs": [
    {
     "name": "stderr",
     "output_type": "stream",
     "text": [
      "Warning message:\n",
      "“The default method for RunUMAP has changed from calling Python UMAP via reticulate to the R-native UWOT using the cosine metric\n",
      "To use Python UMAP via reticulate, set umap.method to 'umap-learn' and metric to 'correlation'\n",
      "This message will be shown once per session”\n"
     ]
    }
   ],
   "source": [
    "orig.intersect.seu   <- seurat_processing_UMAP(orig.intersect.seu,dimlimit = 20,res = 0.6)\n",
    "roundtrip.seu  <- seurat_processing_UMAP(roundtrip.seu,dimlimit = 20,res = 0.6)"
   ]
  },
  {
   "cell_type": "code",
   "execution_count": 61,
   "id": "a21bb106-308b-41b0-bfc1-cb0584c4b1cc",
   "metadata": {
    "execution": {
     "iopub.execute_input": "2022-08-20T17:39:54.418655Z",
     "iopub.status.busy": "2022-08-20T17:39:54.417751Z",
     "iopub.status.idle": "2022-08-20T17:40:00.561827Z",
     "shell.execute_reply": "2022-08-20T17:40:00.560603Z"
    },
    "tags": []
   },
   "outputs": [],
   "source": [
    "store_dir <- \"/home/ha5656/work/Interstellar_test/REVISION_RND1//round_trip/intermediate_data/\"\n",
    "\n",
    "saveRDS(orig.intersect.seu, paste0(store_dir,\"Aug2022_processed_Quartz_original_Seurat.intersectionWithRndTrip.rds\"))\n",
    "saveRDS(roundtrip.seu, paste0(store_dir,\"Aug2022_processed_Quartz_roundTrip_Seurat.rds\"))"
   ]
  },
  {
   "cell_type": "markdown",
   "id": "277214dd-79c8-4114-b410-10e2e3fd6410",
   "metadata": {},
   "source": [
    "#### Use cell state labels identified in the original seurat obj used in Figure 4"
   ]
  },
  {
   "cell_type": "code",
   "execution_count": 62,
   "id": "e5270e46-9ae2-44dd-9b7b-cab08803cf2e",
   "metadata": {
    "execution": {
     "iopub.execute_input": "2022-08-20T17:40:08.022785Z",
     "iopub.status.busy": "2022-08-20T17:40:08.021817Z",
     "iopub.status.idle": "2022-08-20T17:40:08.579137Z",
     "shell.execute_reply": "2022-08-20T17:40:08.577935Z"
    },
    "tags": []
   },
   "outputs": [],
   "source": [
    "orig.fig4.seu <- readRDS(\"~/work/barista/paper_data/R_fig_script/intermediate_dataset//seurat_rds_Feb2021/Feb2021_Quartz_original_Seurat.rds\")"
   ]
  },
  {
   "cell_type": "code",
   "execution_count": 63,
   "id": "54beaeac-da76-46ae-8d9e-8646005d6a7d",
   "metadata": {
    "execution": {
     "iopub.execute_input": "2022-08-20T17:40:11.299635Z",
     "iopub.status.busy": "2022-08-20T17:40:11.298731Z",
     "iopub.status.idle": "2022-08-20T17:40:11.311893Z",
     "shell.execute_reply": "2022-08-20T17:40:11.310915Z"
    },
    "tags": []
   },
   "outputs": [],
   "source": [
    "celltype_v_fig4 <- orig.fig4.seu$seurat_clusters\n",
    "celltype_v_fig4 <- celltype_v_fig4[colnames(orig.intersect.seu)]"
   ]
  },
  {
   "cell_type": "code",
   "execution_count": 64,
   "id": "c1aaeb87-d830-4825-87a2-fa9ac2d19dce",
   "metadata": {
    "execution": {
     "iopub.execute_input": "2022-08-20T17:40:11.577510Z",
     "iopub.status.busy": "2022-08-20T17:40:11.576657Z",
     "iopub.status.idle": "2022-08-20T17:40:11.587616Z",
     "shell.execute_reply": "2022-08-20T17:40:11.586669Z"
    },
    "tags": []
   },
   "outputs": [
    {
     "data": {
      "text/html": [
       "<style>\n",
       ".dl-inline {width: auto; margin:0; padding: 0}\n",
       ".dl-inline>dt, .dl-inline>dd {float: none; width: auto; display: inline-block}\n",
       ".dl-inline>dt::after {content: \":\\0020\"; padding-right: .5ex}\n",
       ".dl-inline>dt:not(:first-of-type) {padding-left: .5ex}\n",
       "</style><dl class=dl-inline><dt>p10_AGTAACGGTTGGTA</dt><dd>2</dd><dt>p10_GTTCGCAGGCAGAT</dt><dd>2</dd><dt>p10_GTTAGGAAGTTCAC</dt><dd>2</dd><dt>p10_CATCAATGCGGCAA</dt><dd>2</dd><dt>p10_GACCTGTCATTAGA</dt><dd>4</dd><dt>p10_GCATCCTTATCCTT</dt><dd>6</dd></dl>\n",
       "\n",
       "<details>\n",
       "\t<summary style=display:list-item;cursor:pointer>\n",
       "\t\t<strong>Levels</strong>:\n",
       "\t</summary>\n",
       "\t<style>\n",
       "\t.list-inline {list-style: none; margin:0; padding: 0}\n",
       "\t.list-inline>li {display: inline-block}\n",
       "\t.list-inline>li:not(:last-child)::after {content: \"\\00b7\"; padding: 0 .5ex}\n",
       "\t</style>\n",
       "\t<ol class=list-inline><li>'0'</li><li>'1'</li><li>'2'</li><li>'3'</li><li>'4'</li><li>'5'</li><li>'6'</li><li>'7'</li></ol>\n",
       "</details>"
      ],
      "text/latex": [
       "\\begin{description*}\n",
       "\\item[p10\\textbackslash{}\\_AGTAACGGTTGGTA] 2\n",
       "\\item[p10\\textbackslash{}\\_GTTCGCAGGCAGAT] 2\n",
       "\\item[p10\\textbackslash{}\\_GTTAGGAAGTTCAC] 2\n",
       "\\item[p10\\textbackslash{}\\_CATCAATGCGGCAA] 2\n",
       "\\item[p10\\textbackslash{}\\_GACCTGTCATTAGA] 4\n",
       "\\item[p10\\textbackslash{}\\_GCATCCTTATCCTT] 6\n",
       "\\end{description*}\n",
       "\n",
       "\\emph{Levels}: \\begin{enumerate*}\n",
       "\\item '0'\n",
       "\\item '1'\n",
       "\\item '2'\n",
       "\\item '3'\n",
       "\\item '4'\n",
       "\\item '5'\n",
       "\\item '6'\n",
       "\\item '7'\n",
       "\\end{enumerate*}\n"
      ],
      "text/markdown": [
       "p10_AGTAACGGTTGGTA\n",
       ":   2p10_GTTCGCAGGCAGAT\n",
       ":   2p10_GTTAGGAAGTTCAC\n",
       ":   2p10_CATCAATGCGGCAA\n",
       ":   2p10_GACCTGTCATTAGA\n",
       ":   4p10_GCATCCTTATCCTT\n",
       ":   6\n",
       "\n",
       "\n",
       "**Levels**: 1. '0'\n",
       "2. '1'\n",
       "3. '2'\n",
       "4. '3'\n",
       "5. '4'\n",
       "6. '5'\n",
       "7. '6'\n",
       "8. '7'\n",
       "\n",
       "\n"
      ],
      "text/plain": [
       "p10_AGTAACGGTTGGTA p10_GTTCGCAGGCAGAT p10_GTTAGGAAGTTCAC p10_CATCAATGCGGCAA \n",
       "                 2                  2                  2                  2 \n",
       "p10_GACCTGTCATTAGA p10_GCATCCTTATCCTT \n",
       "                 4                  6 \n",
       "Levels: 0 1 2 3 4 5 6 7"
      ]
     },
     "metadata": {},
     "output_type": "display_data"
    }
   ],
   "source": [
    "head(celltype_v_fig4)"
   ]
  },
  {
   "cell_type": "code",
   "execution_count": 65,
   "id": "43afd602-9c0f-4723-848a-165fc1c13892",
   "metadata": {
    "execution": {
     "iopub.execute_input": "2022-08-20T17:40:26.036456Z",
     "iopub.status.busy": "2022-08-20T17:40:26.035362Z",
     "iopub.status.idle": "2022-08-20T17:40:26.045845Z",
     "shell.execute_reply": "2022-08-20T17:40:26.044867Z"
    }
   },
   "outputs": [
    {
     "data": {
      "text/html": [
       "1048"
      ],
      "text/latex": [
       "1048"
      ],
      "text/markdown": [
       "1048"
      ],
      "text/plain": [
       "[1] 1048"
      ]
     },
     "metadata": {},
     "output_type": "display_data"
    }
   ],
   "source": [
    "length(celltype_v_fig4)"
   ]
  },
  {
   "cell_type": "code",
   "execution_count": 66,
   "id": "f1b79b65-4185-4bee-9e3b-02ecb467eecd",
   "metadata": {
    "execution": {
     "iopub.execute_input": "2022-08-20T17:40:28.629684Z",
     "iopub.status.busy": "2022-08-20T17:40:28.628773Z",
     "iopub.status.idle": "2022-08-20T17:40:28.644504Z",
     "shell.execute_reply": "2022-08-20T17:40:28.643539Z"
    },
    "tags": []
   },
   "outputs": [
    {
     "data": {
      "text/html": [
       "<style>\n",
       ".list-inline {list-style: none; margin:0; padding: 0}\n",
       ".list-inline>li {display: inline-block}\n",
       ".list-inline>li:not(:last-child)::after {content: \"\\00b7\"; padding: 0 .5ex}\n",
       "</style>\n",
       "<ol class=list-inline><li>'p10_AGTAACGGTTGGTA'</li><li>'p10_GTTCGCAGGCAGAT'</li><li>'p10_GTTAGGAAGTTCAC'</li><li>'p10_CATCAATGCGGCAA'</li><li>'p10_GACCTGTCATTAGA'</li><li>'p10_GCATCCTTATCCTT'</li></ol>\n"
      ],
      "text/latex": [
       "\\begin{enumerate*}\n",
       "\\item 'p10\\_AGTAACGGTTGGTA'\n",
       "\\item 'p10\\_GTTCGCAGGCAGAT'\n",
       "\\item 'p10\\_GTTAGGAAGTTCAC'\n",
       "\\item 'p10\\_CATCAATGCGGCAA'\n",
       "\\item 'p10\\_GACCTGTCATTAGA'\n",
       "\\item 'p10\\_GCATCCTTATCCTT'\n",
       "\\end{enumerate*}\n"
      ],
      "text/markdown": [
       "1. 'p10_AGTAACGGTTGGTA'\n",
       "2. 'p10_GTTCGCAGGCAGAT'\n",
       "3. 'p10_GTTAGGAAGTTCAC'\n",
       "4. 'p10_CATCAATGCGGCAA'\n",
       "5. 'p10_GACCTGTCATTAGA'\n",
       "6. 'p10_GCATCCTTATCCTT'\n",
       "\n",
       "\n"
      ],
      "text/plain": [
       "[1] \"p10_AGTAACGGTTGGTA\" \"p10_GTTCGCAGGCAGAT\" \"p10_GTTAGGAAGTTCAC\"\n",
       "[4] \"p10_CATCAATGCGGCAA\" \"p10_GACCTGTCATTAGA\" \"p10_GCATCCTTATCCTT\""
      ]
     },
     "metadata": {},
     "output_type": "display_data"
    },
    {
     "data": {
      "text/html": [
       "<style>\n",
       ".list-inline {list-style: none; margin:0; padding: 0}\n",
       ".list-inline>li {display: inline-block}\n",
       ".list-inline>li:not(:last-child)::after {content: \"\\00b7\"; padding: 0 .5ex}\n",
       "</style>\n",
       "<ol class=list-inline><li>'p10_AGTAACGGTTGGTA'</li><li>'p10_GTTCGCAGGCAGAT'</li><li>'p10_GTTAGGAAGTTCAC'</li><li>'p10_CATCAATGCGGCAA'</li><li>'p10_GACCTGTCATTAGA'</li><li>'p10_GCATCCTTATCCTT'</li></ol>\n"
      ],
      "text/latex": [
       "\\begin{enumerate*}\n",
       "\\item 'p10\\_AGTAACGGTTGGTA'\n",
       "\\item 'p10\\_GTTCGCAGGCAGAT'\n",
       "\\item 'p10\\_GTTAGGAAGTTCAC'\n",
       "\\item 'p10\\_CATCAATGCGGCAA'\n",
       "\\item 'p10\\_GACCTGTCATTAGA'\n",
       "\\item 'p10\\_GCATCCTTATCCTT'\n",
       "\\end{enumerate*}\n"
      ],
      "text/markdown": [
       "1. 'p10_AGTAACGGTTGGTA'\n",
       "2. 'p10_GTTCGCAGGCAGAT'\n",
       "3. 'p10_GTTAGGAAGTTCAC'\n",
       "4. 'p10_CATCAATGCGGCAA'\n",
       "5. 'p10_GACCTGTCATTAGA'\n",
       "6. 'p10_GCATCCTTATCCTT'\n",
       "\n",
       "\n"
      ],
      "text/plain": [
       "[1] \"p10_AGTAACGGTTGGTA\" \"p10_GTTCGCAGGCAGAT\" \"p10_GTTAGGAAGTTCAC\"\n",
       "[4] \"p10_CATCAATGCGGCAA\" \"p10_GACCTGTCATTAGA\" \"p10_GCATCCTTATCCTT\""
      ]
     },
     "metadata": {},
     "output_type": "display_data"
    }
   ],
   "source": [
    "colnames(orig.intersect.seu) %>% head\n",
    "colnames(roundtrip.seu) %>% head"
   ]
  },
  {
   "cell_type": "code",
   "execution_count": 67,
   "id": "e047381c-0ccb-4e57-bfe4-c7cbf666fd38",
   "metadata": {
    "execution": {
     "iopub.execute_input": "2022-08-20T17:42:18.196412Z",
     "iopub.status.busy": "2022-08-20T17:42:18.161355Z",
     "iopub.status.idle": "2022-08-20T17:42:36.049170Z",
     "shell.execute_reply": "2022-08-20T17:42:36.047061Z"
    },
    "tags": []
   },
   "outputs": [],
   "source": [
    "#Fig drawing\n",
    "draw_umap(seu_base = orig.intersect.seu,\n",
    "          seu_to10x = orig.intersect.seu,\n",
    "          seu_todrop = roundtrip.seu,\n",
    "          col_seed = 3,\n",
    "          w=6,\n",
    "          h=6,\n",
    "          is_pdf=F,\n",
    "          celltype_v=celltype_v_fig4,\n",
    "          outdir = \"/home/ha5656/work/Interstellar_test/REVISION_RND1//round_trip/downstream_analysis/Quartz/\",\n",
    "          outname = \"Aug2022_Quartz_roundtrip\")"
   ]
  },
  {
   "cell_type": "code",
   "execution_count": 68,
   "id": "a2a7d515-841e-4b7f-b681-9791c1527d2c",
   "metadata": {
    "execution": {
     "iopub.execute_input": "2022-08-20T17:42:47.057735Z",
     "iopub.status.busy": "2022-08-20T17:42:47.056397Z",
     "iopub.status.idle": "2022-08-20T17:43:06.443762Z",
     "shell.execute_reply": "2022-08-20T17:43:06.442588Z"
    },
    "tags": []
   },
   "outputs": [
    {
     "name": "stdout",
     "output_type": "stream",
     "text": [
      "[1] \"start...\"\n",
      "[1] \"start sampling...\"\n"
     ]
    }
   ],
   "source": [
    "#Export CellCellDist\n",
    "v.vln.todrop <- get_dist_pcaspace_scatter(orig.intersect.seu,\n",
    "                                          roundtrip.seu,\n",
    "                                          outdir = \"/home/ha5656/work/Interstellar_test/REVISION_RND1/round_trip/downstream_analysis/Quartz/\",\n",
    "                                          outname = \"Aug2022_Quartz_roundtrip\")"
   ]
  },
  {
   "cell_type": "code",
   "execution_count": null,
   "id": "d1270579-0642-4215-9b1b-07fb6f23cce8",
   "metadata": {},
   "outputs": [],
   "source": []
  }
 ],
 "metadata": {
  "kernelspec": {
   "display_name": "R 4.1.1",
   "language": "R",
   "name": "ir411"
  },
  "language_info": {
   "codemirror_mode": "r",
   "file_extension": ".r",
   "mimetype": "text/x-r-source",
   "name": "R",
   "pygments_lexer": "r",
   "version": "4.1.1"
  }
 },
 "nbformat": 4,
 "nbformat_minor": 5
}
