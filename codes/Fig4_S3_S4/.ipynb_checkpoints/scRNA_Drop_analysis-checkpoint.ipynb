{
 "cells": [
  {
   "cell_type": "code",
   "execution_count": 3,
   "metadata": {},
   "outputs": [],
   "source": [
    "library(Seurat)\n",
    "library(Matrix)\n",
    "library(tidyverse)"
   ]
  },
  {
   "cell_type": "code",
   "execution_count": 4,
   "metadata": {},
   "outputs": [],
   "source": [
    "source(\"/home/ha5656/work/barista/paper_data/R_fig_script/src/sc_preprocess.R\")"
   ]
  },
  {
   "cell_type": "code",
   "execution_count": 5,
   "metadata": {},
   "outputs": [],
   "source": [
    "dge_base   <- readRDS(\"/home/ha5656/work/barista/paper_data/R_fig_script//intermediate_dataset//dge_Feb2021//vFeb2021_Drop_original_rawdge.rds\")\n",
    "dge_to10x  <- readRDS(\"/home/ha5656/work/barista/paper_data/R_fig_script//intermediate_dataset//dge_Feb2021//vFeb2021_Drop_to_10x_rawdge.rds\")\n",
    "dge_todrop <- readRDS(\"/home/ha5656/work/barista/paper_data/R_fig_script//intermediate_dataset//dge_Feb2021//vFeb2021_Drop_to_drop_rawdge.rds\")\n",
    "# dge_dwn90  <- readRDS(\"/home/ha5656/work/barista/paper_data/R_fig_script//intermediate_dataset//dge//Drop_original_down90_rawdge.rds\")\n",
    "# dge_dwn80  <- readRDS(\"/home/ha5656/work/barista/paper_data/R_fig_script//intermediate_dataset//dge//Drop_original_down80_rawdge.rds\")\n",
    "# dge_dwn70  <- readRDS(\"/home/ha5656/work/barista/paper_data/R_fig_script//intermediate_dataset//dge//Drop_original_down70_rawdge.rds\")\n",
    "dge_to10x_keepUMI  <- readRDS(\"/home/ha5656/work/barista/paper_data/R_fig_script//intermediate_dataset//dge_Feb2021//vFeb2021_Drop_to_10x_keepUMI_rawdge.rds\")\n",
    "dge_todrop_keepUMI <- readRDS(\"/home/ha5656/work/barista/paper_data/R_fig_script//intermediate_dataset//dge_Feb2021//vFeb2021_Drop_to_drop_keepUMI_rawdge.rds\")\n"
   ]
  },
  {
   "cell_type": "code",
   "execution_count": 6,
   "metadata": {},
   "outputs": [
    {
     "data": {
      "text/html": [
       "13883"
      ],
      "text/latex": [
       "13883"
      ],
      "text/markdown": [
       "13883"
      ],
      "text/plain": [
       "[1] 13883"
      ]
     },
     "metadata": {},
     "output_type": "display_data"
    }
   ],
   "source": [
    "ncol(dge_base)"
   ]
  },
  {
   "cell_type": "code",
   "execution_count": 7,
   "metadata": {},
   "outputs": [],
   "source": [
    "bclist_to10x  <- read.table(\"/home/ha5661/work/barista/results/drop_to_10X_randomUMI_Dec2020/bclist_3.txt\",header=T)\n",
    "bclist_toDrop <- read.table(\"/home/ha5661/work/barista/results/drop_to_drop_randomUMI_Dec2020/bclist_3.txt\",header=T)\n",
    "bclist_to10x_keepUMI  <- read.table(\"/home/ha5661/work/barista/results/drop_to_10X_keepUMI_Dec2020/bclist_3.txt\",header=T); colnames(bclist_to10x_keepUMI) <- c(\"segment1.cellID\",\"exCellID\")\n",
    "bclist_toDrop_keepUMI <- read.table(\"/home/ha5661/work/barista/results/drop_to_drop_keepUMI_Dec2020/bclist_3.txt\",header=T)"
   ]
  },
  {
   "cell_type": "code",
   "execution_count": 8,
   "metadata": {},
   "outputs": [],
   "source": [
    "colnames(dge_to10x) <- gsub(\"-1\",\"\",colnames(dge_to10x))\n",
    "colnames(dge_to10x_keepUMI) <- gsub(\"-1\",\"\",colnames(dge_to10x_keepUMI))\n",
    "\n",
    "dge_to10x_new  <- refresh_dge(dge_to10x,bclist_to10x$segment1.cellID,bclist_to10x$exCellID)\n",
    "dge_todrop_new <- refresh_dge(dge_todrop,bclist_toDrop$segment1.cellID,bclist_toDrop$exCellID)\n",
    "dge_to10x_keepUMI_new  <- refresh_dge(dge_to10x_keepUMI,bclist_to10x_keepUMI$segment1.cellID,bclist_to10x_keepUMI$exCellID)\n",
    "dge_todrop_keepUMI_new <- refresh_dge(dge_todrop_keepUMI,bclist_toDrop_keepUMI$segment1.cellID,bclist_toDrop_keepUMI$exCellID)"
   ]
  },
  {
   "cell_type": "code",
   "execution_count": 9,
   "metadata": {},
   "outputs": [
    {
     "data": {
      "text/html": [
       "<style>\n",
       ".list-inline {list-style: none; margin:0; padding: 0}\n",
       ".list-inline>li {display: inline-block}\n",
       ".list-inline>li:not(:last-child)::after {content: \"\\00b7\"; padding: 0 .5ex}\n",
       "</style>\n",
       "<ol class=list-inline><li>'TCTGCCAAATAT'</li><li>'AGCTGTCTCTAA'</li><li>'TTGGCTAAACGC'</li><li>'CTTAGTATTGTG'</li><li>'CTATCAGTATCT'</li><li>'CGGGTTGACGCT'</li></ol>\n"
      ],
      "text/latex": [
       "\\begin{enumerate*}\n",
       "\\item 'TCTGCCAAATAT'\n",
       "\\item 'AGCTGTCTCTAA'\n",
       "\\item 'TTGGCTAAACGC'\n",
       "\\item 'CTTAGTATTGTG'\n",
       "\\item 'CTATCAGTATCT'\n",
       "\\item 'CGGGTTGACGCT'\n",
       "\\end{enumerate*}\n"
      ],
      "text/markdown": [
       "1. 'TCTGCCAAATAT'\n",
       "2. 'AGCTGTCTCTAA'\n",
       "3. 'TTGGCTAAACGC'\n",
       "4. 'CTTAGTATTGTG'\n",
       "5. 'CTATCAGTATCT'\n",
       "6. 'CGGGTTGACGCT'\n",
       "\n",
       "\n"
      ],
      "text/plain": [
       "[1] \"TCTGCCAAATAT\" \"AGCTGTCTCTAA\" \"TTGGCTAAACGC\" \"CTTAGTATTGTG\" \"CTATCAGTATCT\"\n",
       "[6] \"CGGGTTGACGCT\""
      ]
     },
     "metadata": {},
     "output_type": "display_data"
    }
   ],
   "source": [
    "colnames(dge_to10x_keepUMI_new) %>% head"
   ]
  },
  {
   "cell_type": "code",
   "execution_count": 10,
   "metadata": {},
   "outputs": [],
   "source": [
    "# dge_target_list <- list(dge_to10x_new,dge_todrop_new,dge_dwn90,dge_dwn80,dge_dwn70,dge_to10x_keepUMI_new,dge_todrop_keepUMI_new)\n",
    "dge_target_list <- list(dge_to10x_new,dge_todrop_new,dge_to10x_keepUMI_new,dge_todrop_keepUMI_new)"
   ]
  },
  {
   "cell_type": "code",
   "execution_count": 11,
   "metadata": {},
   "outputs": [
    {
     "name": "stdout",
     "output_type": "stream",
     "text": [
      " [1] \"mt-Atp6\" \"mt-Co1\"  \"mt-Co2\"  \"mt-Co3\"  \"mt-Cytb\" \"mt-Nd1\"  \"mt-Nd2\" \n",
      " [8] \"mt-Nd4\"  \"mt-Nd5\"  \"mt-Nd6\" \n"
     ]
    }
   ],
   "source": [
    "use_cells <- get_cells_used(dge_base,dge_target_list,percent_mito = 20,min_features = 200)"
   ]
  },
  {
   "cell_type": "code",
   "execution_count": 12,
   "metadata": {},
   "outputs": [
    {
     "data": {
      "text/html": [
       "11334"
      ],
      "text/latex": [
       "11334"
      ],
      "text/markdown": [
       "11334"
      ],
      "text/plain": [
       "[1] 11334"
      ]
     },
     "metadata": {},
     "output_type": "display_data"
    }
   ],
   "source": [
    "length(use_cells)"
   ]
  },
  {
   "cell_type": "code",
   "execution_count": 13,
   "metadata": {},
   "outputs": [],
   "source": [
    "dge_base_intersect   <- dge_base[,use_cells]\n",
    "dge_to10x_intersect  <- dge_to10x_new[,use_cells]\n",
    "dge_todrop_intersect <- dge_todrop_new[,use_cells]\n",
    "# dge_dwn90_intersect  <- dge_dwn90[,use_cells]\n",
    "# dge_dwn80_intersect  <- dge_dwn80[,use_cells]\n",
    "# dge_dwn70_intersect  <- dge_dwn70[,use_cells]\n",
    "dge_to10x_keepUMI_intersect <- dge_to10x_keepUMI_new[,use_cells]\n",
    "dge_todrop_keepUMI_intersect<- dge_todrop_keepUMI_new[,use_cells]"
   ]
  },
  {
   "cell_type": "code",
   "execution_count": 14,
   "metadata": {},
   "outputs": [],
   "source": [
    "orig.intersect.seu   <- CreateSeuratObject(dge_base_intersect)\n",
    "to10x.intersect.seu  <- CreateSeuratObject(dge_to10x_intersect)\n",
    "todrop.intersect.seu <- CreateSeuratObject(dge_todrop_intersect)\n",
    "# dwn90.intersect.seu  <- CreateSeuratObject(dge_dwn90_intersect)\n",
    "# dwn80.intersect.seu  <- CreateSeuratObject(dge_dwn80_intersect)\n",
    "# dwn70.intersect.seu  <- CreateSeuratObject(dge_dwn70_intersect)\n",
    "to10x.keepUMI.seu    <- CreateSeuratObject(dge_to10x_keepUMI_intersect)\n",
    "todrop.keepUMI.seu   <- CreateSeuratObject(dge_todrop_keepUMI_intersect)"
   ]
  },
  {
   "cell_type": "code",
   "execution_count": 15,
   "metadata": {},
   "outputs": [],
   "source": [
    "high_var_genes <- getVarGenes_untilPCA(orig.intersect.seu,num_varFeatures = 5000)"
   ]
  },
  {
   "cell_type": "code",
   "execution_count": 16,
   "metadata": {},
   "outputs": [
    {
     "name": "stderr",
     "output_type": "stream",
     "text": [
      "Warning message:\n",
      "\"Not all features provided are in this Assay object, removing the following feature(s): 1700018A23Rik, 2200002J24Rik, 4930417O22Rik, 4930422C21Rik, 4930447F04Rik\"\n",
      "Warning message:\n",
      "\"Not all features provided are in this Assay object, removing the following feature(s): 1700018A23Rik, 2200002J24Rik, 4930417O22Rik, 4930447F04Rik\"\n"
     ]
    }
   ],
   "source": [
    "orig.intersect.seu   <- getVarGenes_untilPCA(orig.intersect.seu,var_genes=high_var_genes,num_varFeatures = 5000)\n",
    "to10x.intersect.seu  <- getVarGenes_untilPCA(to10x.intersect.seu,var_genes=high_var_genes,num_varFeatures = 5000)\n",
    "todrop.intersect.seu <- getVarGenes_untilPCA(todrop.intersect.seu,var_genes=high_var_genes,num_varFeatures = 5000)\n",
    "# dwn90.intersect.seu  <- getVarGenes_untilPCA(dwn90.intersect.seu,var_genes=high_var_genes,num_varFeatures = 5000)\n",
    "# dwn80.intersect.seu  <- getVarGenes_untilPCA(dwn80.intersect.seu,var_genes=high_var_genes,num_varFeatures = 5000)\n",
    "# dwn70.intersect.seu  <- getVarGenes_untilPCA(dwn70.intersect.seu,var_genes=high_var_genes,num_varFeatures = 5000)\n",
    "to10x.keepUMI.seu    <- getVarGenes_untilPCA(to10x.keepUMI.seu,var_genes=high_var_genes,num_varFeatures = 5000)\n",
    "todrop.keepUMI.seu   <- getVarGenes_untilPCA(todrop.keepUMI.seu,var_genes=high_var_genes,num_varFeatures = 5000)"
   ]
  },
  {
   "cell_type": "code",
   "execution_count": 17,
   "metadata": {},
   "outputs": [
    {
     "name": "stderr",
     "output_type": "stream",
     "text": [
      "Warning message:\n",
      "\"The default method for RunUMAP has changed from calling Python UMAP via reticulate to the R-native UWOT using the cosine metric\n",
      "To use Python UMAP via reticulate, set umap.method to 'umap-learn' and metric to 'correlation'\n",
      "This message will be shown once per session\"\n"
     ]
    }
   ],
   "source": [
    "orig.intersect.seu   <- seurat_processing_UMAP(orig.intersect.seu,dimlimit = 20,res = 0.6)\n",
    "to10x.intersect.seu  <- seurat_processing_UMAP(to10x.intersect.seu,dimlimit = 20,res = 0.6)\n",
    "todrop.intersect.seu <- seurat_processing_UMAP(todrop.intersect.seu,dimlimit = 20,res = 0.6)\n",
    "# dwn90.intersect.seu  <- seurat_processing_UMAP(dwn90.intersect.seu,dimlimit = 20,res = 0.6)\n",
    "# dwn80.intersect.seu  <- seurat_processing_UMAP(dwn80.intersect.seu,dimlimit = 20,res = 0.6)\n",
    "# dwn70.intersect.seu  <- seurat_processing_UMAP(dwn70.intersect.seu,dimlimit = 20,res = 0.6)\n",
    "to10x.keepUMI.seu  <- seurat_processing_UMAP(to10x.keepUMI.seu,dimlimit = 20,res = 0.6)\n",
    "todrop.keepUMI.seu <- seurat_processing_UMAP(todrop.keepUMI.seu,dimlimit = 20,res = 0.6)"
   ]
  },
  {
   "cell_type": "code",
   "execution_count": 18,
   "metadata": {},
   "outputs": [],
   "source": [
    "store_dir <- \"/home/ha5656/work/barista/paper_data/R_fig_script/intermediate_dataset/seurat_rds_Feb2021/\"\n",
    "\n",
    "saveRDS(orig.intersect.seu,paste0(store_dir,\"Feb2021_Drop_original_Seurat.rds\"))\n",
    "saveRDS(to10x.intersect.seu,paste0(store_dir,\"Feb2021_Drop_to_10x_Seurat.rds\"))\n",
    "saveRDS(todrop.intersect.seu,paste0(store_dir,\"Feb2021_Drop_to_drop_Seurat.rds\"))\n",
    "# saveRDS(dwn90.intersect.seu,paste0(store_dir,\"Drop_original_down90_Seurat.rds\"))\n",
    "# saveRDS(dwn80.intersect.seu,paste0(store_dir,\"Drop_original_down80_Seurat.rds\"))\n",
    "# saveRDS(dwn70.intersect.seu,paste0(store_dir,\"Drop_original_down70_Seurat.rds\"))\n",
    "saveRDS(to10x.keepUMI.seu,paste0(store_dir,\"Feb2021_Drop_to_10x_keepUMI_Seurat.rds\"))\n",
    "saveRDS(todrop.keepUMI.seu,paste0(store_dir,\"Feb2021_Drop_to_drop_keepUMI_Seurat.rds\"))"
   ]
  },
  {
   "cell_type": "code",
   "execution_count": 19,
   "metadata": {},
   "outputs": [],
   "source": [
    "#Fig drawing\n",
    "draw_umap(seu_base = orig.intersect.seu,\n",
    "          seu_to10x = to10x.intersect.seu,\n",
    "          seu_todrop = todrop.intersect.seu,\n",
    "          col_seed = 18,\n",
    "          w=6,\n",
    "          h=6,\n",
    "          outdir = \"~/work/barista/paper_data/scRNA//Figure_Feb2021/\",\n",
    "          outname = \"drop_randUMI_samegene\")"
   ]
  },
  {
   "cell_type": "code",
   "execution_count": 51,
   "metadata": {},
   "outputs": [],
   "source": [
    "source(\"/home/ha5656/work/barista/paper_data/R_fig_script/src/sc_preprocess.R\")"
   ]
  },
  {
   "cell_type": "code",
   "execution_count": 20,
   "metadata": {},
   "outputs": [
    {
     "name": "stdout",
     "output_type": "stream",
     "text": [
      "[1] \"start...\"\n",
      "[1] \"start sampling...\"\n",
      "[1] \"start...\"\n",
      "[1] \"start sampling...\"\n",
      "[1] \"start...\"\n",
      "[1] \"start sampling...\"\n",
      "[1] \"start...\"\n",
      "[1] \"start sampling...\"\n",
      "[1] \"start...\"\n",
      "[1] \"start sampling...\"\n"
     ]
    }
   ],
   "source": [
    "#Export CellCellDist\n",
    "v.vln.to10x <- get_dist_pcaspace_scatter(orig.intersect.seu,\n",
    "                          to10x.intersect.seu,\n",
    "                          outdir = \"~/work/barista/paper_data/R_fig_script//intermediate_dataset/CCDist_Feb2021//\",\n",
    "                          outname = \"drop_to_10x_randUMI\")\n",
    "v.vln.todrop <- get_dist_pcaspace_scatter(orig.intersect.seu,\n",
    "                          todrop.intersect.seu,\n",
    "                          outdir = \"~/work/barista/paper_data/R_fig_script//intermediate_dataset/CCDist_Feb2021/\",\n",
    "                          outname = \"drop_to_drop_randUMI\")\n",
    "v.vln.to10x_keep <- get_dist_pcaspace_scatter(orig.intersect.seu,\n",
    "                          to10x.keepUMI.seu,\n",
    "                          outdir = \"~/work/barista/paper_data/R_fig_script//intermediate_dataset/CCDist_Feb2021/\",\n",
    "                          outname = \"drop_to_10x_keepUMI\")\n",
    "v.vln.todrop_keep <- get_dist_pcaspace_scatter(orig.intersect.seu,\n",
    "                          todrop.keepUMI.seu,\n",
    "                          outdir = \"~/work/barista/paper_data/R_fig_script//intermediate_dataset/CCDist_Feb2021/\",\n",
    "                          outname = \"drop_to_drop_keepUMI\")\n",
    "# v.vln.dwn90 <- get_dist_pcaspace_scatter(orig.intersect.seu,\n",
    "#                                          dwn90.intersect.seu,\n",
    "#                                          outdir = \"~/work/barista/paper_data/R_fig_script//intermediate_dataset/CellCellDist/\",\n",
    "#                                          outname = \"drop_dwn90_randUMI_samegene_raw_re\")\n",
    "# v.vln.dwn80 <- get_dist_pcaspace_scatter(orig.intersect.seu,\n",
    "#                                          dwn80.intersect.seu,\n",
    "#                                          outdir = \"~/work/barista/paper_data/R_fig_script//intermediate_dataset/CellCellDist/\",\n",
    "#                                          outname = \"drop_dwn80_randUMI_samegene_raw_re\")\n",
    "# v.vln.dwn70 <- get_dist_pcaspace_scatter(orig.intersect.seu,\n",
    "#                                          dwn70.intersect.seu,\n",
    "#                                          outdir = \"~/work/barista/paper_data/R_fig_script//intermediate_dataset/CellCellDist/\",\n",
    "#                                          outname = \"drop_dwn70_randUMI_samegene_raw_re\")\n",
    "v.vln.scramble <- get_dist_pcaspace_scatter(orig.intersect.seu,\n",
    "                                            orig.intersect.seu,\n",
    "                                            scramble = T,\n",
    "                                            outdir = \"~/work/barista/paper_data/R_fig_script//intermediate_dataset/CCDist_Feb2021/\",\n",
    "                                            outname = \"drop_orig_scramble\")"
   ]
  },
  {
   "cell_type": "code",
   "execution_count": 21,
   "metadata": {},
   "outputs": [],
   "source": [
    "df.vln <- data.frame(to_10x=v.vln.to10x,\n",
    "                     to_drop=v.vln.todrop,\n",
    "                     to_10x_keepUMI=v.vln.to10x_keep,\n",
    "                     to_drop_KeepUMI=v.vln.todrop_keep,\n",
    "#                      dwn90=v.vln.dwn90,\n",
    "#                      dwn80=v.vln.dwn80,\n",
    "#                      dwn70=v.vln.dwn70,\n",
    "                     scramble=v.vln.scramble)"
   ]
  },
  {
   "cell_type": "code",
   "execution_count": 22,
   "metadata": {},
   "outputs": [],
   "source": [
    "write.table(df.vln,\"~/work/barista/paper_data/R_fig_script//intermediate_dataset/violin_Feb2021//drop_to_all_vln.tsv\",quote=F,row.names = F,col.names = T,sep=\"\\t\")"
   ]
  },
  {
   "cell_type": "code",
   "execution_count": 23,
   "metadata": {},
   "outputs": [],
   "source": [
    "store_dir <- \"/home/ha5656/work/barista/paper_data/R_fig_script/intermediate_dataset/seurat_rds_Feb2021/\"\n",
    "\n",
    "seu <- readRDS(paste0(store_dir,\"Feb2021_Drop_original_Seurat.rds\"))\n"
   ]
  },
  {
   "cell_type": "code",
   "execution_count": 24,
   "metadata": {},
   "outputs": [
    {
     "data": {
      "text/html": [
       "11334"
      ],
      "text/latex": [
       "11334"
      ],
      "text/markdown": [
       "11334"
      ],
      "text/plain": [
       "[1] 11334"
      ]
     },
     "metadata": {},
     "output_type": "display_data"
    }
   ],
   "source": [
    "ncol(seu)"
   ]
  },
  {
   "cell_type": "code",
   "execution_count": null,
   "metadata": {},
   "outputs": [],
   "source": []
  }
 ],
 "metadata": {
  "kernelspec": {
   "display_name": "R",
   "language": "R",
   "name": "ir"
  },
  "language_info": {
   "codemirror_mode": "r",
   "file_extension": ".r",
   "mimetype": "text/x-r-source",
   "name": "R",
   "pygments_lexer": "r",
   "version": "3.6.3"
  }
 },
 "nbformat": 4,
 "nbformat_minor": 4
}
