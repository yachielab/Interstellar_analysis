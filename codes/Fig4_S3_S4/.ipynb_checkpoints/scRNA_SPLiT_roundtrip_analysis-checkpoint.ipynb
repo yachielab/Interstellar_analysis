{
 "cells": [
  {
   "cell_type": "code",
   "execution_count": 6,
   "id": "2757d812-cf07-4b1b-b4ac-084d88d02f10",
   "metadata": {
    "execution": {
     "iopub.execute_input": "2022-08-20T17:04:59.147526Z",
     "iopub.status.busy": "2022-08-20T17:04:59.146445Z",
     "iopub.status.idle": "2022-08-20T17:04:59.470784Z",
     "shell.execute_reply": "2022-08-20T17:04:59.469634Z"
    },
    "tags": []
   },
   "outputs": [],
   "source": [
    "library(Seurat)\n",
    "library(Matrix)\n",
    "library(tidyverse)\n",
    "\n",
    "source(\"/home/ha5656/work/barista/paper_data/R_fig_script/src/sc_preprocess.R\")"
   ]
  },
  {
   "cell_type": "markdown",
   "id": "4e57e94b-76eb-49be-9d31-26b0b2c73f79",
   "metadata": {},
   "source": [
    "#### Preprocessing is all done with qsub (500GB RAM)"
   ]
  },
  {
   "cell_type": "code",
   "execution_count": 7,
   "id": "9e5f3cf1-3054-4a39-a8c7-3cfaf06cd8b8",
   "metadata": {
    "execution": {
     "iopub.execute_input": "2022-08-20T17:07:21.837296Z",
     "iopub.status.busy": "2022-08-20T17:07:21.834835Z",
     "iopub.status.idle": "2022-08-20T17:09:31.051497Z",
     "shell.execute_reply": "2022-08-20T17:09:28.959590Z"
    },
    "tags": []
   },
   "outputs": [],
   "source": [
    "store_dir <- \"/home/ha5656/work/Interstellar_test/REVISION_RND1//round_trip/intermediate_data/\"\n",
    "\n",
    "orig.intersect.seu <- readRDS(paste0(store_dir,\"Aug2022_processed_SPLiT_original_Seurat.intersectionWithRndTrip.rds\"))\n",
    "roundtrip.seu <- readRDS(paste0(store_dir,\"Aug2022_processed_SPLiT_roundtrip_Seurat.rds\"))"
   ]
  },
  {
   "cell_type": "markdown",
   "id": "08d11fa1-5b3b-411d-81ce-c7ae65b583d6",
   "metadata": {},
   "source": [
    "#### Use cell state labels identified in the original seurat obj used in Figure 4"
   ]
  },
  {
   "cell_type": "code",
   "execution_count": 8,
   "id": "82e067d0-0bdc-46c3-bd4d-6fe7005d8998",
   "metadata": {
    "execution": {
     "iopub.execute_input": "2022-08-20T17:09:55.549542Z",
     "iopub.status.busy": "2022-08-20T17:09:55.548477Z",
     "iopub.status.idle": "2022-08-20T17:11:06.003350Z",
     "shell.execute_reply": "2022-08-20T17:11:05.803729Z"
    },
    "tags": []
   },
   "outputs": [],
   "source": [
    "orig.fig4.seu <- readRDS(\"~/work/barista/paper_data/R_fig_script/intermediate_dataset//seurat_rds_Feb2021/vFeb2021_SPLiT_original_Seurat.rds\")"
   ]
  },
  {
   "cell_type": "code",
   "execution_count": 9,
   "id": "e4406f87-af39-4a7f-bf25-8c37e726569a",
   "metadata": {
    "execution": {
     "iopub.execute_input": "2022-08-20T17:11:07.824396Z",
     "iopub.status.busy": "2022-08-20T17:11:07.823351Z",
     "iopub.status.idle": "2022-08-20T17:11:08.534062Z",
     "shell.execute_reply": "2022-08-20T17:11:08.532819Z"
    },
    "tags": []
   },
   "outputs": [],
   "source": [
    "celltype_v_fig4 <- orig.fig4.seu$seurat_clusters\n",
    "celltype_v_fig4 <- celltype_v_fig4[colnames(orig.intersect.seu)]"
   ]
  },
  {
   "cell_type": "code",
   "execution_count": 11,
   "id": "9782216c-3cc2-4849-ab2a-ae1694ac2034",
   "metadata": {
    "execution": {
     "iopub.execute_input": "2022-08-20T17:11:20.831521Z",
     "iopub.status.busy": "2022-08-20T17:11:20.830470Z",
     "iopub.status.idle": "2022-08-20T17:11:20.849737Z",
     "shell.execute_reply": "2022-08-20T17:11:20.848730Z"
    },
    "tags": []
   },
   "outputs": [
    {
     "data": {
      "text/html": [
       "189953"
      ],
      "text/latex": [
       "189953"
      ],
      "text/markdown": [
       "189953"
      ],
      "text/plain": [
       "[1] 189953"
      ]
     },
     "metadata": {},
     "output_type": "display_data"
    },
    {
     "data": {
      "text/html": [
       "186314"
      ],
      "text/latex": [
       "186314"
      ],
      "text/markdown": [
       "186314"
      ],
      "text/plain": [
       "[1] 186314"
      ]
     },
     "metadata": {},
     "output_type": "display_data"
    },
    {
     "data": {
      "text/html": [
       "186314"
      ],
      "text/latex": [
       "186314"
      ],
      "text/markdown": [
       "186314"
      ],
      "text/plain": [
       "[1] 186314"
      ]
     },
     "metadata": {},
     "output_type": "display_data"
    }
   ],
   "source": [
    "ncol(orig.fig4.seu)\n",
    "length(celltype_v_fig4)\n",
    "ncol(orig.intersect.seu)"
   ]
  },
  {
   "cell_type": "code",
   "execution_count": 12,
   "id": "3ae5e219-8b07-475e-889b-4e918a597a74",
   "metadata": {
    "execution": {
     "iopub.execute_input": "2022-08-20T17:11:29.355495Z",
     "iopub.status.busy": "2022-08-20T17:11:29.354379Z",
     "iopub.status.idle": "2022-08-20T17:11:29.367336Z",
     "shell.execute_reply": "2022-08-20T17:11:29.366347Z"
    },
    "tags": []
   },
   "outputs": [
    {
     "data": {
      "text/html": [
       "<style>\n",
       ".dl-inline {width: auto; margin:0; padding: 0}\n",
       ".dl-inline>dt, .dl-inline>dd {float: none; width: auto; display: inline-block}\n",
       ".dl-inline>dt::after {content: \":\\0020\"; padding-right: .5ex}\n",
       ".dl-inline>dt:not(:first-of-type) {padding-left: .5ex}\n",
       "</style><dl class=dl-inline><dt>AAACATCGAAACATCG_15_s5</dt><dd>12</dd><dt>AAACATCGAAACATCG_32_s12</dt><dd>7</dd><dt>AAACATCGAAACATCG_47_s2</dt><dd>15</dd><dt>AAACATCGAAACATCG_47_s7</dt><dd>4</dd><dt>AAACATCGAAACATCG_4_s1</dt><dd>12</dd><dt>AAACATCGAAACATCG_8_s8</dt><dd>5</dd></dl>\n",
       "\n",
       "<details>\n",
       "\t<summary style=display:list-item;cursor:pointer>\n",
       "\t\t<strong>Levels</strong>:\n",
       "\t</summary>\n",
       "\t<style>\n",
       "\t.list-inline {list-style: none; margin:0; padding: 0}\n",
       "\t.list-inline>li {display: inline-block}\n",
       "\t.list-inline>li:not(:last-child)::after {content: \"\\00b7\"; padding: 0 .5ex}\n",
       "\t</style>\n",
       "\t<ol class=list-inline><li>'0'</li><li>'1'</li><li>'2'</li><li>'3'</li><li>'4'</li><li>'5'</li><li>'6'</li><li>'7'</li><li>'8'</li><li>'9'</li><li>'10'</li><li>'11'</li><li>'12'</li><li>'13'</li><li>'14'</li><li>'15'</li><li>'16'</li><li>'17'</li><li>'18'</li><li>'19'</li><li>'20'</li><li>'21'</li><li>'22'</li><li>'23'</li><li>'24'</li><li>'25'</li><li>'26'</li><li>'27'</li><li>'28'</li><li>'29'</li><li>'30'</li></ol>\n",
       "</details>"
      ],
      "text/latex": [
       "\\begin{description*}\n",
       "\\item[AAACATCGAAACATCG\\textbackslash{}\\_15\\textbackslash{}\\_s5] 12\n",
       "\\item[AAACATCGAAACATCG\\textbackslash{}\\_32\\textbackslash{}\\_s12] 7\n",
       "\\item[AAACATCGAAACATCG\\textbackslash{}\\_47\\textbackslash{}\\_s2] 15\n",
       "\\item[AAACATCGAAACATCG\\textbackslash{}\\_47\\textbackslash{}\\_s7] 4\n",
       "\\item[AAACATCGAAACATCG\\textbackslash{}\\_4\\textbackslash{}\\_s1] 12\n",
       "\\item[AAACATCGAAACATCG\\textbackslash{}\\_8\\textbackslash{}\\_s8] 5\n",
       "\\end{description*}\n",
       "\n",
       "\\emph{Levels}: \\begin{enumerate*}\n",
       "\\item '0'\n",
       "\\item '1'\n",
       "\\item '2'\n",
       "\\item '3'\n",
       "\\item '4'\n",
       "\\item '5'\n",
       "\\item '6'\n",
       "\\item '7'\n",
       "\\item '8'\n",
       "\\item '9'\n",
       "\\item '10'\n",
       "\\item '11'\n",
       "\\item '12'\n",
       "\\item '13'\n",
       "\\item '14'\n",
       "\\item '15'\n",
       "\\item '16'\n",
       "\\item '17'\n",
       "\\item '18'\n",
       "\\item '19'\n",
       "\\item '20'\n",
       "\\item '21'\n",
       "\\item '22'\n",
       "\\item '23'\n",
       "\\item '24'\n",
       "\\item '25'\n",
       "\\item '26'\n",
       "\\item '27'\n",
       "\\item '28'\n",
       "\\item '29'\n",
       "\\item '30'\n",
       "\\end{enumerate*}\n"
      ],
      "text/markdown": [
       "AAACATCGAAACATCG_15_s5\n",
       ":   12AAACATCGAAACATCG_32_s12\n",
       ":   7AAACATCGAAACATCG_47_s2\n",
       ":   15AAACATCGAAACATCG_47_s7\n",
       ":   4AAACATCGAAACATCG_4_s1\n",
       ":   12AAACATCGAAACATCG_8_s8\n",
       ":   5\n",
       "\n",
       "\n",
       "**Levels**: 1. '0'\n",
       "2. '1'\n",
       "3. '2'\n",
       "4. '3'\n",
       "5. '4'\n",
       "6. '5'\n",
       "7. '6'\n",
       "8. '7'\n",
       "9. '8'\n",
       "10. '9'\n",
       "11. '10'\n",
       "12. '11'\n",
       "13. '12'\n",
       "14. '13'\n",
       "15. '14'\n",
       "16. '15'\n",
       "17. '16'\n",
       "18. '17'\n",
       "19. '18'\n",
       "20. '19'\n",
       "21. '20'\n",
       "22. '21'\n",
       "23. '22'\n",
       "24. '23'\n",
       "25. '24'\n",
       "26. '25'\n",
       "27. '26'\n",
       "28. '27'\n",
       "29. '28'\n",
       "30. '29'\n",
       "31. '30'\n",
       "\n",
       "\n"
      ],
      "text/plain": [
       " AAACATCGAAACATCG_15_s5 AAACATCGAAACATCG_32_s12  AAACATCGAAACATCG_47_s2 \n",
       "                     12                       7                      15 \n",
       " AAACATCGAAACATCG_47_s7   AAACATCGAAACATCG_4_s1   AAACATCGAAACATCG_8_s8 \n",
       "                      4                      12                       5 \n",
       "31 Levels: 0 1 2 3 4 5 6 7 8 9 10 11 12 13 14 15 16 17 18 19 20 21 22 23 ... 30"
      ]
     },
     "metadata": {},
     "output_type": "display_data"
    }
   ],
   "source": [
    "head(celltype_v_fig4)"
   ]
  },
  {
   "cell_type": "code",
   "execution_count": 13,
   "id": "7de3fd2c-f1d2-4a8b-ab72-e11f8b65b904",
   "metadata": {
    "execution": {
     "iopub.execute_input": "2022-08-20T17:11:30.356365Z",
     "iopub.status.busy": "2022-08-20T17:11:30.355274Z",
     "iopub.status.idle": "2022-08-20T17:11:30.437733Z",
     "shell.execute_reply": "2022-08-20T17:11:30.436722Z"
    },
    "tags": []
   },
   "outputs": [
    {
     "data": {
      "text/html": [
       "<style>\n",
       ".list-inline {list-style: none; margin:0; padding: 0}\n",
       ".list-inline>li {display: inline-block}\n",
       ".list-inline>li:not(:last-child)::after {content: \"\\00b7\"; padding: 0 .5ex}\n",
       "</style>\n",
       "<ol class=list-inline><li>'AAACATCGAAACATCG_15_s5'</li><li>'AAACATCGAAACATCG_32_s12'</li><li>'AAACATCGAAACATCG_47_s2'</li><li>'AAACATCGAAACATCG_47_s7'</li><li>'AAACATCGAAACATCG_4_s1'</li><li>'AAACATCGAAACATCG_8_s8'</li></ol>\n"
      ],
      "text/latex": [
       "\\begin{enumerate*}\n",
       "\\item 'AAACATCGAAACATCG\\_15\\_s5'\n",
       "\\item 'AAACATCGAAACATCG\\_32\\_s12'\n",
       "\\item 'AAACATCGAAACATCG\\_47\\_s2'\n",
       "\\item 'AAACATCGAAACATCG\\_47\\_s7'\n",
       "\\item 'AAACATCGAAACATCG\\_4\\_s1'\n",
       "\\item 'AAACATCGAAACATCG\\_8\\_s8'\n",
       "\\end{enumerate*}\n"
      ],
      "text/markdown": [
       "1. 'AAACATCGAAACATCG_15_s5'\n",
       "2. 'AAACATCGAAACATCG_32_s12'\n",
       "3. 'AAACATCGAAACATCG_47_s2'\n",
       "4. 'AAACATCGAAACATCG_47_s7'\n",
       "5. 'AAACATCGAAACATCG_4_s1'\n",
       "6. 'AAACATCGAAACATCG_8_s8'\n",
       "\n",
       "\n"
      ],
      "text/plain": [
       "[1] \"AAACATCGAAACATCG_15_s5\"  \"AAACATCGAAACATCG_32_s12\"\n",
       "[3] \"AAACATCGAAACATCG_47_s2\"  \"AAACATCGAAACATCG_47_s7\" \n",
       "[5] \"AAACATCGAAACATCG_4_s1\"   \"AAACATCGAAACATCG_8_s8\"  "
      ]
     },
     "metadata": {},
     "output_type": "display_data"
    },
    {
     "data": {
      "text/html": [
       "<style>\n",
       ".list-inline {list-style: none; margin:0; padding: 0}\n",
       ".list-inline>li {display: inline-block}\n",
       ".list-inline>li:not(:last-child)::after {content: \"\\00b7\"; padding: 0 .5ex}\n",
       "</style>\n",
       "<ol class=list-inline><li>'AAACATCGAAACATCG_15_s5'</li><li>'AAACATCGAAACATCG_32_s12'</li><li>'AAACATCGAAACATCG_47_s2'</li><li>'AAACATCGAAACATCG_47_s7'</li><li>'AAACATCGAAACATCG_4_s1'</li><li>'AAACATCGAAACATCG_8_s8'</li></ol>\n"
      ],
      "text/latex": [
       "\\begin{enumerate*}\n",
       "\\item 'AAACATCGAAACATCG\\_15\\_s5'\n",
       "\\item 'AAACATCGAAACATCG\\_32\\_s12'\n",
       "\\item 'AAACATCGAAACATCG\\_47\\_s2'\n",
       "\\item 'AAACATCGAAACATCG\\_47\\_s7'\n",
       "\\item 'AAACATCGAAACATCG\\_4\\_s1'\n",
       "\\item 'AAACATCGAAACATCG\\_8\\_s8'\n",
       "\\end{enumerate*}\n"
      ],
      "text/markdown": [
       "1. 'AAACATCGAAACATCG_15_s5'\n",
       "2. 'AAACATCGAAACATCG_32_s12'\n",
       "3. 'AAACATCGAAACATCG_47_s2'\n",
       "4. 'AAACATCGAAACATCG_47_s7'\n",
       "5. 'AAACATCGAAACATCG_4_s1'\n",
       "6. 'AAACATCGAAACATCG_8_s8'\n",
       "\n",
       "\n"
      ],
      "text/plain": [
       "[1] \"AAACATCGAAACATCG_15_s5\"  \"AAACATCGAAACATCG_32_s12\"\n",
       "[3] \"AAACATCGAAACATCG_47_s2\"  \"AAACATCGAAACATCG_47_s7\" \n",
       "[5] \"AAACATCGAAACATCG_4_s1\"   \"AAACATCGAAACATCG_8_s8\"  "
      ]
     },
     "metadata": {},
     "output_type": "display_data"
    }
   ],
   "source": [
    "colnames(orig.intersect.seu) %>% head\n",
    "colnames(roundtrip.seu) %>% head"
   ]
  },
  {
   "cell_type": "code",
   "execution_count": 14,
   "id": "7a6ed2f6-a4d9-4f6f-b1d8-c0b3396595c2",
   "metadata": {
    "execution": {
     "iopub.execute_input": "2022-08-20T17:11:58.110697Z",
     "iopub.status.busy": "2022-08-20T17:11:58.109648Z",
     "iopub.status.idle": "2022-08-20T17:36:33.122791Z",
     "shell.execute_reply": "2022-08-20T17:36:33.093628Z"
    },
    "tags": []
   },
   "outputs": [
    {
     "name": "stderr",
     "output_type": "stream",
     "text": [
      "Rasterizing points since number of points exceeds 100,000.\n",
      "To disable this behavior set `raster=FALSE`\n",
      "\n",
      "Rasterizing points since number of points exceeds 100,000.\n",
      "To disable this behavior set `raster=FALSE`\n",
      "\n",
      "Rasterizing points since number of points exceeds 100,000.\n",
      "To disable this behavior set `raster=FALSE`\n",
      "\n"
     ]
    }
   ],
   "source": [
    "#Fig drawing\n",
    "draw_umap(seu_base = orig.intersect.seu,\n",
    "          seu_to10x = orig.intersect.seu,\n",
    "          seu_todrop = roundtrip.seu,\n",
    "          col_seed = 6,\n",
    "          w=6,\n",
    "          h=6,\n",
    "          is_pdf=F,\n",
    "          celltype_v=celltype_v_fig4,\n",
    "          outdir = \"/home/ha5656/work/Interstellar_test/REVISION_RND1//round_trip/downstream_analysis/SPLiT/\",\n",
    "          outname = \"Aug2022_SPLiT_roundtrip\")"
   ]
  },
  {
   "cell_type": "code",
   "execution_count": null,
   "id": "6de7b4d6-da2a-4845-8aae-fb84375e5803",
   "metadata": {},
   "outputs": [],
   "source": []
  }
 ],
 "metadata": {
  "kernelspec": {
   "display_name": "R 4.1.1",
   "language": "R",
   "name": "ir411"
  },
  "language_info": {
   "codemirror_mode": "r",
   "file_extension": ".r",
   "mimetype": "text/x-r-source",
   "name": "R",
   "pygments_lexer": "r",
   "version": "4.1.1"
  }
 },
 "nbformat": 4,
 "nbformat_minor": 5
}
