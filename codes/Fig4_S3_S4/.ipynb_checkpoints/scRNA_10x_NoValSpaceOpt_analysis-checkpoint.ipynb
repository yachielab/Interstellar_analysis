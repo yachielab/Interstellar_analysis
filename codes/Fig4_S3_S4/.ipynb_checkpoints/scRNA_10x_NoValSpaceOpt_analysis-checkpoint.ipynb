{
 "cells": [
  {
   "cell_type": "code",
   "execution_count": 1,
   "id": "5cc64b88-fd7c-4ee1-b338-dcd2ad23252b",
   "metadata": {
    "execution": {
     "iopub.execute_input": "2022-03-05T23:30:26.755068Z",
     "iopub.status.busy": "2022-03-05T23:30:26.753322Z",
     "iopub.status.idle": "2022-03-05T23:30:57.400486Z",
     "shell.execute_reply": "2022-03-05T23:30:57.399214Z"
    },
    "tags": []
   },
   "outputs": [
    {
     "name": "stderr",
     "output_type": "stream",
     "text": [
      "Registered S3 method overwritten by 'spatstat.geom':\n",
      "  method     from\n",
      "  print.boxx cli \n",
      "\n",
      "Attaching SeuratObject\n",
      "\n",
      "── \u001b[1mAttaching packages\u001b[22m ───────────────────────────────────────────────────────────────────────────────────────────────────────────────────────────────────────────────────────────────────────────── tidyverse 1.3.1 ──\n",
      "\n",
      "\u001b[32m✔\u001b[39m \u001b[34mggplot2\u001b[39m 3.3.5     \u001b[32m✔\u001b[39m \u001b[34mpurrr  \u001b[39m 0.3.4\n",
      "\u001b[32m✔\u001b[39m \u001b[34mtibble \u001b[39m 3.1.6     \u001b[32m✔\u001b[39m \u001b[34mdplyr  \u001b[39m 1.0.7\n",
      "\u001b[32m✔\u001b[39m \u001b[34mtidyr  \u001b[39m 1.2.0     \u001b[32m✔\u001b[39m \u001b[34mstringr\u001b[39m 1.4.0\n",
      "\u001b[32m✔\u001b[39m \u001b[34mreadr  \u001b[39m 2.0.1     \u001b[32m✔\u001b[39m \u001b[34mforcats\u001b[39m 0.5.1\n",
      "\n",
      "── \u001b[1mConflicts\u001b[22m ──────────────────────────────────────────────────────────────────────────────────────────────────────────────────────────────────────────────────────────────────────────────── tidyverse_conflicts() ──\n",
      "\u001b[31m✖\u001b[39m \u001b[34mtidyr\u001b[39m::\u001b[32mexpand()\u001b[39m masks \u001b[34mMatrix\u001b[39m::expand()\n",
      "\u001b[31m✖\u001b[39m \u001b[34mdplyr\u001b[39m::\u001b[32mfilter()\u001b[39m masks \u001b[34mstats\u001b[39m::filter()\n",
      "\u001b[31m✖\u001b[39m \u001b[34mdplyr\u001b[39m::\u001b[32mlag()\u001b[39m    masks \u001b[34mstats\u001b[39m::lag()\n",
      "\u001b[31m✖\u001b[39m \u001b[34mtidyr\u001b[39m::\u001b[32mpack()\u001b[39m   masks \u001b[34mMatrix\u001b[39m::pack()\n",
      "\u001b[31m✖\u001b[39m \u001b[34mtidyr\u001b[39m::\u001b[32munpack()\u001b[39m masks \u001b[34mMatrix\u001b[39m::unpack()\n",
      "\n"
     ]
    }
   ],
   "source": [
    "library(Seurat)\n",
    "library(Matrix)\n",
    "library(tidyverse)"
   ]
  },
  {
   "cell_type": "code",
   "execution_count": 2,
   "id": "f2737687-4872-4920-a828-fe0f2c0b2397",
   "metadata": {
    "execution": {
     "iopub.execute_input": "2022-03-05T23:30:57.422675Z",
     "iopub.status.busy": "2022-03-05T23:30:57.402203Z",
     "iopub.status.idle": "2022-03-05T23:31:16.080808Z",
     "shell.execute_reply": "2022-03-05T23:31:16.079424Z"
    },
    "tags": []
   },
   "outputs": [
    {
     "name": "stderr",
     "output_type": "stream",
     "text": [
      " 要求されたパッケージ GenomicRanges をロード中です \n",
      "\n",
      " 要求されたパッケージ stats4 をロード中です \n",
      "\n",
      " 要求されたパッケージ BiocGenerics をロード中です \n",
      "\n",
      " 要求されたパッケージ parallel をロード中です \n",
      "\n",
      "\n",
      " 次のパッケージを付け加えます: ‘BiocGenerics’ \n",
      "\n",
      "\n",
      " 以下のオブジェクトは ‘package:parallel’ からマスクされています: \n",
      "\n",
      "     clusterApply, clusterApplyLB, clusterCall, clusterEvalQ,\n",
      "    clusterExport, clusterMap, parApply, parCapply, parLapply,\n",
      "    parLapplyLB, parRapply, parSapply, parSapplyLB \n",
      "\n",
      "\n",
      " 以下のオブジェクトは ‘package:dplyr’ からマスクされています: \n",
      "\n",
      "     combine, intersect, setdiff, union \n",
      "\n",
      "\n",
      " 以下のオブジェクトは ‘package:stats’ からマスクされています: \n",
      "\n",
      "     IQR, mad, sd, var, xtabs \n",
      "\n",
      "\n",
      " 以下のオブジェクトは ‘package:base’ からマスクされています: \n",
      "\n",
      "     anyDuplicated, append, as.data.frame, basename, cbind, colnames,\n",
      "    dirname, do.call, duplicated, eval, evalq, Filter, Find, get, grep,\n",
      "    grepl, intersect, is.unsorted, lapply, Map, mapply, match, mget,\n",
      "    order, paste, pmax, pmax.int, pmin, pmin.int, Position, rank,\n",
      "    rbind, Reduce, rownames, sapply, setdiff, sort, table, tapply,\n",
      "    union, unique, unsplit, which.max, which.min \n",
      "\n",
      "\n",
      " 要求されたパッケージ S4Vectors をロード中です \n",
      "\n",
      "\n",
      " 次のパッケージを付け加えます: ‘S4Vectors’ \n",
      "\n",
      "\n",
      " 以下のオブジェクトは ‘package:dplyr’ からマスクされています: \n",
      "\n",
      "     first, rename \n",
      "\n",
      "\n",
      " 以下のオブジェクトは ‘package:tidyr’ からマスクされています: \n",
      "\n",
      "     expand \n",
      "\n",
      "\n",
      " 以下のオブジェクトは ‘package:Matrix’ からマスクされています: \n",
      "\n",
      "     expand, unname \n",
      "\n",
      "\n",
      " 以下のオブジェクトは ‘package:base’ からマスクされています: \n",
      "\n",
      "     expand.grid, I, unname \n",
      "\n",
      "\n",
      " 要求されたパッケージ IRanges をロード中です \n",
      "\n",
      "\n",
      " 次のパッケージを付け加えます: ‘IRanges’ \n",
      "\n",
      "\n",
      " 以下のオブジェクトは ‘package:dplyr’ からマスクされています: \n",
      "\n",
      "     collapse, desc, slice \n",
      "\n",
      "\n",
      " 以下のオブジェクトは ‘package:purrr’ からマスクされています: \n",
      "\n",
      "     reduce \n",
      "\n",
      "\n",
      " 要求されたパッケージ GenomeInfoDb をロード中です \n",
      "\n"
     ]
    }
   ],
   "source": [
    "source(\"/home/ha5656/work/barista/paper_data/R_fig_script/src/sc_preprocess.R\")"
   ]
  },
  {
   "cell_type": "code",
   "execution_count": 3,
   "id": "c936541f-d9cd-4719-9124-420a3e7c95d6",
   "metadata": {
    "execution": {
     "iopub.execute_input": "2022-03-05T23:31:16.084189Z",
     "iopub.status.busy": "2022-03-05T23:31:16.082689Z",
     "iopub.status.idle": "2022-03-05T23:31:25.956332Z",
     "shell.execute_reply": "2022-03-05T23:31:25.955023Z"
    },
    "tags": []
   },
   "outputs": [],
   "source": [
    "dge_base   <- readRDS(\"/home/ha5656/work/barista/paper_data/R_fig_script//intermediate_dataset//dge_Feb2021/vFeb202110x_original_rawdge.rds\")\n",
    "# dge_to10x  <- readRDS(\"/home/ha5656/work/Interstellar_test/seurat_obj/10x_to_10x_rand.10x.rds\")\n",
    "# dge_todrop <- readRDS(\"/home/ha5656/work/Interstellar_test/seurat_obj//10x_to_drop_rand.drop.rds\")\n",
    "# dge_to10x_keepUMI  <- readRDS(\"/home/ha5656/work/Interstellar_test/seurat_obj//10x_to_10x_keep.10x.rds\")\n",
    "dge_todrop_NoAlloc <- readRDS(\"/home/ha5656/work//Interstellar_test/seurat_obj//10x_to_drop_NoAlloc.drop.rds\")"
   ]
  },
  {
   "cell_type": "code",
   "execution_count": 5,
   "id": "7e0faa81-99a9-460d-af26-92fe4f85d605",
   "metadata": {
    "execution": {
     "iopub.execute_input": "2022-03-05T23:31:48.957066Z",
     "iopub.status.busy": "2022-03-05T23:31:48.956038Z",
     "iopub.status.idle": "2022-03-05T23:31:53.605192Z",
     "shell.execute_reply": "2022-03-05T23:31:53.603933Z"
    },
    "tags": []
   },
   "outputs": [],
   "source": [
    "# bclist_to10x  <- read.table(\"/home/ha5656/work/Interstellar_test/bc_correspondence/10x_to_10x_rand/10x_to_10x_rand_merge_correspondence.tsv\",header=F)\n",
    "# bclist_toDrop <- read.table(\"/home/ha5656/work/Interstellar_test/bc_correspondence/10x_to_drop_rand/10x_to_drop_rand_merge_correspondence.tsv\",header=F)\n",
    "# bclist_to10x_keepUMI <- read.table(\"/home/ha5656/work/Interstellar_test/bc_correspondence/10x_to_10x_keep/10x_to_10x_keep_merge_correspondence.tsv\",header=F)\n",
    "bclist_todrop_NoAlloc <- read.table(\"/home/ha5656/work/Interstellar_test/bc_correspondence/10x_to_drop_NoAlloc/10x_to_drop_NoAlloc_merge_correspondence.tsv\",header=F)"
   ]
  },
  {
   "cell_type": "code",
   "execution_count": 6,
   "id": "3120e77e-5932-48d7-8d10-1f35db1b8706",
   "metadata": {
    "execution": {
     "iopub.execute_input": "2022-03-05T23:32:26.418068Z",
     "iopub.status.busy": "2022-03-05T23:32:26.417010Z",
     "iopub.status.idle": "2022-03-05T23:32:27.582046Z",
     "shell.execute_reply": "2022-03-05T23:32:27.580815Z"
    },
    "tags": []
   },
   "outputs": [],
   "source": [
    "colnames(dge_base) <- gsub(\"-1\",\"\",colnames(dge_base))\n",
    "# colnames(dge_to10x) <- gsub(\"-1\",\"\",colnames(dge_to10x))\n",
    "# colnames(dge_to10x_keepUMI) <- gsub(\"-1\",\"\",colnames(dge_to10x_keepUMI))\n",
    "\n",
    "# dge_to10x_new  <- refresh_dge(dge_to10x,bclist_to10x$V1,bclist_to10x$V2)\n",
    "# dge_todrop_new <- refresh_dge(dge_todrop,bclist_toDrop$V1,bclist_toDrop$V2)\n",
    "# dge_to10x_keepUMI_new <- refresh_dge(dge_to10x_keepUMI,bclist_to10x_keepUMI$V1,bclist_to10x_keepUMI$V2)\n",
    "dge_todrop_NoAlloc_new <- refresh_dge(dge_todrop_NoAlloc,bclist_todrop_NoAlloc$V1,bclist_todrop_NoAlloc$V2)\n"
   ]
  },
  {
   "cell_type": "code",
   "execution_count": 8,
   "id": "07b17621-2f65-43fa-814d-b202a0604a43",
   "metadata": {
    "execution": {
     "iopub.execute_input": "2022-03-05T23:33:10.776324Z",
     "iopub.status.busy": "2022-03-05T23:33:10.775330Z",
     "iopub.status.idle": "2022-03-05T23:33:17.786140Z",
     "shell.execute_reply": "2022-03-05T23:33:17.784901Z"
    },
    "tags": []
   },
   "outputs": [
    {
     "name": "stdout",
     "output_type": "stream",
     "text": [
      " [1] \"mt-Nd1\"  \"mt-Nd2\"  \"mt-Co1\"  \"mt-Co2\"  \"mt-Atp8\" \"mt-Atp6\" \"mt-Co3\" \n",
      " [8] \"mt-Nd3\"  \"mt-Nd4l\" \"mt-Nd4\"  \"mt-Nd5\"  \"mt-Nd6\"  \"mt-Cytb\"\n"
     ]
    },
    {
     "name": "stderr",
     "output_type": "stream",
     "text": [
      "Parameters:\n",
      "\n",
      "min_features: 200\n",
      "\n",
      "num_feature_rna_min: 200\n",
      "\n",
      "num_feature_rna_max: 5000\n",
      "\n",
      "num_feature_rna_min 200\n",
      "\n",
      "mito_pattern ^mt-\n",
      "\n",
      "percent_mito 20\n",
      "\n",
      "\n",
      "\n",
      "Number of cells after QCing original: 5236\n",
      "\n",
      "Number of cells after taking intersection: 4816\n",
      "\n"
     ]
    }
   ],
   "source": [
    "dge_target_list <- list(dge_todrop_NoAlloc_new)\n",
    "use_cells <- get_cells_used(dge_base,dge_target_list,percent_mito = 20)\n",
    "\n",
    "dge_base_intersect   <- dge_base[,use_cells]\n",
    "# dge_to10x_intersect  <- dge_to10x_new[,use_cells]\n",
    "# dge_todrop_intersect <- dge_todrop_new[,use_cells]\n",
    "# dge_to10x_keepUMI_intersect  <- dge_to10x_keepUMI_new[,use_cells]\n",
    "dge_todrop_NoAlloc_intersect  <- dge_todrop_NoAlloc_new[,use_cells]\n"
   ]
  },
  {
   "cell_type": "code",
   "execution_count": 9,
   "id": "0ddd3c45-c7b8-4cef-bc8a-aad690dbb2e0",
   "metadata": {
    "execution": {
     "iopub.execute_input": "2022-03-05T23:33:22.859667Z",
     "iopub.status.busy": "2022-03-05T23:33:22.858661Z",
     "iopub.status.idle": "2022-03-05T23:33:22.874348Z",
     "shell.execute_reply": "2022-03-05T23:33:22.873370Z"
    },
    "tags": []
   },
   "outputs": [
    {
     "data": {
      "text/html": [
       "4816"
      ],
      "text/latex": [
       "4816"
      ],
      "text/markdown": [
       "4816"
      ],
      "text/plain": [
       "[1] 4816"
      ]
     },
     "metadata": {},
     "output_type": "display_data"
    },
    {
     "data": {
      "text/html": [
       "4816"
      ],
      "text/latex": [
       "4816"
      ],
      "text/markdown": [
       "4816"
      ],
      "text/plain": [
       "[1] 4816"
      ]
     },
     "metadata": {},
     "output_type": "display_data"
    }
   ],
   "source": [
    "# intersection\n",
    "ncol(dge_base_intersect)\n",
    "ncol(dge_todrop_NoAlloc_intersect)"
   ]
  },
  {
   "cell_type": "code",
   "execution_count": 10,
   "id": "e7b40ff9-1a39-4646-afed-9154e5703301",
   "metadata": {
    "execution": {
     "iopub.execute_input": "2022-03-05T23:34:03.598125Z",
     "iopub.status.busy": "2022-03-05T23:34:03.597111Z",
     "iopub.status.idle": "2022-03-05T23:34:07.372213Z",
     "shell.execute_reply": "2022-03-05T23:34:07.371031Z"
    },
    "tags": []
   },
   "outputs": [],
   "source": [
    "orig.intersect.seu   <- CreateSeuratObject(dge_base_intersect)\n",
    "# to10x.intersect.seu  <- CreateSeuratObject(dge_to10x_intersect)\n",
    "# todrop.intersect.seu <- CreateSeuratObject(dge_todrop_intersect)\n",
    "todrop.NoAlloc.seu    <- CreateSeuratObject(dge_todrop_NoAlloc_intersect)\n"
   ]
  },
  {
   "cell_type": "code",
   "execution_count": 11,
   "id": "5bd11612-7711-4596-8797-30a22ec73876",
   "metadata": {
    "execution": {
     "iopub.execute_input": "2022-03-05T23:34:07.374615Z",
     "iopub.status.busy": "2022-03-05T23:34:07.373739Z",
     "iopub.status.idle": "2022-03-05T23:34:10.123628Z",
     "shell.execute_reply": "2022-03-05T23:34:10.122433Z"
    },
    "tags": []
   },
   "outputs": [],
   "source": [
    "high_var_genes <- getVarGenes_untilPCA(orig.intersect.seu,num_varFeatures = 5000)"
   ]
  },
  {
   "cell_type": "code",
   "execution_count": 16,
   "id": "bbe31c60-d34c-4ebc-a1b0-dfecd90f166b",
   "metadata": {
    "execution": {
     "iopub.execute_input": "2022-03-05T23:35:45.031266Z",
     "iopub.status.busy": "2022-03-05T23:35:45.030192Z",
     "iopub.status.idle": "2022-03-05T23:36:00.652054Z",
     "shell.execute_reply": "2022-03-05T23:36:00.637805Z"
    },
    "tags": []
   },
   "outputs": [
    {
     "name": "stderr",
     "output_type": "stream",
     "text": [
      "Warning message:\n",
      "“Not all features provided are in this Assay object, removing the following feature(s): Ccl21a, Gm12840, Gm5416, Cldn13, Olfr558, Cd163, Rhag, Adamdec1, Gm13305, Ms4a1, Slfn4, Olfr1369-ps1, Skint1, Cpxm2, Dio3, Gjb4, Apol7c, Cmtm5, Chodl, Klri2, Colec10, Gm30214, Sox10, Hbq1b, Barx1, Ppbp, Cdh22, Trav4-4-dv10, Tpsg1, Klra2, Trem3, Fpr1, Dlx5, Ngp, Ccr6, Adgrb3, Hoxb6, Gm47547, Rmst, Cbln1, Slc32a1, Gm16181, Scrg1, Crybb1, Slc13a3, Gm26762, Skint3, A530076I17Rik, Hsd3b6, Sirpb1c, Caln1, Gm14226, Slitrk6, Iglc2, Rnase12, Nxph1, Hmcn2, Gm38100, Gpr84, Krtap17-1, Faim2, Aadac, Pax5, AA672651, AC110211.1, Gm20442, Gm13075, Col19a1, Gm12979, Slc5a4b, Gm45184, Marco, Slc6a1, Naip1, Dgkk, Lrrc15, Csf3r, St8sia6, Mia, Lilra5, Gpx2, Marc1, Gm14372, Aqp7, Clec4e, Luzp2, Slitrk2, Crtam, Fgf16, Crhbp, Scimp, Ccl17, Prg3, Cartpt, Glycam1, Gm8369, Gm3294, Tac2, Trav9-2, Gm26614, Tspan10, Shisa9, Kir3dl1, Slc35f1, Trav12-1, Gad2, Tgm5, Gm15124, Vwa2, Gapt, Gm5441, Ppp1r17, Gm12688, Ltb4r1, Lhfpl4, Tbx15, Lrat, Sowaha, 4922502D21Rik, Tfap2c, Scg3, C1ql3, Hist1h2ap, Clec4g, Il4, Lgi1, Soat2, 5430401H09Rik, Htr2b, Pou3f2, Myoc, Mannr, Bcan, Hrk, Slc7a9, Vmn2r96, Pira2, Dlx6, Mgam, Olfr78, Pcdhb3, Kcnj10, Itih2, Gm37350, Oxtr, D830039M14Rik, A530064D06Rik, Tnfsf15, Phf24, Erich3, Il23r, Hs3st6, Gdnf, Ccdc85a, Gdf6, Gpr143, Klrg1, Tmem132e, Gp1bb, Lbx1, Nell1, Cemip, Bpifb1, Tmsb15a, Dmrtb1, Klk1b27, Gucy2e, Serpinb2, Rgs13, Atp5o.1, Pik3ap1, Gm47101, Tfec, Ly6g, Trav13-1, Redrum, Sspo, Igll1, Gm13267, Rims2, Gm43409, Gm16222, Il18rap, Tmem213, Gm13398, Tlr11, Gm43650, Gcgr, Pilrb1, Tusc5, Flt3, 9530053A07Rik, Gpr37l1, Fam43b, Dlx6os1, Gm48189, 1700001P01Rik, Rd3l, Adm2, CT033750.2, Igfn1, Car6, Ptpn5, Trav4-3, Gm17250, Prom2, Defb19, Ndp, Eif2c5, Gm43569, 5730460C07Rik, 2310002L09Rik, Grik3, Tmbim7, Lrrtm4, Gdf3, B230209E15Rik, Gm32926, Gm30329, Gm16118, Bco1, Prrxl1, Olfr1507, 4930432J09Rik, Dscaml1, Tmprss5, Dppa5a, Gm10635, Spink8, Prss43, Gm39464, Bhlha9, Krt31, 1700029N11Rik, Gprin1, Serpina10, Csta1, BC016579, Btnl2, 2210404E10Rik, C130060C02Rik, C1ql2, Slc30a10, Rspo4, Gm14493, Pou3f4, Syt6, Gm15721, Gm15581, Iqsec3, Pmis2, Hkdc1, Gm49025, Camp, Abca13, Gm16170, Kcnc2, Pld5, Gm13710, Lrrc55, Gabra2, Lilra6, AU015791, Mroh7, Soga3, E030013I19Rik, Fam19a4, Gm30075, Gm6999, Cntn2, Scd3, Kcnj6, Htr1b, S100g, Oprk1, Rcvrn, Edn3, Sycp3, Elmod1, Asic4, Scg2, Acmsd, Platr29, Gm14291, Glod5, Cd40lg, Kir3dl2, Gm43255, Gm16325, Gm12371, Zfp683, Gm35394, 1700028D13Rik, Hnf1aos1, Nxpe5, Gm30211, 4930516K23Rik, Otogl, Gm32098, Ptpn20, 1700109G14Rik, Olfr224, Mfsd6l, Ccdc42os, Slfn5os, Gm11479, Gm53, Sectm1b, Gm807, 1700099I09Rik, 5033421B08Rik, Gm35996, Gm46516, Apol6, Teddm3, Crygs, Muc4, BC117090, Gm15845, AC138306.1, Gm16275, Npw, Ptx4, Gpr17, St8sia5, Syndig1, Vipr2, Alox5, Plin5, Gpr176, Cd177, Madcam1, Slc5a8, Gm9733, Retn, Olfr655, A630076J17Rik, Rxrg, Krtap28-13, Grem2, Sirpb1b, Ceacam2, Mag, 4930452G13Rik, Grm6, Gm36899, A330094K24Rik, Ankrd34b, Irx3os, Ptprq, Pcdhb4, Slc8a3, Gpr1, Gm13383, Scn9a, Gm16796, Ctcfl, Gpr50, Tex11, Gm15577, Hpcal4, Zfp981, B830042I05Rik, D030068K23Rik, Fa2h, Trav7-5, Trav3-3, Cplx3, Olfr1392, Tcrg-V6, Serpinb6c, C130071C03Rik, Serpina3c, Gm35167, Gm41307, AC102334.1, Pitx3, Gm16150, Spint4, Pla2g2e, Mmd2, Gm13861, Cntn6, Gm10010, Chrna7, 4930567K12Rik, Dupd1, Hoxb8, Gm6569, Pcdhb6, Fcnb, Tlx2, Ceacam10, Gm49016, Tmem179, Adcy8, Atp1b4, Nrsn1, 3110079O15Rik, Ret, Kcnc1, Gm47117, Mdga2, 9530036M11Rik, Gm4265, Galnt14, Atp6v1c2, Klk14, Btn1a1, Cxcr2, Brinp2, Gm13404, C230004F18Rik, Cnksr2, Gm29773, Trim67, Trim30b, Gm35439, Fndc7, 1810011H11Rik, Sult1e1, Mrgpra2b, Gm48284, Cyp8b1, 9830107B12Rik, Gm47938, Gm29461, Zic1, D930028M14Rik, Foxl1, Csf2, Hoxb5os, Chil3, Nptx1, Trpa1, Gdap1, 1700066B17Rik, Mstn, Vil1, C4bp, Olfr433, Gm13652, Olfr1258, Ppef1, Egfem1, Chil5, 0610033M10Rik, Slc4a5, D7Ertd128e, Gvin1, C2cd4a, Mrap2, Krt12, D130043K22Rik, Gm5084, Rhpn1, Tnfrsf17, Pla2g10, AC144408.3, Gm20513, Tmem247, Cyp17a1, Gm16897, Ttc34, Gm43698, Tmem229a, Prok2, D330020A13Rik, Zfp819, Mfsd13b, Gm44929, Gm39228, Trav14-1, Gm17226, 4930542C12Rik, Gm12195, Zfp385c, Gm45941, Gm42477, AC126280.1, Artn, Slc25a21, Nme8, Srrm3, Tmem82, Sprr2b, Tmprss11d, D830030K20Rik, Isl2, Cacnb4, Olfm2, Gm16486, Tmem202, Tarm1, Alx1, Stk32a, Slc2a6, Fam107a, 4732419C18Rik, Frrs1l, Olfr718-ps1, Nptx2, Zfp366, Aass, Tmem171, Zp1, Gm26892, Pip5kl1, Rhox4b, Trpc4, Ugt8a, Cngb3, Gpr63, Cdkn2a, 2610028E06Rik, Slc30a3, Gm26597, Calcr, Tmem139, 4930512J16Rik, Cxcl17, Syce1, Fgf15, Aldh8a1, Ccdc110, Pgr, Zfp558, Gm39348, Gm36278, Gm16010, Kcnip1, Atp10b, F930015N05Rik, Galr2, Gm17638, Gm21917, Ip6k3, Gm43425, Ms4a10, Gm6093, Ppef2, Colgalt2, Zfp966, Sult1c2, Retnla, Asb12, Mfap3l, 2310031A07Rik, Slc22a4, Gng4, Tmem196, Dscam, Gm36283, Eml6, Sall3, Alpi, Grid2, A530032D15Rik, Nfasc, Cacna1s, Gm26801, Rhox8, Gm14902, Ptchd1, Rnf138rt1, Gria2, Ptgfr, Gm42912, Gm15873, Saa1, Gm26674, Tmem200a, Nkain2, 4930463O16Rik, Nupl1, Gm39321, 4931440F15Rik, Zfp354b, Gfap, Gm47423, AL583891.1, Gm26753, Caskin1, Spdef, Gm6213, Trbv29, Dlx2, Gal3st3, Crhr2, Terb1, Slitrk5, AC163720.3, Gpr88, Dab1, Il31ra, Nog, Magel2, Fpr2, Gm31763, Ccr8”\n"
     ]
    }
   ],
   "source": [
    "orig.intersect.seu   <- getVarGenes_untilPCA(orig.intersect.seu,var_genes=high_var_genes,num_varFeatures = 5000)\n",
    "# to10x.intersect.seu  <- getVarGenes_untilPCA(to10x.intersect.seu,var_genes=high_var_genes,num_varFeatures = 5000)\n",
    "# todrop.intersect.seu <- getVarGenes_untilPCA(todrop.intersect.seu,var_genes=high_var_genes,num_varFeatures = 5000)\n",
    "todrop.NoAlloc.seu    <- getVarGenes_untilPCA(todrop.NoAlloc.seu,var_genes=high_var_genes,num_varFeatures = 5000)\n"
   ]
  },
  {
   "cell_type": "code",
   "execution_count": 17,
   "id": "cd8254c0-dad1-4665-9932-ad64858f66ad",
   "metadata": {
    "execution": {
     "iopub.execute_input": "2022-03-05T23:36:07.083781Z",
     "iopub.status.busy": "2022-03-05T23:36:07.082265Z",
     "iopub.status.idle": "2022-03-05T23:36:59.243095Z",
     "shell.execute_reply": "2022-03-05T23:36:59.241552Z"
    },
    "tags": []
   },
   "outputs": [
    {
     "name": "stderr",
     "output_type": "stream",
     "text": [
      "Warning message:\n",
      "“The default method for RunUMAP has changed from calling Python UMAP via reticulate to the R-native UWOT using the cosine metric\n",
      "To use Python UMAP via reticulate, set umap.method to 'umap-learn' and metric to 'correlation'\n",
      "This message will be shown once per session”\n"
     ]
    }
   ],
   "source": [
    "orig.intersect.seu   <- seurat_processing_UMAP(orig.intersect.seu,dimlimit = 20,res = 0.6)\n",
    "# to10x.intersect.seu  <- seurat_processing_UMAP(to10x.intersect.seu,dimlimit = 20,res = 0.6)\n",
    "# todrop.intersect.seu <- seurat_processing_UMAP(todrop.intersect.seu,dimlimit = 20,res = 0.6)\n",
    "todrop.NoAlloc.seu  <- seurat_processing_UMAP(todrop.NoAlloc.seu,dimlimit = 20,res = 0.6)"
   ]
  },
  {
   "cell_type": "code",
   "execution_count": null,
   "id": "39b9919f-96d7-416b-9302-96e5cf8d0e9b",
   "metadata": {
    "execution": {
     "iopub.execute_input": "2022-03-05T23:37:04.314298Z",
     "iopub.status.busy": "2022-03-05T23:37:04.313039Z"
    },
    "tags": []
   },
   "outputs": [
    {
     "ename": "ERROR",
     "evalue": "Error in saveRDS(to10x.keepUMI.seu, paste0(store_dir, \"Mar2022_processed_10x_to_drop_NoAlloc_Seurat.rds\")):  オブジェクト 'to10x.keepUMI.seu' がありません \n",
     "output_type": "error",
     "traceback": [
      "Error in saveRDS(to10x.keepUMI.seu, paste0(store_dir, \"Mar2022_processed_10x_to_drop_NoAlloc_Seurat.rds\")):  オブジェクト 'to10x.keepUMI.seu' がありません \nTraceback:\n",
      "1. saveRDS(to10x.keepUMI.seu, paste0(store_dir, \"Mar2022_processed_10x_to_drop_NoAlloc_Seurat.rds\"))"
     ]
    }
   ],
   "source": [
    "store_dir <- \"/home/ha5656/work/Interstellar_test/seurat_obj/\"\n",
    "\n",
    "saveRDS(orig.intersect.seu,paste0(store_dir,\"Mar2022_processed_10x_original_Seurat.intersectionWithNoAlloc.rds\"))\n",
    "# saveRDS(to10x.intersect.seu,paste0(store_dir,\"Mar2022_processed_10x_to_10x_rand_Seurat.rds\"))\n",
    "# saveRDS(todrop.intersect.seu,paste0(store_dir,\"Mar2022_processed_10x_to_drop_rand_Seurat.rds\"))\n",
    "saveRDS(todrop.NoAlloc.seu,paste0(store_dir,\"Mar2022_processed_10x_to_drop_NoAlloc_Seurat.rds\"))"
   ]
  },
  {
   "cell_type": "code",
   "execution_count": 6,
   "id": "54c515f8-0543-4a02-808d-5ed200bf49a9",
   "metadata": {},
   "outputs": [],
   "source": [
    "store_dir <- \"/home/ha5656/work/Interstellar_test/seurat_obj/\"\n",
    "\n",
    "orig.intersect.seu <- readRDS(paste0(store_dir,\"Mar2022_processed_10x_original_Seurat.intersectionWithNoAlloc.rds\"))\n",
    "todrop.NoAlloc.seu <- readRDS(paste0(store_dir,\"Mar2022_processed_10x_to_drop_NoAlloc_Seurat.rds\"))"
   ]
  },
  {
   "cell_type": "code",
   "execution_count": 20,
   "id": "24a34e29-c160-49a7-bbaa-9b7b0885012e",
   "metadata": {
    "execution": {
     "iopub.execute_input": "2022-03-05T23:39:02.439046Z",
     "iopub.status.busy": "2022-03-05T23:39:02.436997Z",
     "iopub.status.idle": "2022-03-05T23:39:53.904111Z",
     "shell.execute_reply": "2022-03-05T23:39:53.901535Z"
    },
    "tags": []
   },
   "outputs": [],
   "source": [
    "#Fig drawing\n",
    "draw_umap(seu_base = orig.intersect.seu,\n",
    "          seu_to10x = orig.intersect.seu,\n",
    "          seu_todrop = todrop.NoAlloc.seu,\n",
    "          col_seed = 6,\n",
    "          w=6,\n",
    "          h=6,\n",
    "          is_pdf=F,\n",
    "          outdir = \"/home/ha5656/work/Interstellar_test/analysis_out/10toAll\",\n",
    "          outname = \"Mar2022_10x_NoAlloc\")"
   ]
  },
  {
   "cell_type": "code",
   "execution_count": 21,
   "id": "0ab48bd4-d251-4672-b0a6-ad3ef76dae71",
   "metadata": {
    "execution": {
     "iopub.execute_input": "2022-03-05T23:39:53.907993Z",
     "iopub.status.busy": "2022-03-05T23:39:53.906709Z",
     "iopub.status.idle": "2022-03-05T23:40:32.842248Z",
     "shell.execute_reply": "2022-03-05T23:40:32.840807Z"
    },
    "tags": []
   },
   "outputs": [
    {
     "name": "stdout",
     "output_type": "stream",
     "text": [
      "[1] \"start...\"\n",
      "[1] \"start sampling...\"\n"
     ]
    }
   ],
   "source": [
    "#Export CellCellDist\n",
    "v.vln.todrop <- get_dist_pcaspace_scatter(orig.intersect.seu,\n",
    "                                          todrop.NoAlloc.seu,\n",
    "                                          outdir = \"/home/ha5656/work/Interstellar_test/analysis_out/10toAll\",\n",
    "                                          outname = \"Mar2022_10x_to_drop_NoAlloc\")"
   ]
  },
  {
   "cell_type": "code",
   "execution_count": null,
   "id": "b5ac210f-5c49-40ff-990c-f6f7872fb4b1",
   "metadata": {},
   "outputs": [],
   "source": []
  }
 ],
 "metadata": {
  "kernelspec": {
   "display_name": "R 4.1.1",
   "language": "R",
   "name": "ir411"
  },
  "language_info": {
   "codemirror_mode": "r",
   "file_extension": ".r",
   "mimetype": "text/x-r-source",
   "name": "R",
   "pygments_lexer": "r",
   "version": "4.1.1"
  }
 },
 "nbformat": 4,
 "nbformat_minor": 5
}
