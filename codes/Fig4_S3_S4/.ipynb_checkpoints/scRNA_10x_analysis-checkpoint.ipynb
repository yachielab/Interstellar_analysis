{
 "cells": [
  {
   "cell_type": "code",
   "execution_count": null,
   "id": "51eb21f1-9d1a-422d-8b73-5717466f6990",
   "metadata": {
    "tags": []
   },
   "outputs": [],
   "source": [
    "library(Seurat)\n",
    "library(Matrix)\n",
    "library(tidyverse)"
   ]
  },
  {
   "cell_type": "code",
   "execution_count": null,
   "id": "cb439412-e6c7-4012-baa4-9f237ae9a762",
   "metadata": {
    "tags": []
   },
   "outputs": [],
   "source": [
    "source(\"/home/ha5656/work/barista/paper_data/R_fig_script/src/sc_preprocess.R\")"
   ]
  },
  {
   "cell_type": "code",
   "execution_count": null,
   "id": "d86f1a20-e1d6-4bad-9d44-ca26876e5aa7",
   "metadata": {
    "tags": []
   },
   "outputs": [],
   "source": [
    "# The following RDS files are products from import_DGE.R\n",
    "\n",
    "dge_base   <- readRDS(\"vFeb202110x_original_rawdge.rds\")\n",
    "dge_to10x  <- readRDS(\"10x_to_10x_rand.10x.rds\")\n",
    "dge_todrop <- readRDS(\"10x_to_drop_rand.drop.rds\")\n",
    "dge_to10x_keepUMI  <- readRDS(\"10x_to_10x_keep.10x.rds\")"
   ]
  },
  {
   "cell_type": "code",
   "execution_count": null,
   "id": "ea57fe51-598b-40c1-ab24-ad64c75599ca",
   "metadata": {
    "tags": []
   },
   "outputs": [],
   "source": [
    "bclist_to10x  <- read.table(\"barcode_correspondence_data/Fig4/10x_to_10x_rand_merge_correspondence.tsv\",header=F)\n",
    "bclist_toDrop <- read.table(\"barcode_correspondence_data//Fig4/10x_to_drop_rand_merge_correspondence.tsv\",header=F)\n",
    "bclist_to10x_keepUMI <- read.table(\"barcode_correspondence_data//Fig4/10x_to_10x_keep_merge_correspondence.tsv\",header=F)"
   ]
  },
  {
   "cell_type": "code",
   "execution_count": null,
   "id": "bd649b65-8b9c-4e52-8d90-9e5c08158d25",
   "metadata": {
    "tags": []
   },
   "outputs": [],
   "source": [
    "colnames(dge_base) <- gsub(\"-1\",\"\",colnames(dge_base))\n",
    "colnames(dge_to10x) <- gsub(\"-1\",\"\",colnames(dge_to10x))\n",
    "colnames(dge_to10x_keepUMI) <- gsub(\"-1\",\"\",colnames(dge_to10x_keepUMI))\n",
    "\n",
    "dge_to10x_new  <- refresh_dge(dge_to10x,bclist_to10x$V1,bclist_to10x$V2)\n",
    "dge_todrop_new <- refresh_dge(dge_todrop,bclist_toDrop$V1,bclist_toDrop$V2)\n",
    "dge_to10x_keepUMI_new <- refresh_dge(dge_to10x_keepUMI,bclist_to10x_keepUMI$V1,bclist_to10x_keepUMI$V2)\n"
   ]
  },
  {
   "cell_type": "code",
   "execution_count": null,
   "id": "b832c68b-c565-42ad-927e-af98f477ba27",
   "metadata": {
    "tags": []
   },
   "outputs": [],
   "source": [
    "dge_target_list <- list(dge_to10x_new,dge_todrop_new,dge_to10x_keepUMI_new)\n",
    "use_cells <- get_cells_used(dge_base,dge_target_list,percent_mito = 20)\n",
    "\n",
    "dge_base_intersect   <- dge_base[,use_cells]\n",
    "dge_to10x_intersect  <- dge_to10x_new[,use_cells]\n",
    "dge_todrop_intersect <- dge_todrop_new[,use_cells]\n",
    "dge_to10x_keepUMI_intersect  <- dge_to10x_keepUMI_new[,use_cells]\n"
   ]
  },
  {
   "cell_type": "code",
   "execution_count": null,
   "id": "26979a98-d66a-40ca-baaa-5bc50490f849",
   "metadata": {},
   "outputs": [],
   "source": [
    "orig.intersect.seu   <- CreateSeuratObject(dge_base_intersect)\n",
    "to10x.intersect.seu  <- CreateSeuratObject(dge_to10x_intersect)\n",
    "todrop.intersect.seu <- CreateSeuratObject(dge_todrop_intersect)\n",
    "to10x.keepUMI.seu    <- CreateSeuratObject(dge_to10x_keepUMI_intersect)\n"
   ]
  },
  {
   "cell_type": "code",
   "execution_count": null,
   "id": "ac5a2a9b-a83f-4568-b701-bbcbfc6f3901",
   "metadata": {},
   "outputs": [],
   "source": [
    "high_var_genes <- getVarGenes_untilPCA(orig.intersect.seu,num_varFeatures = 5000)"
   ]
  },
  {
   "cell_type": "code",
   "execution_count": null,
   "id": "4ba2e0f8-6ce8-41ab-9c53-d95218d1de5f",
   "metadata": {},
   "outputs": [],
   "source": [
    "orig.intersect.seu   <- getVarGenes_untilPCA(orig.intersect.seu,var_genes=high_var_genes,num_varFeatures = 5000)\n",
    "to10x.intersect.seu  <- getVarGenes_untilPCA(to10x.intersect.seu,var_genes=high_var_genes,num_varFeatures = 5000)\n",
    "todrop.intersect.seu <- getVarGenes_untilPCA(todrop.intersect.seu,var_genes=high_var_genes,num_varFeatures = 5000)\n",
    "to10x.keepUMI.seu    <- getVarGenes_untilPCA(to10x.keepUMI.seu,var_genes=high_var_genes,num_varFeatures = 5000)\n"
   ]
  },
  {
   "cell_type": "code",
   "execution_count": null,
   "id": "d1227816-1f4e-4abb-a15a-e09d19c32cd2",
   "metadata": {},
   "outputs": [],
   "source": [
    "orig.intersect.seu   <- seurat_processing_UMAP(orig.intersect.seu,dimlimit = 20,res = 0.6)\n",
    "to10x.intersect.seu  <- seurat_processing_UMAP(to10x.intersect.seu,dimlimit = 20,res = 0.6)\n",
    "todrop.intersect.seu <- seurat_processing_UMAP(todrop.intersect.seu,dimlimit = 20,res = 0.6)\n",
    "to10x.keepUMI.seu  <- seurat_processing_UMAP(to10x.keepUMI.seu,dimlimit = 20,res = 0.6)"
   ]
  },
  {
   "cell_type": "code",
   "execution_count": null,
   "id": "439bf09c-0dbc-4625-8671-95b977f237be",
   "metadata": {
    "tags": []
   },
   "outputs": [],
   "source": [
    "store_dir <- \"seurat_obj/\"\n",
    "\n",
    "saveRDS(orig.intersect.seu,paste0(store_dir,\"Mar2022_processed_10x_original_Seurat.rds\"))\n",
    "saveRDS(to10x.intersect.seu,paste0(store_dir,\"Mar2022_processed_10x_to_10x_rand_Seurat.rds\"))\n",
    "saveRDS(todrop.intersect.seu,paste0(store_dir,\"Mar2022_processed_10x_to_drop_rand_Seurat.rds\"))\n",
    "saveRDS(to10x.keepUMI.seu,paste0(store_dir,\"Mar2022_processed_10x_to_10x_keep_Seurat.rds\"))"
   ]
  },
  {
   "cell_type": "code",
   "execution_count": null,
   "id": "fa5731e4-92f9-49af-afc8-ff3cd02a032d",
   "metadata": {
    "tags": []
   },
   "outputs": [],
   "source": [
    "#Fig drawing\n",
    "draw_umap(seu_base = orig.intersect.seu,\n",
    "          seu_to10x = to10x.intersect.seu,\n",
    "          seu_todrop = todrop.intersect.seu,\n",
    "          col_seed = 6,\n",
    "          w=6,\n",
    "          h=6,\n",
    "          is_pdf=F,\n",
    "          outdir = \"figure_out/\",\n",
    "          outname = \"Mar2022_10x_randReassign\")"
   ]
  },
  {
   "cell_type": "code",
   "execution_count": null,
   "id": "35efbeea-4fec-4d12-b16c-e72cc86ca83f",
   "metadata": {
    "tags": []
   },
   "outputs": [],
   "source": [
    "#Export CellCellDist\n",
    "v.vln.to10x <- get_dist_pcaspace_scatter(orig.intersect.seu,\n",
    "                                         to10x.intersect.seu,\n",
    "                                         outdir = \"figure_out/\",\n",
    "                                         outname = \"Mar2022_10x_to_10x_randReassign\")\n",
    "v.vln.todrop <- get_dist_pcaspace_scatter(orig.intersect.seu,\n",
    "                                          todrop.intersect.seu,\n",
    "                                          outdir = \"figure_out/\",\n",
    "                                          outname = \"Mar2022_10x_to_drop_randReassign\")\n",
    "v.vln.to10x_keep <- get_dist_pcaspace_scatter(orig.intersect.seu,\n",
    "                                              to10x.keepUMI.seu,\n",
    "                                              outdir = \"figure_out/\",\n",
    "                                              outname = \"Mar2022_10x_to_10x_keep\")\n"
   ]
  },
  {
   "cell_type": "code",
   "execution_count": null,
   "id": "39efda07-e608-4d11-9b45-9823dffaaff8",
   "metadata": {},
   "outputs": [],
   "source": []
  }
 ],
 "metadata": {
  "kernelspec": {
   "display_name": "R4",
   "language": "R",
   "name": "ir"
  },
  "language_info": {
   "codemirror_mode": "r",
   "file_extension": ".r",
   "mimetype": "text/x-r-source",
   "name": "R",
   "pygments_lexer": "r",
   "version": "4.2.1"
  }
 },
 "nbformat": 4,
 "nbformat_minor": 5
}
