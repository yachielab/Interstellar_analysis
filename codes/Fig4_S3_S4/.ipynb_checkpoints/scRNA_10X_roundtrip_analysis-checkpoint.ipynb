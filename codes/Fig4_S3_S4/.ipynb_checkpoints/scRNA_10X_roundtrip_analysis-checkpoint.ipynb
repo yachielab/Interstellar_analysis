{
 "cells": [
  {
   "cell_type": "code",
   "execution_count": 55,
   "id": "2757d812-cf07-4b1b-b4ac-084d88d02f10",
   "metadata": {
    "execution": {
     "iopub.execute_input": "2022-08-20T16:50:00.039167Z",
     "iopub.status.busy": "2022-08-20T16:50:00.037859Z",
     "iopub.status.idle": "2022-08-20T16:50:00.058627Z",
     "shell.execute_reply": "2022-08-20T16:50:00.057329Z"
    },
    "tags": []
   },
   "outputs": [],
   "source": [
    "library(Seurat)\n",
    "library(Matrix)\n",
    "library(tidyverse)\n",
    "\n",
    "source(\"/home/ha5656/work/barista/paper_data/R_fig_script/src/sc_preprocess.R\")"
   ]
  },
  {
   "cell_type": "code",
   "execution_count": 7,
   "id": "d42cf98f-6d63-4e2b-aabc-8843b8342b08",
   "metadata": {
    "execution": {
     "iopub.execute_input": "2022-08-20T04:45:17.241710Z",
     "iopub.status.busy": "2022-08-20T04:45:17.240642Z",
     "iopub.status.idle": "2022-08-20T04:45:20.660918Z",
     "shell.execute_reply": "2022-08-20T04:45:20.659314Z"
    },
    "tags": []
   },
   "outputs": [],
   "source": [
    "dge_base   <- readRDS(\"/home/ha5656/work/barista/paper_data/R_fig_script//intermediate_dataset//dge_Feb2021/vFeb202110x_original_rawdge.rds\")\n",
    "dge_roundtrip <- readRDS(\"/home/ha5656/work//Interstellar_test/REVISION_RND1//round_trip//intermediate_data//10x_roundtrip.10x.rds\")"
   ]
  },
  {
   "cell_type": "code",
   "execution_count": 13,
   "id": "8224fce4-a5fe-44ba-9d1f-4b2391b1d9af",
   "metadata": {
    "execution": {
     "iopub.execute_input": "2022-08-20T04:50:53.818353Z",
     "iopub.status.busy": "2022-08-20T04:50:53.798500Z",
     "iopub.status.idle": "2022-08-20T04:51:01.430415Z",
     "shell.execute_reply": "2022-08-20T04:51:01.427968Z"
    },
    "tags": []
   },
   "outputs": [],
   "source": [
    "bclist_fwd <- read.table(\"/home/ha5656/work/Interstellar_test/REVISION_RND1/round_trip/bc_correspo//10X/fwd/merge_correspondence.tsv\",header=F)\n",
    "bclist_rev <- read.table(\"/home/ha5656/work/Interstellar_test/REVISION_RND1/round_trip/bc_correspo//10X/rev/merge_correspondence.tsv\",header=F)"
   ]
  },
  {
   "cell_type": "code",
   "execution_count": 15,
   "id": "4f3f2a99-c4e6-41d2-96a1-c4828c741d55",
   "metadata": {
    "execution": {
     "iopub.execute_input": "2022-08-20T04:51:04.591494Z",
     "iopub.status.busy": "2022-08-20T04:51:04.590131Z",
     "iopub.status.idle": "2022-08-20T04:51:26.774772Z",
     "shell.execute_reply": "2022-08-20T04:51:26.772160Z"
    },
    "tags": []
   },
   "outputs": [],
   "source": [
    "bclist <- merge(bclist_fwd,bclist_rev,by.x=2,by.y=1)"
   ]
  },
  {
   "cell_type": "code",
   "execution_count": 17,
   "id": "a6a3dc4a-3d5a-44ea-bf0c-8b4c2bcb796f",
   "metadata": {
    "execution": {
     "iopub.execute_input": "2022-08-20T04:52:01.588248Z",
     "iopub.status.busy": "2022-08-20T04:52:01.586851Z",
     "iopub.status.idle": "2022-08-20T04:52:01.598754Z",
     "shell.execute_reply": "2022-08-20T04:52:01.597510Z"
    },
    "tags": []
   },
   "outputs": [],
   "source": [
    "colnames(bclist) <- c(\"sim\",\"orig\",\"roundtrip\")"
   ]
  },
  {
   "cell_type": "code",
   "execution_count": 18,
   "id": "e2edebdf-4786-4a29-b069-8119e60d4bd4",
   "metadata": {
    "execution": {
     "iopub.execute_input": "2022-08-20T04:53:45.495962Z",
     "iopub.status.busy": "2022-08-20T04:53:45.493592Z",
     "iopub.status.idle": "2022-08-20T04:53:45.514081Z",
     "shell.execute_reply": "2022-08-20T04:53:45.512808Z"
    }
   },
   "outputs": [
    {
     "data": {
      "text/html": [
       "<style>\n",
       ".list-inline {list-style: none; margin:0; padding: 0}\n",
       ".list-inline>li {display: inline-block}\n",
       ".list-inline>li:not(:last-child)::after {content: \"\\00b7\"; padding: 0 .5ex}\n",
       "</style>\n",
       "<ol class=list-inline><li>2063955</li><li>3</li></ol>\n"
      ],
      "text/latex": [
       "\\begin{enumerate*}\n",
       "\\item 2063955\n",
       "\\item 3\n",
       "\\end{enumerate*}\n"
      ],
      "text/markdown": [
       "1. 2063955\n",
       "2. 3\n",
       "\n",
       "\n"
      ],
      "text/plain": [
       "[1] 2063955       3"
      ]
     },
     "metadata": {},
     "output_type": "display_data"
    }
   ],
   "source": [
    "dim(bclist)"
   ]
  },
  {
   "cell_type": "code",
   "execution_count": 24,
   "id": "72cfd3f9-e26d-4707-8ecf-861ca0362d1e",
   "metadata": {
    "execution": {
     "iopub.execute_input": "2022-08-20T04:56:21.592566Z",
     "iopub.status.busy": "2022-08-20T04:56:21.517024Z",
     "iopub.status.idle": "2022-08-20T04:56:22.694051Z",
     "shell.execute_reply": "2022-08-20T04:56:22.692781Z"
    },
    "tags": []
   },
   "outputs": [],
   "source": [
    "colnames(dge_base) <- gsub(\"-1\",\"\",colnames(dge_base))\n",
    "colnames(dge_roundtrip) <- gsub(\"-1\",\"\",colnames(dge_roundtrip))\n",
    "dge_new <- refresh_dge(dge_roundtrip,bclist$orig,bclist$roundtrip)"
   ]
  },
  {
   "cell_type": "code",
   "execution_count": 25,
   "id": "2d25a08f-d32f-4bcd-b09d-b822c844dafd",
   "metadata": {
    "execution": {
     "iopub.execute_input": "2022-08-20T04:56:28.735399Z",
     "iopub.status.busy": "2022-08-20T04:56:28.734420Z",
     "iopub.status.idle": "2022-08-20T04:56:28.744786Z",
     "shell.execute_reply": "2022-08-20T04:56:28.743792Z"
    },
    "tags": []
   },
   "outputs": [
    {
     "data": {
      "text/html": [
       "<style>\n",
       ".list-inline {list-style: none; margin:0; padding: 0}\n",
       ".list-inline>li {display: inline-block}\n",
       ".list-inline>li:not(:last-child)::after {content: \"\\00b7\"; padding: 0 .5ex}\n",
       "</style>\n",
       "<ol class=list-inline><li>'ACGTAGTAGCGAATGC'</li><li>'CGGGACTTCAGACAAA'</li><li>'GGGCGTTGTAGACGTG'</li><li>'TGTAAGCAGTGGACTG'</li><li>'GTTACCCTCCGCTGTT'</li><li>'ACCCTCAAGCACCTGC'</li></ol>\n"
      ],
      "text/latex": [
       "\\begin{enumerate*}\n",
       "\\item 'ACGTAGTAGCGAATGC'\n",
       "\\item 'CGGGACTTCAGACAAA'\n",
       "\\item 'GGGCGTTGTAGACGTG'\n",
       "\\item 'TGTAAGCAGTGGACTG'\n",
       "\\item 'GTTACCCTCCGCTGTT'\n",
       "\\item 'ACCCTCAAGCACCTGC'\n",
       "\\end{enumerate*}\n"
      ],
      "text/markdown": [
       "1. 'ACGTAGTAGCGAATGC'\n",
       "2. 'CGGGACTTCAGACAAA'\n",
       "3. 'GGGCGTTGTAGACGTG'\n",
       "4. 'TGTAAGCAGTGGACTG'\n",
       "5. 'GTTACCCTCCGCTGTT'\n",
       "6. 'ACCCTCAAGCACCTGC'\n",
       "\n",
       "\n"
      ],
      "text/plain": [
       "[1] \"ACGTAGTAGCGAATGC\" \"CGGGACTTCAGACAAA\" \"GGGCGTTGTAGACGTG\" \"TGTAAGCAGTGGACTG\"\n",
       "[5] \"GTTACCCTCCGCTGTT\" \"ACCCTCAAGCACCTGC\""
      ]
     },
     "metadata": {},
     "output_type": "display_data"
    }
   ],
   "source": [
    "colnames(dge_new) %>% head"
   ]
  },
  {
   "cell_type": "code",
   "execution_count": 26,
   "id": "cfe898af-c05c-4d0d-a6e2-c1fe1688e30f",
   "metadata": {
    "execution": {
     "iopub.execute_input": "2022-08-20T04:56:32.779017Z",
     "iopub.status.busy": "2022-08-20T04:56:32.778150Z",
     "iopub.status.idle": "2022-08-20T04:56:40.561564Z",
     "shell.execute_reply": "2022-08-20T04:56:40.560317Z"
    },
    "tags": []
   },
   "outputs": [
    {
     "name": "stdout",
     "output_type": "stream",
     "text": [
      " [1] \"mt-Nd1\"  \"mt-Nd2\"  \"mt-Co1\"  \"mt-Co2\"  \"mt-Atp8\" \"mt-Atp6\" \"mt-Co3\" \n",
      " [8] \"mt-Nd3\"  \"mt-Nd4l\" \"mt-Nd4\"  \"mt-Nd5\"  \"mt-Nd6\"  \"mt-Cytb\"\n"
     ]
    },
    {
     "name": "stderr",
     "output_type": "stream",
     "text": [
      "Parameters:\n",
      "\n",
      "min_features: 200\n",
      "\n",
      "num_feature_rna_min: 200\n",
      "\n",
      "num_feature_rna_max: 5000\n",
      "\n",
      "num_feature_rna_min 200\n",
      "\n",
      "mito_pattern ^mt-\n",
      "\n",
      "percent_mito 20\n",
      "\n",
      "\n",
      "\n",
      "Number of cells after QCing original: 5236\n",
      "\n",
      "Number of cells after taking intersection: 4629\n",
      "\n"
     ]
    }
   ],
   "source": [
    "dge_target_list <- list(dge_new)\n",
    "use_cells <- get_cells_used(dge_base,dge_target_list,percent_mito = 20)\n",
    "\n",
    "dge_base_intersect   <- dge_base[,use_cells]\n",
    "dge_new_intersect  <- dge_new[,use_cells]"
   ]
  },
  {
   "cell_type": "code",
   "execution_count": 27,
   "id": "34a3ec12-b501-4473-97f8-5dc13af6f9dc",
   "metadata": {
    "execution": {
     "iopub.execute_input": "2022-08-20T04:56:44.099415Z",
     "iopub.status.busy": "2022-08-20T04:56:44.098504Z",
     "iopub.status.idle": "2022-08-20T04:56:44.112052Z",
     "shell.execute_reply": "2022-08-20T04:56:44.111078Z"
    },
    "tags": []
   },
   "outputs": [
    {
     "data": {
      "text/html": [
       "4629"
      ],
      "text/latex": [
       "4629"
      ],
      "text/markdown": [
       "4629"
      ],
      "text/plain": [
       "[1] 4629"
      ]
     },
     "metadata": {},
     "output_type": "display_data"
    },
    {
     "data": {
      "text/html": [
       "4629"
      ],
      "text/latex": [
       "4629"
      ],
      "text/markdown": [
       "4629"
      ],
      "text/plain": [
       "[1] 4629"
      ]
     },
     "metadata": {},
     "output_type": "display_data"
    }
   ],
   "source": [
    "# intersection\n",
    "ncol(dge_base_intersect)\n",
    "ncol(dge_new_intersect)"
   ]
  },
  {
   "cell_type": "code",
   "execution_count": 28,
   "id": "4d6ee569-a23d-43e6-9e0c-524390cd1b62",
   "metadata": {
    "execution": {
     "iopub.execute_input": "2022-08-20T04:57:18.272262Z",
     "iopub.status.busy": "2022-08-20T04:57:18.271223Z",
     "iopub.status.idle": "2022-08-20T04:57:19.112158Z",
     "shell.execute_reply": "2022-08-20T04:57:19.110932Z"
    },
    "tags": []
   },
   "outputs": [],
   "source": [
    "orig.intersect.seu   <- CreateSeuratObject(dge_base_intersect)\n",
    "roundtrip.seu    <- CreateSeuratObject(dge_new_intersect)"
   ]
  },
  {
   "cell_type": "code",
   "execution_count": 30,
   "id": "d55f8dbc-4823-4d0e-89a0-7cfad47e0014",
   "metadata": {
    "execution": {
     "iopub.execute_input": "2022-08-20T04:58:11.171039Z",
     "iopub.status.busy": "2022-08-20T04:58:11.169952Z",
     "iopub.status.idle": "2022-08-20T04:58:14.121628Z",
     "shell.execute_reply": "2022-08-20T04:58:14.120411Z"
    },
    "tags": []
   },
   "outputs": [],
   "source": [
    "high_var_genes <- getVarGenes_untilPCA(orig.intersect.seu,num_varFeatures = 5000)"
   ]
  },
  {
   "cell_type": "code",
   "execution_count": 31,
   "id": "5cdb4291-9758-4f28-89ee-b182ce11b8c6",
   "metadata": {
    "execution": {
     "iopub.execute_input": "2022-08-20T04:58:24.248563Z",
     "iopub.status.busy": "2022-08-20T04:58:24.247425Z",
     "iopub.status.idle": "2022-08-20T04:58:34.574213Z",
     "shell.execute_reply": "2022-08-20T04:58:34.572755Z"
    },
    "tags": []
   },
   "outputs": [],
   "source": [
    "orig.intersect.seu   <- getVarGenes_untilPCA(orig.intersect.seu,var_genes=high_var_genes,num_varFeatures = 5000)\n",
    "roundtrip.seu    <- getVarGenes_untilPCA(roundtrip.seu,var_genes=high_var_genes,num_varFeatures = 5000)"
   ]
  },
  {
   "cell_type": "code",
   "execution_count": 32,
   "id": "9acd8334-2d44-4569-9d86-cb939397960e",
   "metadata": {
    "execution": {
     "iopub.execute_input": "2022-08-20T04:58:35.935787Z",
     "iopub.status.busy": "2022-08-20T04:58:35.934857Z",
     "iopub.status.idle": "2022-08-20T04:59:43.755362Z",
     "shell.execute_reply": "2022-08-20T04:59:43.753925Z"
    },
    "tags": []
   },
   "outputs": [
    {
     "name": "stderr",
     "output_type": "stream",
     "text": [
      "Warning message:\n",
      "“The default method for RunUMAP has changed from calling Python UMAP via reticulate to the R-native UWOT using the cosine metric\n",
      "To use Python UMAP via reticulate, set umap.method to 'umap-learn' and metric to 'correlation'\n",
      "This message will be shown once per session”\n"
     ]
    }
   ],
   "source": [
    "orig.intersect.seu   <- seurat_processing_UMAP(orig.intersect.seu,dimlimit = 20,res = 0.6)\n",
    "roundtrip.seu  <- seurat_processing_UMAP(roundtrip.seu,dimlimit = 20,res = 0.6)"
   ]
  },
  {
   "cell_type": "code",
   "execution_count": 33,
   "id": "a21bb106-308b-41b0-bfc1-cb0584c4b1cc",
   "metadata": {
    "execution": {
     "iopub.execute_input": "2022-08-20T05:01:23.135084Z",
     "iopub.status.busy": "2022-08-20T05:01:23.133875Z",
     "iopub.status.idle": "2022-08-20T05:02:01.762033Z",
     "shell.execute_reply": "2022-08-20T05:02:01.727116Z"
    },
    "tags": []
   },
   "outputs": [],
   "source": [
    "store_dir <- \"/home/ha5656/work/Interstellar_test/REVISION_RND1//round_trip/intermediate_data/\"\n",
    "\n",
    "saveRDS(orig.intersect.seu, paste0(store_dir,\"Aug2022_processed_10x_original_Seurat.intersectionWithRndTrip.rds\"))\n",
    "saveRDS(roundtrip.seu, paste0(store_dir,\"Aug2022_processed_10x_roundTrip_Seurat.rds\"))"
   ]
  },
  {
   "cell_type": "code",
   "execution_count": 46,
   "id": "85f56452-2541-4b78-aa64-a45ae6691faa",
   "metadata": {
    "execution": {
     "iopub.execute_input": "2022-08-20T16:45:52.970620Z",
     "iopub.status.busy": "2022-08-20T16:45:52.969318Z",
     "iopub.status.idle": "2022-08-20T16:45:57.916471Z",
     "shell.execute_reply": "2022-08-20T16:45:57.913584Z"
    }
   },
   "outputs": [],
   "source": [
    "store_dir <- \"/home/ha5656/work/Interstellar_test/REVISION_RND1//round_trip/intermediate_data/\"\n",
    "\n",
    "orig.intersect.seu <- readRDS(paste0(store_dir,\"Aug2022_processed_10x_original_Seurat.intersectionWithRndTrip.rds\"))\n",
    "roundtrip.seu <- readRDS(paste0(store_dir,\"Aug2022_processed_10x_roundTrip_Seurat.rds\"))"
   ]
  },
  {
   "cell_type": "markdown",
   "id": "f1b02af7-2c6f-4638-a767-623cf939ef6f",
   "metadata": {},
   "source": [
    "#### Use cell state labels identified in the original seurat obj used in Figure 4"
   ]
  },
  {
   "cell_type": "code",
   "execution_count": 47,
   "id": "0fda38a6-555b-4c7b-92c1-3eff1b593408",
   "metadata": {
    "execution": {
     "iopub.execute_input": "2022-08-20T16:46:05.157355Z",
     "iopub.status.busy": "2022-08-20T16:46:05.155610Z",
     "iopub.status.idle": "2022-08-20T16:46:08.863340Z",
     "shell.execute_reply": "2022-08-20T16:46:08.856754Z"
    },
    "tags": []
   },
   "outputs": [],
   "source": [
    "orig.fig4.seu <- readRDS(\"~/work/barista/paper_data/R_fig_script/intermediate_dataset//seurat_rds_Feb2021/Feb2021_10x_original_Seurat.rds\")"
   ]
  },
  {
   "cell_type": "code",
   "execution_count": 50,
   "id": "65073da1-53b0-4e90-acae-7130ec49559a",
   "metadata": {
    "execution": {
     "iopub.execute_input": "2022-08-20T16:47:15.929134Z",
     "iopub.status.busy": "2022-08-20T16:47:15.927825Z",
     "iopub.status.idle": "2022-08-20T16:47:15.956614Z",
     "shell.execute_reply": "2022-08-20T16:47:15.955361Z"
    },
    "tags": []
   },
   "outputs": [],
   "source": [
    "celltype_v_fig4 <- orig.fig4.seu$seurat_clusters\n",
    "celltype_v_fig4 <- celltype_v_fig4[colnames(orig.intersect.seu)]"
   ]
  },
  {
   "cell_type": "code",
   "execution_count": 51,
   "id": "e80f6673-ca97-42a9-be5e-7e6412d57fbe",
   "metadata": {
    "execution": {
     "iopub.execute_input": "2022-08-20T16:47:21.111068Z",
     "iopub.status.busy": "2022-08-20T16:47:21.109762Z",
     "iopub.status.idle": "2022-08-20T16:47:21.124715Z",
     "shell.execute_reply": "2022-08-20T16:47:21.123533Z"
    }
   },
   "outputs": [
    {
     "data": {
      "text/html": [
       "<style>\n",
       ".dl-inline {width: auto; margin:0; padding: 0}\n",
       ".dl-inline>dt, .dl-inline>dd {float: none; width: auto; display: inline-block}\n",
       ".dl-inline>dt::after {content: \":\\0020\"; padding-right: .5ex}\n",
       ".dl-inline>dt:not(:first-of-type) {padding-left: .5ex}\n",
       "</style><dl class=dl-inline><dt>ACGTAGTAGCGAATGC</dt><dd>5</dd><dt>CGGGACTTCAGACAAA</dt><dd>0</dd><dt>GGGCGTTGTAGACGTG</dt><dd>5</dd><dt>TGTAAGCAGTGGACTG</dt><dd>15</dd><dt>GTTACCCTCCGCTGTT</dt><dd>1</dd><dt>ACCCTCAAGCACCTGC</dt><dd>2</dd></dl>\n",
       "\n",
       "<details>\n",
       "\t<summary style=display:list-item;cursor:pointer>\n",
       "\t\t<strong>Levels</strong>:\n",
       "\t</summary>\n",
       "\t<style>\n",
       "\t.list-inline {list-style: none; margin:0; padding: 0}\n",
       "\t.list-inline>li {display: inline-block}\n",
       "\t.list-inline>li:not(:last-child)::after {content: \"\\00b7\"; padding: 0 .5ex}\n",
       "\t</style>\n",
       "\t<ol class=list-inline><li>'0'</li><li>'1'</li><li>'2'</li><li>'3'</li><li>'4'</li><li>'5'</li><li>'6'</li><li>'7'</li><li>'8'</li><li>'9'</li><li>'10'</li><li>'11'</li><li>'12'</li><li>'13'</li><li>'14'</li><li>'15'</li><li>'16'</li><li>'17'</li><li>'18'</li><li>'19'</li><li>'20'</li></ol>\n",
       "</details>"
      ],
      "text/latex": [
       "\\begin{description*}\n",
       "\\item[ACGTAGTAGCGAATGC] 5\n",
       "\\item[CGGGACTTCAGACAAA] 0\n",
       "\\item[GGGCGTTGTAGACGTG] 5\n",
       "\\item[TGTAAGCAGTGGACTG] 15\n",
       "\\item[GTTACCCTCCGCTGTT] 1\n",
       "\\item[ACCCTCAAGCACCTGC] 2\n",
       "\\end{description*}\n",
       "\n",
       "\\emph{Levels}: \\begin{enumerate*}\n",
       "\\item '0'\n",
       "\\item '1'\n",
       "\\item '2'\n",
       "\\item '3'\n",
       "\\item '4'\n",
       "\\item '5'\n",
       "\\item '6'\n",
       "\\item '7'\n",
       "\\item '8'\n",
       "\\item '9'\n",
       "\\item '10'\n",
       "\\item '11'\n",
       "\\item '12'\n",
       "\\item '13'\n",
       "\\item '14'\n",
       "\\item '15'\n",
       "\\item '16'\n",
       "\\item '17'\n",
       "\\item '18'\n",
       "\\item '19'\n",
       "\\item '20'\n",
       "\\end{enumerate*}\n"
      ],
      "text/markdown": [
       "ACGTAGTAGCGAATGC\n",
       ":   5CGGGACTTCAGACAAA\n",
       ":   0GGGCGTTGTAGACGTG\n",
       ":   5TGTAAGCAGTGGACTG\n",
       ":   15GTTACCCTCCGCTGTT\n",
       ":   1ACCCTCAAGCACCTGC\n",
       ":   2\n",
       "\n",
       "\n",
       "**Levels**: 1. '0'\n",
       "2. '1'\n",
       "3. '2'\n",
       "4. '3'\n",
       "5. '4'\n",
       "6. '5'\n",
       "7. '6'\n",
       "8. '7'\n",
       "9. '8'\n",
       "10. '9'\n",
       "11. '10'\n",
       "12. '11'\n",
       "13. '12'\n",
       "14. '13'\n",
       "15. '14'\n",
       "16. '15'\n",
       "17. '16'\n",
       "18. '17'\n",
       "19. '18'\n",
       "20. '19'\n",
       "21. '20'\n",
       "\n",
       "\n"
      ],
      "text/plain": [
       "ACGTAGTAGCGAATGC CGGGACTTCAGACAAA GGGCGTTGTAGACGTG TGTAAGCAGTGGACTG \n",
       "               5                0                5               15 \n",
       "GTTACCCTCCGCTGTT ACCCTCAAGCACCTGC \n",
       "               1                2 \n",
       "Levels: 0 1 2 3 4 5 6 7 8 9 10 11 12 13 14 15 16 17 18 19 20"
      ]
     },
     "metadata": {},
     "output_type": "display_data"
    }
   ],
   "source": [
    "head(celltype_v_fig4)"
   ]
  },
  {
   "cell_type": "code",
   "execution_count": 49,
   "id": "1288ade7-b39a-4ea8-aa48-ab2ec0d97d21",
   "metadata": {
    "execution": {
     "iopub.execute_input": "2022-08-20T16:47:04.437003Z",
     "iopub.status.busy": "2022-08-20T16:47:04.435811Z",
     "iopub.status.idle": "2022-08-20T16:47:04.454483Z",
     "shell.execute_reply": "2022-08-20T16:47:04.453372Z"
    },
    "tags": []
   },
   "outputs": [
    {
     "data": {
      "text/html": [
       "<style>\n",
       ".list-inline {list-style: none; margin:0; padding: 0}\n",
       ".list-inline>li {display: inline-block}\n",
       ".list-inline>li:not(:last-child)::after {content: \"\\00b7\"; padding: 0 .5ex}\n",
       "</style>\n",
       "<ol class=list-inline><li>'ACGTAGTAGCGAATGC'</li><li>'CGGGACTTCAGACAAA'</li><li>'GGGCGTTGTAGACGTG'</li><li>'TGTAAGCAGTGGACTG'</li><li>'GTTACCCTCCGCTGTT'</li><li>'ACCCTCAAGCACCTGC'</li></ol>\n"
      ],
      "text/latex": [
       "\\begin{enumerate*}\n",
       "\\item 'ACGTAGTAGCGAATGC'\n",
       "\\item 'CGGGACTTCAGACAAA'\n",
       "\\item 'GGGCGTTGTAGACGTG'\n",
       "\\item 'TGTAAGCAGTGGACTG'\n",
       "\\item 'GTTACCCTCCGCTGTT'\n",
       "\\item 'ACCCTCAAGCACCTGC'\n",
       "\\end{enumerate*}\n"
      ],
      "text/markdown": [
       "1. 'ACGTAGTAGCGAATGC'\n",
       "2. 'CGGGACTTCAGACAAA'\n",
       "3. 'GGGCGTTGTAGACGTG'\n",
       "4. 'TGTAAGCAGTGGACTG'\n",
       "5. 'GTTACCCTCCGCTGTT'\n",
       "6. 'ACCCTCAAGCACCTGC'\n",
       "\n",
       "\n"
      ],
      "text/plain": [
       "[1] \"ACGTAGTAGCGAATGC\" \"CGGGACTTCAGACAAA\" \"GGGCGTTGTAGACGTG\" \"TGTAAGCAGTGGACTG\"\n",
       "[5] \"GTTACCCTCCGCTGTT\" \"ACCCTCAAGCACCTGC\""
      ]
     },
     "metadata": {},
     "output_type": "display_data"
    },
    {
     "data": {
      "text/html": [
       "<style>\n",
       ".list-inline {list-style: none; margin:0; padding: 0}\n",
       ".list-inline>li {display: inline-block}\n",
       ".list-inline>li:not(:last-child)::after {content: \"\\00b7\"; padding: 0 .5ex}\n",
       "</style>\n",
       "<ol class=list-inline><li>'ACGTAGTAGCGAATGC'</li><li>'CGGGACTTCAGACAAA'</li><li>'GGGCGTTGTAGACGTG'</li><li>'TGTAAGCAGTGGACTG'</li><li>'GTTACCCTCCGCTGTT'</li><li>'ACCCTCAAGCACCTGC'</li></ol>\n"
      ],
      "text/latex": [
       "\\begin{enumerate*}\n",
       "\\item 'ACGTAGTAGCGAATGC'\n",
       "\\item 'CGGGACTTCAGACAAA'\n",
       "\\item 'GGGCGTTGTAGACGTG'\n",
       "\\item 'TGTAAGCAGTGGACTG'\n",
       "\\item 'GTTACCCTCCGCTGTT'\n",
       "\\item 'ACCCTCAAGCACCTGC'\n",
       "\\end{enumerate*}\n"
      ],
      "text/markdown": [
       "1. 'ACGTAGTAGCGAATGC'\n",
       "2. 'CGGGACTTCAGACAAA'\n",
       "3. 'GGGCGTTGTAGACGTG'\n",
       "4. 'TGTAAGCAGTGGACTG'\n",
       "5. 'GTTACCCTCCGCTGTT'\n",
       "6. 'ACCCTCAAGCACCTGC'\n",
       "\n",
       "\n"
      ],
      "text/plain": [
       "[1] \"ACGTAGTAGCGAATGC\" \"CGGGACTTCAGACAAA\" \"GGGCGTTGTAGACGTG\" \"TGTAAGCAGTGGACTG\"\n",
       "[5] \"GTTACCCTCCGCTGTT\" \"ACCCTCAAGCACCTGC\""
      ]
     },
     "metadata": {},
     "output_type": "display_data"
    }
   ],
   "source": [
    "colnames(orig.intersect.seu) %>% head\n",
    "colnames(roundtrip.seu) %>% head"
   ]
  },
  {
   "cell_type": "code",
   "execution_count": 56,
   "id": "c2358d74-cc55-4d69-8a8a-612c577b16e8",
   "metadata": {
    "execution": {
     "iopub.execute_input": "2022-08-20T16:50:03.209405Z",
     "iopub.status.busy": "2022-08-20T16:50:03.207937Z",
     "iopub.status.idle": "2022-08-20T16:51:01.719764Z",
     "shell.execute_reply": "2022-08-20T16:51:01.717146Z"
    },
    "tags": []
   },
   "outputs": [],
   "source": [
    "#Fig drawing\n",
    "draw_umap(seu_base = orig.intersect.seu,\n",
    "          seu_to10x = orig.intersect.seu,\n",
    "          seu_todrop = roundtrip.seu,\n",
    "          col_seed = 6,\n",
    "          w=6,\n",
    "          h=6,\n",
    "          is_pdf=F,\n",
    "          celltype_v=celltype_v_fig4,\n",
    "          outdir = \"/home/ha5656/work/Interstellar_test/REVISION_RND1//round_trip/downstream_analysis//10X\",\n",
    "          outname = \"Aug2022_10x_roundtrip\")"
   ]
  },
  {
   "cell_type": "code",
   "execution_count": 35,
   "id": "a2a7d515-841e-4b7f-b681-9791c1527d2c",
   "metadata": {
    "execution": {
     "iopub.execute_input": "2022-08-20T05:07:29.622907Z",
     "iopub.status.busy": "2022-08-20T05:07:29.621134Z",
     "iopub.status.idle": "2022-08-20T05:08:09.071850Z",
     "shell.execute_reply": "2022-08-20T05:08:09.070441Z"
    },
    "tags": []
   },
   "outputs": [
    {
     "name": "stdout",
     "output_type": "stream",
     "text": [
      "[1] \"start...\"\n",
      "[1] \"start sampling...\"\n"
     ]
    }
   ],
   "source": [
    "#Export CellCellDist\n",
    "v.vln.todrop <- get_dist_pcaspace_scatter(orig.intersect.seu,\n",
    "                                          roundtrip.seu,\n",
    "                                          outdir = \"/home/ha5656/work/Interstellar_test/REVISION_RND1/round_trip/downstream_analysis//10X/\",\n",
    "                                          outname = \"Aug2022_10x_roundtrip\")"
   ]
  },
  {
   "cell_type": "code",
   "execution_count": null,
   "id": "6de7b4d6-da2a-4845-8aae-fb84375e5803",
   "metadata": {},
   "outputs": [],
   "source": []
  }
 ],
 "metadata": {
  "kernelspec": {
   "display_name": "R 4.1.1",
   "language": "R",
   "name": "ir411"
  },
  "language_info": {
   "codemirror_mode": "r",
   "file_extension": ".r",
   "mimetype": "text/x-r-source",
   "name": "R",
   "pygments_lexer": "r",
   "version": "4.1.1"
  }
 },
 "nbformat": 4,
 "nbformat_minor": 5
}
