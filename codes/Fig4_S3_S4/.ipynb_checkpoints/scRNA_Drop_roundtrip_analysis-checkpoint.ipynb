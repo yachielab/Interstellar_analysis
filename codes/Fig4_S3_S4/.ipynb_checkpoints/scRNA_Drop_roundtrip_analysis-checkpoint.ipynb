{
 "cells": [
  {
   "cell_type": "code",
   "execution_count": 2,
   "id": "2757d812-cf07-4b1b-b4ac-084d88d02f10",
   "metadata": {
    "execution": {
     "iopub.execute_input": "2022-08-20T05:10:39.304881Z",
     "iopub.status.busy": "2022-08-20T05:10:39.284477Z",
     "iopub.status.idle": "2022-08-20T05:10:39.320225Z",
     "shell.execute_reply": "2022-08-20T05:10:39.319207Z"
    },
    "tags": []
   },
   "outputs": [],
   "source": [
    "library(Seurat)\n",
    "library(Matrix)\n",
    "library(tidyverse)\n",
    "\n",
    "source(\"/home/ha5656/work/barista/paper_data/R_fig_script/src/sc_preprocess.R\")"
   ]
  },
  {
   "cell_type": "code",
   "execution_count": 3,
   "id": "d42cf98f-6d63-4e2b-aabc-8843b8342b08",
   "metadata": {
    "execution": {
     "iopub.execute_input": "2022-08-20T05:10:41.235104Z",
     "iopub.status.busy": "2022-08-20T05:10:41.234216Z",
     "iopub.status.idle": "2022-08-20T05:10:49.602591Z",
     "shell.execute_reply": "2022-08-20T05:10:49.601289Z"
    },
    "tags": []
   },
   "outputs": [],
   "source": [
    "dge_base   <- readRDS(\"/home/ha5656/work/barista/paper_data/R_fig_script//intermediate_dataset//dge_Feb2021/vFeb2021_Drop_original_rawdge.rds\")\n",
    "dge_roundtrip <- readRDS(\"/home/ha5656/work//Interstellar_test/REVISION_RND1//round_trip//intermediate_data/Drop_roundtrip.drop.rds\")"
   ]
  },
  {
   "cell_type": "code",
   "execution_count": 4,
   "id": "8224fce4-a5fe-44ba-9d1f-4b2391b1d9af",
   "metadata": {
    "execution": {
     "iopub.execute_input": "2022-08-20T05:10:49.605099Z",
     "iopub.status.busy": "2022-08-20T05:10:49.604202Z",
     "iopub.status.idle": "2022-08-20T05:10:49.802507Z",
     "shell.execute_reply": "2022-08-20T05:10:49.801433Z"
    },
    "tags": []
   },
   "outputs": [],
   "source": [
    "bclist_fwd <- read.table(\"/home/ha5656/work/Interstellar_test/REVISION_RND1/round_trip/bc_correspo//Drop/fwd/merge_correspondence.tsv\",header=F)\n",
    "bclist_rev <- read.table(\"/home/ha5656/work/Interstellar_test/REVISION_RND1/round_trip/bc_correspo//Drop/rev/merge_correspondence.tsv\",header=F)"
   ]
  },
  {
   "cell_type": "code",
   "execution_count": 5,
   "id": "4f3f2a99-c4e6-41d2-96a1-c4828c741d55",
   "metadata": {
    "execution": {
     "iopub.execute_input": "2022-08-20T05:10:52.524251Z",
     "iopub.status.busy": "2022-08-20T05:10:52.523322Z",
     "iopub.status.idle": "2022-08-20T05:10:52.596394Z",
     "shell.execute_reply": "2022-08-20T05:10:52.595374Z"
    },
    "tags": []
   },
   "outputs": [],
   "source": [
    "bclist <- merge(bclist_fwd,bclist_rev,by.x=2,by.y=1)"
   ]
  },
  {
   "cell_type": "code",
   "execution_count": 8,
   "id": "a6a3dc4a-3d5a-44ea-bf0c-8b4c2bcb796f",
   "metadata": {
    "execution": {
     "iopub.execute_input": "2022-08-20T05:11:06.766815Z",
     "iopub.status.busy": "2022-08-20T05:11:06.765742Z",
     "iopub.status.idle": "2022-08-20T05:11:06.800713Z",
     "shell.execute_reply": "2022-08-20T05:11:06.799665Z"
    },
    "tags": []
   },
   "outputs": [],
   "source": [
    "colnames(bclist) <- c(\"sim\",\"orig\",\"roundtrip\")"
   ]
  },
  {
   "cell_type": "code",
   "execution_count": 9,
   "id": "e2edebdf-4786-4a29-b069-8119e60d4bd4",
   "metadata": {
    "execution": {
     "iopub.execute_input": "2022-08-20T05:11:07.763155Z",
     "iopub.status.busy": "2022-08-20T05:11:07.762212Z",
     "iopub.status.idle": "2022-08-20T05:11:07.773055Z",
     "shell.execute_reply": "2022-08-20T05:11:07.772061Z"
    },
    "tags": []
   },
   "outputs": [
    {
     "data": {
      "text/html": [
       "<style>\n",
       ".list-inline {list-style: none; margin:0; padding: 0}\n",
       ".list-inline>li {display: inline-block}\n",
       ".list-inline>li:not(:last-child)::after {content: \"\\00b7\"; padding: 0 .5ex}\n",
       "</style>\n",
       "<ol class=list-inline><li>15961</li><li>3</li></ol>\n"
      ],
      "text/latex": [
       "\\begin{enumerate*}\n",
       "\\item 15961\n",
       "\\item 3\n",
       "\\end{enumerate*}\n"
      ],
      "text/markdown": [
       "1. 15961\n",
       "2. 3\n",
       "\n",
       "\n"
      ],
      "text/plain": [
       "[1] 15961     3"
      ]
     },
     "metadata": {},
     "output_type": "display_data"
    }
   ],
   "source": [
    "dim(bclist)"
   ]
  },
  {
   "cell_type": "code",
   "execution_count": 10,
   "id": "72cfd3f9-e26d-4707-8ecf-861ca0362d1e",
   "metadata": {
    "execution": {
     "iopub.execute_input": "2022-08-20T05:11:19.881535Z",
     "iopub.status.busy": "2022-08-20T05:11:19.880456Z",
     "iopub.status.idle": "2022-08-20T05:11:19.893290Z",
     "shell.execute_reply": "2022-08-20T05:11:19.892270Z"
    },
    "tags": []
   },
   "outputs": [],
   "source": [
    "# colnames(dge_base) <- gsub(\"-1\",\"\",colnames(dge_base))\n",
    "# colnames(dge_roundtrip) <- gsub(\"-1\",\"\",colnames(dge_roundtrip))\n",
    "dge_new <- refresh_dge(dge_roundtrip,bclist$orig,bclist$roundtrip)"
   ]
  },
  {
   "cell_type": "code",
   "execution_count": 12,
   "id": "2d25a08f-d32f-4bcd-b09d-b822c844dafd",
   "metadata": {
    "execution": {
     "iopub.execute_input": "2022-08-20T05:11:29.761418Z",
     "iopub.status.busy": "2022-08-20T05:11:29.760380Z",
     "iopub.status.idle": "2022-08-20T05:11:29.771100Z",
     "shell.execute_reply": "2022-08-20T05:11:29.770085Z"
    },
    "tags": []
   },
   "outputs": [
    {
     "data": {
      "text/html": [
       "<style>\n",
       ".list-inline {list-style: none; margin:0; padding: 0}\n",
       ".list-inline>li {display: inline-block}\n",
       ".list-inline>li:not(:last-child)::after {content: \"\\00b7\"; padding: 0 .5ex}\n",
       "</style>\n",
       "<ol class=list-inline><li>20238</li><li>10000</li></ol>\n"
      ],
      "text/latex": [
       "\\begin{enumerate*}\n",
       "\\item 20238\n",
       "\\item 10000\n",
       "\\end{enumerate*}\n"
      ],
      "text/markdown": [
       "1. 20238\n",
       "2. 10000\n",
       "\n",
       "\n"
      ],
      "text/plain": [
       "[1] 20238 10000"
      ]
     },
     "metadata": {},
     "output_type": "display_data"
    }
   ],
   "source": [
    "dim(dge_new)"
   ]
  },
  {
   "cell_type": "code",
   "execution_count": 13,
   "id": "cfe898af-c05c-4d0d-a6e2-c1fe1688e30f",
   "metadata": {
    "execution": {
     "iopub.execute_input": "2022-08-20T05:11:44.203519Z",
     "iopub.status.busy": "2022-08-20T05:11:44.202448Z",
     "iopub.status.idle": "2022-08-20T05:11:47.460070Z",
     "shell.execute_reply": "2022-08-20T05:11:47.458674Z"
    },
    "tags": []
   },
   "outputs": [
    {
     "name": "stdout",
     "output_type": "stream",
     "text": [
      " [1] \"mt-Atp6\" \"mt-Co1\"  \"mt-Co2\"  \"mt-Co3\"  \"mt-Cytb\" \"mt-Nd1\"  \"mt-Nd2\" \n",
      " [8] \"mt-Nd4\"  \"mt-Nd5\"  \"mt-Nd6\" \n"
     ]
    },
    {
     "name": "stderr",
     "output_type": "stream",
     "text": [
      "Parameters:\n",
      "\n",
      "min_features: 200\n",
      "\n",
      "num_feature_rna_min: 200\n",
      "\n",
      "num_feature_rna_max: 5000\n",
      "\n",
      "num_feature_rna_min 200\n",
      "\n",
      "mito_pattern ^mt-\n",
      "\n",
      "percent_mito 20\n",
      "\n",
      "\n",
      "\n",
      "Number of cells after QCing original: 11585\n",
      "\n",
      "Number of cells after taking intersection: 9157\n",
      "\n"
     ]
    }
   ],
   "source": [
    "dge_target_list <- list(dge_new)\n",
    "use_cells <- get_cells_used(dge_base,dge_target_list,percent_mito = 20)\n",
    "\n",
    "dge_base_intersect   <- dge_base[,use_cells]\n",
    "dge_new_intersect  <- dge_new[,use_cells]"
   ]
  },
  {
   "cell_type": "code",
   "execution_count": 14,
   "id": "34a3ec12-b501-4473-97f8-5dc13af6f9dc",
   "metadata": {
    "execution": {
     "iopub.execute_input": "2022-08-20T05:11:52.147966Z",
     "iopub.status.busy": "2022-08-20T05:11:52.146834Z",
     "iopub.status.idle": "2022-08-20T05:11:52.163357Z",
     "shell.execute_reply": "2022-08-20T05:11:52.162278Z"
    },
    "tags": []
   },
   "outputs": [
    {
     "data": {
      "text/html": [
       "9157"
      ],
      "text/latex": [
       "9157"
      ],
      "text/markdown": [
       "9157"
      ],
      "text/plain": [
       "[1] 9157"
      ]
     },
     "metadata": {},
     "output_type": "display_data"
    },
    {
     "data": {
      "text/html": [
       "9157"
      ],
      "text/latex": [
       "9157"
      ],
      "text/markdown": [
       "9157"
      ],
      "text/plain": [
       "[1] 9157"
      ]
     },
     "metadata": {},
     "output_type": "display_data"
    }
   ],
   "source": [
    "# intersection\n",
    "ncol(dge_base_intersect)\n",
    "ncol(dge_new_intersect)"
   ]
  },
  {
   "cell_type": "code",
   "execution_count": 15,
   "id": "4d6ee569-a23d-43e6-9e0c-524390cd1b62",
   "metadata": {
    "execution": {
     "iopub.execute_input": "2022-08-20T05:12:01.608671Z",
     "iopub.status.busy": "2022-08-20T05:12:01.607501Z",
     "iopub.status.idle": "2022-08-20T05:12:06.099529Z",
     "shell.execute_reply": "2022-08-20T05:12:06.098324Z"
    },
    "tags": []
   },
   "outputs": [],
   "source": [
    "orig.intersect.seu   <- CreateSeuratObject(dge_base_intersect)\n",
    "roundtrip.seu    <- CreateSeuratObject(dge_new_intersect)"
   ]
  },
  {
   "cell_type": "code",
   "execution_count": 16,
   "id": "d55f8dbc-4823-4d0e-89a0-7cfad47e0014",
   "metadata": {
    "execution": {
     "iopub.execute_input": "2022-08-20T05:12:06.102058Z",
     "iopub.status.busy": "2022-08-20T05:12:06.101141Z",
     "iopub.status.idle": "2022-08-20T05:12:07.625704Z",
     "shell.execute_reply": "2022-08-20T05:12:07.624465Z"
    },
    "tags": []
   },
   "outputs": [],
   "source": [
    "high_var_genes <- getVarGenes_untilPCA(orig.intersect.seu,num_varFeatures = 5000)"
   ]
  },
  {
   "cell_type": "code",
   "execution_count": 17,
   "id": "5cdb4291-9758-4f28-89ee-b182ce11b8c6",
   "metadata": {
    "execution": {
     "iopub.execute_input": "2022-08-20T05:12:12.218242Z",
     "iopub.status.busy": "2022-08-20T05:12:12.217301Z",
     "iopub.status.idle": "2022-08-20T05:12:29.228725Z",
     "shell.execute_reply": "2022-08-20T05:12:29.226260Z"
    },
    "tags": []
   },
   "outputs": [
    {
     "name": "stderr",
     "output_type": "stream",
     "text": [
      "Warning message:\n",
      "“Not all features provided are in this Assay object, removing the following feature(s): 4930422C21Rik”\n"
     ]
    }
   ],
   "source": [
    "orig.intersect.seu   <- getVarGenes_untilPCA(orig.intersect.seu,var_genes=high_var_genes,num_varFeatures = 5000)\n",
    "roundtrip.seu    <- getVarGenes_untilPCA(roundtrip.seu,var_genes=high_var_genes,num_varFeatures = 5000)"
   ]
  },
  {
   "cell_type": "code",
   "execution_count": 18,
   "id": "9acd8334-2d44-4569-9d86-cb939397960e",
   "metadata": {
    "execution": {
     "iopub.execute_input": "2022-08-20T05:12:29.232522Z",
     "iopub.status.busy": "2022-08-20T05:12:29.231276Z",
     "iopub.status.idle": "2022-08-20T05:13:45.466049Z",
     "shell.execute_reply": "2022-08-20T05:13:45.464878Z"
    },
    "tags": []
   },
   "outputs": [
    {
     "name": "stderr",
     "output_type": "stream",
     "text": [
      "Warning message:\n",
      "“The default method for RunUMAP has changed from calling Python UMAP via reticulate to the R-native UWOT using the cosine metric\n",
      "To use Python UMAP via reticulate, set umap.method to 'umap-learn' and metric to 'correlation'\n",
      "This message will be shown once per session”\n"
     ]
    }
   ],
   "source": [
    "orig.intersect.seu   <- seurat_processing_UMAP(orig.intersect.seu,dimlimit = 20,res = 0.6)\n",
    "roundtrip.seu  <- seurat_processing_UMAP(roundtrip.seu,dimlimit = 20,res = 0.6)"
   ]
  },
  {
   "cell_type": "code",
   "execution_count": 19,
   "id": "a21bb106-308b-41b0-bfc1-cb0584c4b1cc",
   "metadata": {
    "execution": {
     "iopub.execute_input": "2022-08-20T05:13:45.468439Z",
     "iopub.status.busy": "2022-08-20T05:13:45.467579Z",
     "iopub.status.idle": "2022-08-20T05:14:29.711575Z",
     "shell.execute_reply": "2022-08-20T05:14:29.589604Z"
    },
    "tags": []
   },
   "outputs": [],
   "source": [
    "store_dir <- \"/home/ha5656/work/Interstellar_test/REVISION_RND1//round_trip/intermediate_data/\"\n",
    "\n",
    "saveRDS(orig.intersect.seu, paste0(store_dir,\"Aug2022_processed_Drop_original_Seurat.intersectionWithRndTrip.rds\"))\n",
    "saveRDS(roundtrip.seu, paste0(store_dir,\"Aug2022_processed_Drop_roundTrip_Seurat.rds\"))"
   ]
  },
  {
   "cell_type": "markdown",
   "id": "277214dd-79c8-4114-b410-10e2e3fd6410",
   "metadata": {},
   "source": [
    "#### Use cell state labels identified in the original seurat obj used in Figure 4"
   ]
  },
  {
   "cell_type": "code",
   "execution_count": 41,
   "id": "e5270e46-9ae2-44dd-9b7b-cab08803cf2e",
   "metadata": {
    "execution": {
     "iopub.execute_input": "2022-08-20T17:01:55.463533Z",
     "iopub.status.busy": "2022-08-20T17:01:55.462487Z",
     "iopub.status.idle": "2022-08-20T17:01:58.912305Z",
     "shell.execute_reply": "2022-08-20T17:01:58.910266Z"
    },
    "tags": []
   },
   "outputs": [],
   "source": [
    "orig.fig4.seu <- readRDS(\"~/work/barista/paper_data/R_fig_script/intermediate_dataset//seurat_rds_Feb2021/Feb2021_Drop_original_Seurat.rds\")"
   ]
  },
  {
   "cell_type": "code",
   "execution_count": 42,
   "id": "54beaeac-da76-46ae-8d9e-8646005d6a7d",
   "metadata": {
    "execution": {
     "iopub.execute_input": "2022-08-20T17:01:58.915132Z",
     "iopub.status.busy": "2022-08-20T17:01:58.914168Z",
     "iopub.status.idle": "2022-08-20T17:01:58.931237Z",
     "shell.execute_reply": "2022-08-20T17:01:58.930175Z"
    },
    "tags": []
   },
   "outputs": [],
   "source": [
    "celltype_v_fig4 <- orig.fig4.seu$seurat_clusters\n",
    "celltype_v_fig4 <- celltype_v_fig4[colnames(orig.intersect.seu)]"
   ]
  },
  {
   "cell_type": "code",
   "execution_count": 44,
   "id": "c1aaeb87-d830-4825-87a2-fa9ac2d19dce",
   "metadata": {
    "execution": {
     "iopub.execute_input": "2022-08-20T17:02:02.018520Z",
     "iopub.status.busy": "2022-08-20T17:02:02.017470Z",
     "iopub.status.idle": "2022-08-20T17:02:02.029024Z",
     "shell.execute_reply": "2022-08-20T17:02:02.028030Z"
    },
    "tags": []
   },
   "outputs": [
    {
     "data": {
      "text/html": [
       "<style>\n",
       ".dl-inline {width: auto; margin:0; padding: 0}\n",
       ".dl-inline>dt, .dl-inline>dd {float: none; width: auto; display: inline-block}\n",
       ".dl-inline>dt::after {content: \":\\0020\"; padding-right: .5ex}\n",
       ".dl-inline>dt:not(:first-of-type) {padding-left: .5ex}\n",
       "</style><dl class=dl-inline><dt>GATTTCCTCTGA</dt><dd>14</dd><dt>TGCGAGAGCTTG</dt><dd>6</dd><dt>AATCTCGTTAAT</dt><dd>3</dd><dt>GTGCCGCCTCTC</dt><dd>6</dd><dt>CGGTAAGATTTT</dt><dd>8</dd><dt>GATTACTGAGCT</dt><dd>3</dd></dl>\n",
       "\n",
       "<details>\n",
       "\t<summary style=display:list-item;cursor:pointer>\n",
       "\t\t<strong>Levels</strong>:\n",
       "\t</summary>\n",
       "\t<style>\n",
       "\t.list-inline {list-style: none; margin:0; padding: 0}\n",
       "\t.list-inline>li {display: inline-block}\n",
       "\t.list-inline>li:not(:last-child)::after {content: \"\\00b7\"; padding: 0 .5ex}\n",
       "\t</style>\n",
       "\t<ol class=list-inline><li>'0'</li><li>'1'</li><li>'2'</li><li>'3'</li><li>'4'</li><li>'5'</li><li>'6'</li><li>'7'</li><li>'8'</li><li>'9'</li><li>'10'</li><li>'11'</li><li>'12'</li><li>'13'</li><li>'14'</li></ol>\n",
       "</details>"
      ],
      "text/latex": [
       "\\begin{description*}\n",
       "\\item[GATTTCCTCTGA] 14\n",
       "\\item[TGCGAGAGCTTG] 6\n",
       "\\item[AATCTCGTTAAT] 3\n",
       "\\item[GTGCCGCCTCTC] 6\n",
       "\\item[CGGTAAGATTTT] 8\n",
       "\\item[GATTACTGAGCT] 3\n",
       "\\end{description*}\n",
       "\n",
       "\\emph{Levels}: \\begin{enumerate*}\n",
       "\\item '0'\n",
       "\\item '1'\n",
       "\\item '2'\n",
       "\\item '3'\n",
       "\\item '4'\n",
       "\\item '5'\n",
       "\\item '6'\n",
       "\\item '7'\n",
       "\\item '8'\n",
       "\\item '9'\n",
       "\\item '10'\n",
       "\\item '11'\n",
       "\\item '12'\n",
       "\\item '13'\n",
       "\\item '14'\n",
       "\\end{enumerate*}\n"
      ],
      "text/markdown": [
       "GATTTCCTCTGA\n",
       ":   14TGCGAGAGCTTG\n",
       ":   6AATCTCGTTAAT\n",
       ":   3GTGCCGCCTCTC\n",
       ":   6CGGTAAGATTTT\n",
       ":   8GATTACTGAGCT\n",
       ":   3\n",
       "\n",
       "\n",
       "**Levels**: 1. '0'\n",
       "2. '1'\n",
       "3. '2'\n",
       "4. '3'\n",
       "5. '4'\n",
       "6. '5'\n",
       "7. '6'\n",
       "8. '7'\n",
       "9. '8'\n",
       "10. '9'\n",
       "11. '10'\n",
       "12. '11'\n",
       "13. '12'\n",
       "14. '13'\n",
       "15. '14'\n",
       "\n",
       "\n"
      ],
      "text/plain": [
       "GATTTCCTCTGA TGCGAGAGCTTG AATCTCGTTAAT GTGCCGCCTCTC CGGTAAGATTTT GATTACTGAGCT \n",
       "          14            6            3            6            8            3 \n",
       "Levels: 0 1 2 3 4 5 6 7 8 9 10 11 12 13 14"
      ]
     },
     "metadata": {},
     "output_type": "display_data"
    }
   ],
   "source": [
    "head(celltype_v_fig4)"
   ]
  },
  {
   "cell_type": "code",
   "execution_count": 45,
   "id": "f1b79b65-4185-4bee-9e3b-02ecb467eecd",
   "metadata": {
    "execution": {
     "iopub.execute_input": "2022-08-20T17:02:10.478582Z",
     "iopub.status.busy": "2022-08-20T17:02:10.477518Z",
     "iopub.status.idle": "2022-08-20T17:02:10.494379Z",
     "shell.execute_reply": "2022-08-20T17:02:10.493377Z"
    },
    "tags": []
   },
   "outputs": [
    {
     "data": {
      "text/html": [
       "<style>\n",
       ".list-inline {list-style: none; margin:0; padding: 0}\n",
       ".list-inline>li {display: inline-block}\n",
       ".list-inline>li:not(:last-child)::after {content: \"\\00b7\"; padding: 0 .5ex}\n",
       "</style>\n",
       "<ol class=list-inline><li>'GATTTCCTCTGA'</li><li>'TGCGAGAGCTTG'</li><li>'AATCTCGTTAAT'</li><li>'GTGCCGCCTCTC'</li><li>'CGGTAAGATTTT'</li><li>'GATTACTGAGCT'</li></ol>\n"
      ],
      "text/latex": [
       "\\begin{enumerate*}\n",
       "\\item 'GATTTCCTCTGA'\n",
       "\\item 'TGCGAGAGCTTG'\n",
       "\\item 'AATCTCGTTAAT'\n",
       "\\item 'GTGCCGCCTCTC'\n",
       "\\item 'CGGTAAGATTTT'\n",
       "\\item 'GATTACTGAGCT'\n",
       "\\end{enumerate*}\n"
      ],
      "text/markdown": [
       "1. 'GATTTCCTCTGA'\n",
       "2. 'TGCGAGAGCTTG'\n",
       "3. 'AATCTCGTTAAT'\n",
       "4. 'GTGCCGCCTCTC'\n",
       "5. 'CGGTAAGATTTT'\n",
       "6. 'GATTACTGAGCT'\n",
       "\n",
       "\n"
      ],
      "text/plain": [
       "[1] \"GATTTCCTCTGA\" \"TGCGAGAGCTTG\" \"AATCTCGTTAAT\" \"GTGCCGCCTCTC\" \"CGGTAAGATTTT\"\n",
       "[6] \"GATTACTGAGCT\""
      ]
     },
     "metadata": {},
     "output_type": "display_data"
    },
    {
     "data": {
      "text/html": [
       "<style>\n",
       ".list-inline {list-style: none; margin:0; padding: 0}\n",
       ".list-inline>li {display: inline-block}\n",
       ".list-inline>li:not(:last-child)::after {content: \"\\00b7\"; padding: 0 .5ex}\n",
       "</style>\n",
       "<ol class=list-inline><li>'GATTTCCTCTGA'</li><li>'TGCGAGAGCTTG'</li><li>'AATCTCGTTAAT'</li><li>'GTGCCGCCTCTC'</li><li>'CGGTAAGATTTT'</li><li>'GATTACTGAGCT'</li></ol>\n"
      ],
      "text/latex": [
       "\\begin{enumerate*}\n",
       "\\item 'GATTTCCTCTGA'\n",
       "\\item 'TGCGAGAGCTTG'\n",
       "\\item 'AATCTCGTTAAT'\n",
       "\\item 'GTGCCGCCTCTC'\n",
       "\\item 'CGGTAAGATTTT'\n",
       "\\item 'GATTACTGAGCT'\n",
       "\\end{enumerate*}\n"
      ],
      "text/markdown": [
       "1. 'GATTTCCTCTGA'\n",
       "2. 'TGCGAGAGCTTG'\n",
       "3. 'AATCTCGTTAAT'\n",
       "4. 'GTGCCGCCTCTC'\n",
       "5. 'CGGTAAGATTTT'\n",
       "6. 'GATTACTGAGCT'\n",
       "\n",
       "\n"
      ],
      "text/plain": [
       "[1] \"GATTTCCTCTGA\" \"TGCGAGAGCTTG\" \"AATCTCGTTAAT\" \"GTGCCGCCTCTC\" \"CGGTAAGATTTT\"\n",
       "[6] \"GATTACTGAGCT\""
      ]
     },
     "metadata": {},
     "output_type": "display_data"
    }
   ],
   "source": [
    "colnames(orig.intersect.seu) %>% head\n",
    "colnames(roundtrip.seu) %>% head"
   ]
  },
  {
   "cell_type": "code",
   "execution_count": 46,
   "id": "e047381c-0ccb-4e57-bfe4-c7cbf666fd38",
   "metadata": {
    "execution": {
     "iopub.execute_input": "2022-08-20T17:02:16.272552Z",
     "iopub.status.busy": "2022-08-20T17:02:16.271497Z",
     "iopub.status.idle": "2022-08-20T17:03:29.339473Z",
     "shell.execute_reply": "2022-08-20T17:03:29.255864Z"
    },
    "tags": []
   },
   "outputs": [],
   "source": [
    "#Fig drawing\n",
    "draw_umap(seu_base = orig.intersect.seu,\n",
    "          seu_to10x = orig.intersect.seu,\n",
    "          seu_todrop = roundtrip.seu,\n",
    "          col_seed = 22,\n",
    "          w=6,\n",
    "          h=6,\n",
    "          is_pdf=F,\n",
    "          celltype_v=celltype_v_fig4,\n",
    "          outdir = \"/home/ha5656/work/Interstellar_test/REVISION_RND1//round_trip/downstream_analysis/Drop/\",\n",
    "          outname = \"Aug2022_Drop_roundtrip\")"
   ]
  },
  {
   "cell_type": "code",
   "execution_count": null,
   "id": "c2358d74-cc55-4d69-8a8a-612c577b16e8",
   "metadata": {},
   "outputs": [],
   "source": [
    "#Fig drawing\n",
    "# draw_umap(seu_base = orig.intersect.seu,\n",
    "#           seu_to10x = orig.intersect.seu,\n",
    "#           seu_todrop = roundtrip.seu,\n",
    "#           col_seed = 22,\n",
    "#           w=6,\n",
    "#           h=6,\n",
    "#           is_pdf=F,\n",
    "#           outdir = \"/home/ha5656/work/Interstellar_test/REVISION_RND1//round_trip/downstream_analysis/Drop\",\n",
    "#           outname = \"Aug2022_Drop_roundtrip\")"
   ]
  },
  {
   "cell_type": "code",
   "execution_count": 21,
   "id": "a2a7d515-841e-4b7f-b681-9791c1527d2c",
   "metadata": {
    "execution": {
     "iopub.execute_input": "2022-08-20T05:15:43.667637Z",
     "iopub.status.busy": "2022-08-20T05:15:43.666342Z",
     "iopub.status.idle": "2022-08-20T05:16:12.323065Z",
     "shell.execute_reply": "2022-08-20T05:16:12.321943Z"
    },
    "tags": []
   },
   "outputs": [
    {
     "name": "stdout",
     "output_type": "stream",
     "text": [
      "[1] \"start...\"\n",
      "[1] \"start sampling...\"\n"
     ]
    }
   ],
   "source": [
    "#Export CellCellDist\n",
    "v.vln.todrop <- get_dist_pcaspace_scatter(orig.intersect.seu,\n",
    "                                          roundtrip.seu,\n",
    "                                          outdir = \"/home/ha5656/work/Interstellar_test/REVISION_RND1/round_trip/downstream_analysis/Drop/\",\n",
    "                                          outname = \"Aug2022_Drop_roundtrip\")"
   ]
  },
  {
   "cell_type": "code",
   "execution_count": null,
   "id": "d1270579-0642-4215-9b1b-07fb6f23cce8",
   "metadata": {},
   "outputs": [],
   "source": []
  }
 ],
 "metadata": {
  "kernelspec": {
   "display_name": "R 4.1.1",
   "language": "R",
   "name": "ir411"
  },
  "language_info": {
   "codemirror_mode": "r",
   "file_extension": ".r",
   "mimetype": "text/x-r-source",
   "name": "R",
   "pygments_lexer": "r",
   "version": "4.1.1"
  }
 },
 "nbformat": 4,
 "nbformat_minor": 5
}
