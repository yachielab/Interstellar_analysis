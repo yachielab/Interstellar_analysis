{
 "cells": [
  {
   "cell_type": "code",
   "execution_count": null,
   "id": "2757d812-cf07-4b1b-b4ac-084d88d02f10",
   "metadata": {
    "execution": {
     "iopub.execute_input": "2022-08-20T05:10:39.304881Z",
     "iopub.status.busy": "2022-08-20T05:10:39.284477Z",
     "iopub.status.idle": "2022-08-20T05:10:39.320225Z",
     "shell.execute_reply": "2022-08-20T05:10:39.319207Z"
    },
    "tags": []
   },
   "outputs": [],
   "source": [
    "library(Seurat)\n",
    "library(Matrix)\n",
    "library(tidyverse)\n",
    "\n",
    "source(\"../../util/sc_preprocess.R\")"
   ]
  },
  {
   "cell_type": "code",
   "execution_count": null,
   "id": "d42cf98f-6d63-4e2b-aabc-8843b8342b08",
   "metadata": {
    "execution": {
     "iopub.execute_input": "2022-08-20T05:10:41.235104Z",
     "iopub.status.busy": "2022-08-20T05:10:41.234216Z",
     "iopub.status.idle": "2022-08-20T05:10:49.602591Z",
     "shell.execute_reply": "2022-08-20T05:10:49.601289Z"
    },
    "tags": []
   },
   "outputs": [],
   "source": [
    "# The following RDS files are products from import_DGE.R\n",
    "dge_base   <- readRDS(\"vFeb2021_Drop_original_rawdge.rds\")\n",
    "dge_roundtrip <- readRDS(\"Drop_roundtrip.drop.rds\")"
   ]
  },
  {
   "cell_type": "code",
   "execution_count": null,
   "id": "8224fce4-a5fe-44ba-9d1f-4b2391b1d9af",
   "metadata": {
    "execution": {
     "iopub.execute_input": "2022-08-20T05:10:49.605099Z",
     "iopub.status.busy": "2022-08-20T05:10:49.604202Z",
     "iopub.status.idle": "2022-08-20T05:10:49.802507Z",
     "shell.execute_reply": "2022-08-20T05:10:49.801433Z"
    },
    "tags": []
   },
   "outputs": [],
   "source": [
    "bclist_fwd <- read.table(\"barcode_correspondence_data//FigS3/Drop/fwd/merge_correspondence.tsv\",header=F)\n",
    "bclist_rev <- read.table(\"barcode_correspondence_data//FigS3/Drop/rev/merge_correspondence.tsv\",header=F)"
   ]
  },
  {
   "cell_type": "code",
   "execution_count": null,
   "id": "4f3f2a99-c4e6-41d2-96a1-c4828c741d55",
   "metadata": {
    "execution": {
     "iopub.execute_input": "2022-08-20T05:10:52.524251Z",
     "iopub.status.busy": "2022-08-20T05:10:52.523322Z",
     "iopub.status.idle": "2022-08-20T05:10:52.596394Z",
     "shell.execute_reply": "2022-08-20T05:10:52.595374Z"
    },
    "tags": []
   },
   "outputs": [],
   "source": [
    "bclist <- merge(bclist_fwd,bclist_rev,by.x=2,by.y=1)"
   ]
  },
  {
   "cell_type": "code",
   "execution_count": null,
   "id": "a6a3dc4a-3d5a-44ea-bf0c-8b4c2bcb796f",
   "metadata": {
    "execution": {
     "iopub.execute_input": "2022-08-20T05:11:06.766815Z",
     "iopub.status.busy": "2022-08-20T05:11:06.765742Z",
     "iopub.status.idle": "2022-08-20T05:11:06.800713Z",
     "shell.execute_reply": "2022-08-20T05:11:06.799665Z"
    },
    "tags": []
   },
   "outputs": [],
   "source": [
    "colnames(bclist) <- c(\"sim\",\"orig\",\"roundtrip\")"
   ]
  },
  {
   "cell_type": "code",
   "execution_count": null,
   "id": "e2edebdf-4786-4a29-b069-8119e60d4bd4",
   "metadata": {
    "execution": {
     "iopub.execute_input": "2022-08-20T05:11:07.763155Z",
     "iopub.status.busy": "2022-08-20T05:11:07.762212Z",
     "iopub.status.idle": "2022-08-20T05:11:07.773055Z",
     "shell.execute_reply": "2022-08-20T05:11:07.772061Z"
    },
    "tags": []
   },
   "outputs": [],
   "source": [
    "dim(bclist)"
   ]
  },
  {
   "cell_type": "code",
   "execution_count": null,
   "id": "72cfd3f9-e26d-4707-8ecf-861ca0362d1e",
   "metadata": {
    "execution": {
     "iopub.execute_input": "2022-08-20T05:11:19.881535Z",
     "iopub.status.busy": "2022-08-20T05:11:19.880456Z",
     "iopub.status.idle": "2022-08-20T05:11:19.893290Z",
     "shell.execute_reply": "2022-08-20T05:11:19.892270Z"
    },
    "tags": []
   },
   "outputs": [],
   "source": [
    "# colnames(dge_base) <- gsub(\"-1\",\"\",colnames(dge_base))\n",
    "# colnames(dge_roundtrip) <- gsub(\"-1\",\"\",colnames(dge_roundtrip))\n",
    "dge_new <- refresh_dge(dge_roundtrip,bclist$orig,bclist$roundtrip)"
   ]
  },
  {
   "cell_type": "code",
   "execution_count": null,
   "id": "2d25a08f-d32f-4bcd-b09d-b822c844dafd",
   "metadata": {
    "execution": {
     "iopub.execute_input": "2022-08-20T05:11:29.761418Z",
     "iopub.status.busy": "2022-08-20T05:11:29.760380Z",
     "iopub.status.idle": "2022-08-20T05:11:29.771100Z",
     "shell.execute_reply": "2022-08-20T05:11:29.770085Z"
    },
    "tags": []
   },
   "outputs": [],
   "source": [
    "dim(dge_new)"
   ]
  },
  {
   "cell_type": "code",
   "execution_count": null,
   "id": "cfe898af-c05c-4d0d-a6e2-c1fe1688e30f",
   "metadata": {
    "execution": {
     "iopub.execute_input": "2022-08-20T05:11:44.203519Z",
     "iopub.status.busy": "2022-08-20T05:11:44.202448Z",
     "iopub.status.idle": "2022-08-20T05:11:47.460070Z",
     "shell.execute_reply": "2022-08-20T05:11:47.458674Z"
    },
    "tags": []
   },
   "outputs": [],
   "source": [
    "dge_target_list <- list(dge_new)\n",
    "use_cells <- get_cells_used(dge_base,dge_target_list,percent_mito = 20)\n",
    "\n",
    "dge_base_intersect   <- dge_base[,use_cells]\n",
    "dge_new_intersect  <- dge_new[,use_cells]"
   ]
  },
  {
   "cell_type": "code",
   "execution_count": null,
   "id": "34a3ec12-b501-4473-97f8-5dc13af6f9dc",
   "metadata": {
    "execution": {
     "iopub.execute_input": "2022-08-20T05:11:52.147966Z",
     "iopub.status.busy": "2022-08-20T05:11:52.146834Z",
     "iopub.status.idle": "2022-08-20T05:11:52.163357Z",
     "shell.execute_reply": "2022-08-20T05:11:52.162278Z"
    },
    "tags": []
   },
   "outputs": [],
   "source": [
    "# intersection\n",
    "ncol(dge_base_intersect)\n",
    "ncol(dge_new_intersect)"
   ]
  },
  {
   "cell_type": "code",
   "execution_count": null,
   "id": "4d6ee569-a23d-43e6-9e0c-524390cd1b62",
   "metadata": {
    "execution": {
     "iopub.execute_input": "2022-08-20T05:12:01.608671Z",
     "iopub.status.busy": "2022-08-20T05:12:01.607501Z",
     "iopub.status.idle": "2022-08-20T05:12:06.099529Z",
     "shell.execute_reply": "2022-08-20T05:12:06.098324Z"
    },
    "tags": []
   },
   "outputs": [],
   "source": [
    "orig.intersect.seu   <- CreateSeuratObject(dge_base_intersect)\n",
    "roundtrip.seu    <- CreateSeuratObject(dge_new_intersect)"
   ]
  },
  {
   "cell_type": "code",
   "execution_count": null,
   "id": "d55f8dbc-4823-4d0e-89a0-7cfad47e0014",
   "metadata": {
    "execution": {
     "iopub.execute_input": "2022-08-20T05:12:06.102058Z",
     "iopub.status.busy": "2022-08-20T05:12:06.101141Z",
     "iopub.status.idle": "2022-08-20T05:12:07.625704Z",
     "shell.execute_reply": "2022-08-20T05:12:07.624465Z"
    },
    "tags": []
   },
   "outputs": [],
   "source": [
    "high_var_genes <- getVarGenes_untilPCA(orig.intersect.seu,num_varFeatures = 5000)"
   ]
  },
  {
   "cell_type": "code",
   "execution_count": null,
   "id": "5cdb4291-9758-4f28-89ee-b182ce11b8c6",
   "metadata": {
    "execution": {
     "iopub.execute_input": "2022-08-20T05:12:12.218242Z",
     "iopub.status.busy": "2022-08-20T05:12:12.217301Z",
     "iopub.status.idle": "2022-08-20T05:12:29.228725Z",
     "shell.execute_reply": "2022-08-20T05:12:29.226260Z"
    },
    "tags": []
   },
   "outputs": [],
   "source": [
    "orig.intersect.seu   <- getVarGenes_untilPCA(orig.intersect.seu,var_genes=high_var_genes,num_varFeatures = 5000)\n",
    "roundtrip.seu    <- getVarGenes_untilPCA(roundtrip.seu,var_genes=high_var_genes,num_varFeatures = 5000)"
   ]
  },
  {
   "cell_type": "code",
   "execution_count": null,
   "id": "9acd8334-2d44-4569-9d86-cb939397960e",
   "metadata": {
    "execution": {
     "iopub.execute_input": "2022-08-20T05:12:29.232522Z",
     "iopub.status.busy": "2022-08-20T05:12:29.231276Z",
     "iopub.status.idle": "2022-08-20T05:13:45.466049Z",
     "shell.execute_reply": "2022-08-20T05:13:45.464878Z"
    },
    "tags": []
   },
   "outputs": [],
   "source": [
    "orig.intersect.seu   <- seurat_processing_UMAP(orig.intersect.seu,dimlimit = 20,res = 0.6)\n",
    "roundtrip.seu  <- seurat_processing_UMAP(roundtrip.seu,dimlimit = 20,res = 0.6)"
   ]
  },
  {
   "cell_type": "code",
   "execution_count": null,
   "id": "a21bb106-308b-41b0-bfc1-cb0584c4b1cc",
   "metadata": {
    "execution": {
     "iopub.execute_input": "2022-08-20T05:13:45.468439Z",
     "iopub.status.busy": "2022-08-20T05:13:45.467579Z",
     "iopub.status.idle": "2022-08-20T05:14:29.711575Z",
     "shell.execute_reply": "2022-08-20T05:14:29.589604Z"
    },
    "tags": []
   },
   "outputs": [],
   "source": [
    "store_dir <- \"intermediate_data/\"\n",
    "\n",
    "saveRDS(orig.intersect.seu, paste0(store_dir,\"Aug2022_processed_Drop_original_Seurat.intersectionWithRndTrip.rds\"))\n",
    "saveRDS(roundtrip.seu, paste0(store_dir,\"Aug2022_processed_Drop_roundTrip_Seurat.rds\"))"
   ]
  },
  {
   "cell_type": "markdown",
   "id": "277214dd-79c8-4114-b410-10e2e3fd6410",
   "metadata": {},
   "source": [
    "#### Use cell state labels identified in the original seurat obj used in Figure 4"
   ]
  },
  {
   "cell_type": "code",
   "execution_count": null,
   "id": "e5270e46-9ae2-44dd-9b7b-cab08803cf2e",
   "metadata": {
    "execution": {
     "iopub.execute_input": "2022-08-20T17:01:55.463533Z",
     "iopub.status.busy": "2022-08-20T17:01:55.462487Z",
     "iopub.status.idle": "2022-08-20T17:01:58.912305Z",
     "shell.execute_reply": "2022-08-20T17:01:58.910266Z"
    },
    "tags": []
   },
   "outputs": [],
   "source": [
    "orig.fig4.seu <- readRDS(\"Drop_original_Seurat.rds\")"
   ]
  },
  {
   "cell_type": "code",
   "execution_count": null,
   "id": "54beaeac-da76-46ae-8d9e-8646005d6a7d",
   "metadata": {
    "execution": {
     "iopub.execute_input": "2022-08-20T17:01:58.915132Z",
     "iopub.status.busy": "2022-08-20T17:01:58.914168Z",
     "iopub.status.idle": "2022-08-20T17:01:58.931237Z",
     "shell.execute_reply": "2022-08-20T17:01:58.930175Z"
    },
    "tags": []
   },
   "outputs": [],
   "source": [
    "celltype_v_fig4 <- orig.fig4.seu$seurat_clusters\n",
    "celltype_v_fig4 <- celltype_v_fig4[colnames(orig.intersect.seu)]"
   ]
  },
  {
   "cell_type": "code",
   "execution_count": null,
   "id": "c1aaeb87-d830-4825-87a2-fa9ac2d19dce",
   "metadata": {
    "execution": {
     "iopub.execute_input": "2022-08-20T17:02:02.018520Z",
     "iopub.status.busy": "2022-08-20T17:02:02.017470Z",
     "iopub.status.idle": "2022-08-20T17:02:02.029024Z",
     "shell.execute_reply": "2022-08-20T17:02:02.028030Z"
    },
    "tags": []
   },
   "outputs": [],
   "source": [
    "head(celltype_v_fig4)"
   ]
  },
  {
   "cell_type": "code",
   "execution_count": null,
   "id": "f1b79b65-4185-4bee-9e3b-02ecb467eecd",
   "metadata": {
    "execution": {
     "iopub.execute_input": "2022-08-20T17:02:10.478582Z",
     "iopub.status.busy": "2022-08-20T17:02:10.477518Z",
     "iopub.status.idle": "2022-08-20T17:02:10.494379Z",
     "shell.execute_reply": "2022-08-20T17:02:10.493377Z"
    },
    "tags": []
   },
   "outputs": [],
   "source": [
    "colnames(orig.intersect.seu) %>% head\n",
    "colnames(roundtrip.seu) %>% head"
   ]
  },
  {
   "cell_type": "code",
   "execution_count": null,
   "id": "e047381c-0ccb-4e57-bfe4-c7cbf666fd38",
   "metadata": {
    "execution": {
     "iopub.execute_input": "2022-08-20T17:02:16.272552Z",
     "iopub.status.busy": "2022-08-20T17:02:16.271497Z",
     "iopub.status.idle": "2022-08-20T17:03:29.339473Z",
     "shell.execute_reply": "2022-08-20T17:03:29.255864Z"
    },
    "tags": []
   },
   "outputs": [],
   "source": [
    "#Fig drawing\n",
    "draw_umap(seu_base = orig.intersect.seu,\n",
    "          seu_to10x = orig.intersect.seu,\n",
    "          seu_todrop = roundtrip.seu,\n",
    "          col_seed = 22,\n",
    "          w=6,\n",
    "          h=6,\n",
    "          is_pdf=F,\n",
    "          celltype_v=celltype_v_fig4,\n",
    "          outdir = \"figure_out/\",\n",
    "          outname = \"Aug2022_Drop_roundtrip\")"
   ]
  },
  {
   "cell_type": "code",
   "execution_count": null,
   "id": "a2a7d515-841e-4b7f-b681-9791c1527d2c",
   "metadata": {
    "execution": {
     "iopub.execute_input": "2022-08-20T05:15:43.667637Z",
     "iopub.status.busy": "2022-08-20T05:15:43.666342Z",
     "iopub.status.idle": "2022-08-20T05:16:12.323065Z",
     "shell.execute_reply": "2022-08-20T05:16:12.321943Z"
    },
    "tags": []
   },
   "outputs": [],
   "source": [
    "#Export CellCellDist\n",
    "v.vln.todrop <- get_dist_pcaspace_scatter(orig.intersect.seu,\n",
    "                                          roundtrip.seu,\n",
    "                                          outdir = \"figure_out/\",\n",
    "                                          outname = \"Aug2022_Drop_roundtrip\")"
   ]
  },
  {
   "cell_type": "code",
   "execution_count": null,
   "id": "d1270579-0642-4215-9b1b-07fb6f23cce8",
   "metadata": {},
   "outputs": [],
   "source": []
  }
 ],
 "metadata": {
  "kernelspec": {
   "display_name": "R4",
   "language": "R",
   "name": "ir"
  },
  "language_info": {
   "codemirror_mode": "r",
   "file_extension": ".r",
   "mimetype": "text/x-r-source",
   "name": "R",
   "pygments_lexer": "r",
   "version": "4.2.1"
  }
 },
 "nbformat": 4,
 "nbformat_minor": 5
}
