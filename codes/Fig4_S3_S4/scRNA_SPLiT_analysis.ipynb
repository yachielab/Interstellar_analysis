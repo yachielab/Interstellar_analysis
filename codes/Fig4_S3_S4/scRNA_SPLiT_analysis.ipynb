{
 "cells": [
  {
   "cell_type": "code",
   "execution_count": null,
   "metadata": {},
   "outputs": [],
   "source": [
    "library(Seurat)\n",
    "library(Matrix)\n",
    "library(tidyverse)"
   ]
  },
  {
   "cell_type": "code",
   "execution_count": null,
   "metadata": {},
   "outputs": [],
   "source": [
    "source(\"../../util/sc_preprocess.R\")"
   ]
  },
  {
   "cell_type": "code",
   "execution_count": null,
   "metadata": {},
   "outputs": [],
   "source": [
    "# The following RDS files are products from import_DGE.R\n",
    "dge_base   <- readRDS(\"vFeb2021_SPLiT_original_rawdge.rds\")\n",
    "dge_to10x  <- readRDS(\"vFeb2021_SPLiT_to_10x_rawdge.rds\")\n",
    "dge_todrop <- readRDS(\"vFeb2021_SPLiT_to_drop_rawdge.rds\")\n",
    "dge_to10x_keepUMI  <- readRDS(\"vFeb2021_SPLiT_to_10x_keepUMI_rawdge.rds\")"
   ]
  },
  {
   "cell_type": "code",
   "execution_count": null,
   "metadata": {},
   "outputs": [],
   "source": [
    "cnt_base <- colSums(dge_base)\n",
    "cnt_10x <- colSums(dge_to10x)\n",
    "cnt_drop <- colSums(dge_todrop)"
   ]
  },
  {
   "cell_type": "code",
   "execution_count": null,
   "metadata": {},
   "outputs": [],
   "source": [
    "cnt_base[cnt_base < 1000] %>% length"
   ]
  },
  {
   "cell_type": "code",
   "execution_count": null,
   "metadata": {},
   "outputs": [],
   "source": [
    "cnt_10x[cnt_10x < 1000] %>% length"
   ]
  },
  {
   "cell_type": "code",
   "execution_count": null,
   "metadata": {},
   "outputs": [],
   "source": [
    "cnt_drop[cnt_drop < 1000] %>% length"
   ]
  },
  {
   "cell_type": "code",
   "execution_count": null,
   "metadata": {},
   "outputs": [],
   "source": [
    "dge_to10x         <- refresh_dge(dge_to10x,\n",
    "                                 direct = T,\n",
    "                                 header = F,\n",
    "                                 src = 2,\n",
    "                                 dest = 1,\n",
    "                                 path = \"barcode_correspondence_data//Fig4/split_to_10x.merged.tsv\",\n",
    "                                 add=\"-1\")\n",
    "dge_todrop        <- refresh_dge(dge_todrop,\n",
    "                                 direct = T,\n",
    "                                 header = F,\n",
    "                                 src = 2,\n",
    "                                 dest = 1,\n",
    "                                 path = \"barcode_correspondence_data//Fig4/split_to_drop.merged.tsv\")\n",
    "dge_to10x_keepUMI <- refresh_dge(dge_to10x_keepUMI,\n",
    "                                 direct = T,\n",
    "                                 header = F,\n",
    "                                 src = 2,\n",
    "                                 dest = 1,\n",
    "                                 path = \"barcode_correspondence_data//Fig4/split_to_10x_keepUMI.merged.tsv\",\n",
    "                                 add=\"-1\")"
   ]
  },
  {
   "cell_type": "code",
   "execution_count": null,
   "metadata": {},
   "outputs": [],
   "source": [
    "dge_to10x <- dge_to10x[,colSums(dge_to10x)>20]\n",
    "dge_to10x_keepUMI <- dge_to10x_keepUMI[,colSums(dge_to10x_keepUMI)>20]"
   ]
  },
  {
   "cell_type": "code",
   "execution_count": null,
   "metadata": {},
   "outputs": [],
   "source": [
    "cell.inter <- intersect(intersect(colnames(dge_base),colnames(dge_to10x)),\n",
    "                        intersect(colnames(dge_todrop),colnames(dge_to10x_keepUMI)))\n",
    "dge_base <- dge_base[,cell.inter]\n",
    "dge_to10x <- dge_to10x[,cell.inter]\n",
    "dge_todrop <- dge_todrop[,cell.inter]\n",
    "dge_to10x_keepUMI <- dge_to10x_keepUMI[,cell.inter]"
   ]
  },
  {
   "cell_type": "code",
   "execution_count": null,
   "metadata": {},
   "outputs": [],
   "source": [
    "dge_target_list <- list(dge_to10x,dge_todrop,dge_to10x_keepUMI)"
   ]
  },
  {
   "cell_type": "code",
   "execution_count": null,
   "metadata": {},
   "outputs": [],
   "source": [
    "dge_base[1:5,1:5]"
   ]
  },
  {
   "cell_type": "code",
   "execution_count": null,
   "metadata": {},
   "outputs": [],
   "source": [
    "use_cells <- get_cells_used(dge_base,dge_target_list,percent_mito = 5)"
   ]
  },
  {
   "cell_type": "code",
   "execution_count": null,
   "metadata": {},
   "outputs": [],
   "source": [
    "dge_base   <- dge_base[,use_cells]\n",
    "dge_to10x  <- dge_to10x[,use_cells]\n",
    "dge_todrop <- dge_todrop[,use_cells]\n",
    "dge_to10x_keepUMI  <- dge_to10x_keepUMI[,use_cells]\n"
   ]
  },
  {
   "cell_type": "code",
   "execution_count": null,
   "metadata": {},
   "outputs": [],
   "source": [
    "orig.intersect.seu   <- CreateSeuratObject(dge_base)\n",
    "to10x.intersect.seu  <- CreateSeuratObject(dge_to10x)\n",
    "todrop.intersect.seu <- CreateSeuratObject(dge_todrop)\n",
    "to10x.keepUMI.seu    <- CreateSeuratObject(dge_to10x_keepUMI)\n"
   ]
  },
  {
   "cell_type": "code",
   "execution_count": null,
   "metadata": {},
   "outputs": [],
   "source": [
    "high_var_genes <- getVarGenes_untilPCA(orig.intersect.seu,num_varFeatures = 5000)"
   ]
  },
  {
   "cell_type": "code",
   "execution_count": null,
   "metadata": {},
   "outputs": [],
   "source": [
    "orig.intersect.seu   <- getVarGenes_untilPCA(orig.intersect.seu,var_genes=high_var_genes,num_varFeatures = 5000)\n",
    "to10x.intersect.seu  <- getVarGenes_untilPCA(to10x.intersect.seu,var_genes=high_var_genes,num_varFeatures = 5000)\n",
    "todrop.intersect.seu <- getVarGenes_untilPCA(todrop.intersect.seu,var_genes=high_var_genes,num_varFeatures = 5000)\n",
    "to10x.keepUMI.seu    <- getVarGenes_untilPCA(to10x.keepUMI.seu,var_genes=high_var_genes,num_varFeatures = 5000)\n"
   ]
  },
  {
   "cell_type": "code",
   "execution_count": null,
   "metadata": {},
   "outputs": [],
   "source": [
    "orig.intersect.seu   <- seurat_processing_UMAP(orig.intersect.seu,dimlimit = 20,res = 0.6)\n",
    "to10x.intersect.seu  <- seurat_processing_UMAP(to10x.intersect.seu,dimlimit = 20,res = 0.6)\n",
    "todrop.intersect.seu <- seurat_processing_UMAP(todrop.intersect.seu,dimlimit = 20,res = 0.6)\n",
    "to10x.keepUMI.seu  <- seurat_processing_UMAP(to10x.keepUMI.seu,dimlimit = 20,res = 0.6)"
   ]
  },
  {
   "cell_type": "code",
   "execution_count": null,
   "metadata": {},
   "outputs": [],
   "source": [
    "store_dir <- \"seurat_rds/\"\n",
    "\n",
    "saveRDS(orig.intersect.seu,paste0(store_dir,\"vFeb2021_SPLiT_original_Seurat.rds\"))\n",
    "saveRDS(to10x.intersect.seu,paste0(store_dir,\"vFeb2021_SPLiT_to_10x_Seurat.rds\"))\n",
    "saveRDS(todrop.intersect.seu,paste0(store_dir,\"vFeb2021_SPLiT_to_drop_Seurat.rds\"))\n",
    "saveRDS(to10x.keepUMI.seu,paste0(store_dir,\"vFeb2021_SPLiT_to_10x_keepUMI_Seurat.rds\"))"
   ]
  },
  {
   "cell_type": "code",
   "execution_count": null,
   "metadata": {},
   "outputs": [],
   "source": [
    "v <- colnames(orig.intersect.seu) %>% head(n=40)"
   ]
  },
  {
   "cell_type": "code",
   "execution_count": null,
   "metadata": {},
   "outputs": [],
   "source": [
    "#Fig drawing\n",
    "draw_umap(seu_base = orig.intersect.seu,\n",
    "          seu_to10x = to10x.intersect.seu,\n",
    "          seu_todrop = todrop.intersect.seu,\n",
    "          col_seed = 6,\n",
    "          w=6,\n",
    "          h=6,\n",
    "          outdir = \"~/work//barista//paper_data/scRNA/Figure_Feb2021/\",\n",
    "          outname = \"SPLiT_randUMI_samegene\")"
   ]
  },
  {
   "cell_type": "code",
   "execution_count": null,
   "metadata": {},
   "outputs": [],
   "source": [
    "#Export CellCellDist\n",
    "v.vln.to10x <- get_dist_pcaspace_scatter(orig.intersect.seu,\n",
    "                                         to10x.intersect.seu,\n",
    "                                         outdir = \"figure_out/\",\n",
    "                                         outname = \"SPLiT_to_10x_randUMI\")\n",
    "v.vln.todrop <- get_dist_pcaspace_scatter(orig.intersect.seu,\n",
    "                                          todrop.intersect.seu,\n",
    "                                          outdir = \"figure_out/\",\n",
    "                                          outname = \"SPLiT_to_drop_randUMI\")\n",
    "v.vln.to10x_keep <- get_dist_pcaspace_scatter(orig.intersect.seu,\n",
    "                                              to10x.keepUMI.seu,\n",
    "                                              outdir = \"figure_out/\",\n",
    "                                              outname = \"SPLiT_to_10x_keepUMI\")\n",
    "v.vln.scramble <- get_dist_pcaspace_scatter(orig.intersect.seu,\n",
    "                                            orig.intersect.seu,\n",
    "                                            scramble = T,\n",
    "                                            outdir = \"figure_out/\",\n",
    "                                            outname = \"SPLiT_orig_scramble_samegene\")"
   ]
  },
  {
   "cell_type": "code",
   "execution_count": null,
   "metadata": {},
   "outputs": [],
   "source": []
  }
 ],
 "metadata": {
  "kernelspec": {
   "display_name": "R4",
   "language": "R",
   "name": "ir"
  },
  "language_info": {
   "codemirror_mode": "r",
   "file_extension": ".r",
   "mimetype": "text/x-r-source",
   "name": "R",
   "pygments_lexer": "r",
   "version": "4.2.1"
  }
 },
 "nbformat": 4,
 "nbformat_minor": 4
}
