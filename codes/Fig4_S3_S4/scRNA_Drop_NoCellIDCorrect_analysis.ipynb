{
 "cells": [
  {
   "cell_type": "code",
   "execution_count": null,
   "id": "47942d31-8328-4209-a02f-e97192e59e8b",
   "metadata": {
    "tags": []
   },
   "outputs": [],
   "source": [
    "library(Seurat)\n",
    "library(Matrix)\n",
    "library(tidyverse)"
   ]
  },
  {
   "cell_type": "code",
   "execution_count": null,
   "id": "cfdb590b-155a-4719-8bf9-628bb157c944",
   "metadata": {
    "tags": []
   },
   "outputs": [],
   "source": [
    "source(\"../../util/sc_preprocess.R\")"
   ]
  },
  {
   "cell_type": "code",
   "execution_count": null,
   "id": "a835cb5c-2b20-4ff0-a5e0-17ee6d3988e0",
   "metadata": {
    "tags": []
   },
   "outputs": [],
   "source": [
    "# The following RDS files are products from import_DGE.R\n",
    "dge_base   <- readRDS(\"vFeb2021_Drop_original_rawdge.rds\")\n",
    "dge_to10x <- readRDS(\"vFeb2021_Drop_to_10x_rawdge.rds\")\n",
    "dge_todrop <- readRDS(\"vFeb2021_Drop_to_drop_rawdge.rds\")\n",
    "dge_to10x_keepUMI  <- readRDS(\"vFeb2021_Drop_to_10x_keepUMI_rawdge.rds\")\n",
    "dge_todrop_keepUMI <- readRDS(\"vFeb2021_Drop_to_drop_keepUMI_rawdge.rds\")\n",
    "\n",
    "dge_todrop_seq2seq <- readRDS(\"drop_to_drop_SEQ2SEQ.drop.rds\")"
   ]
  },
  {
   "cell_type": "code",
   "execution_count": null,
   "id": "470953e7-a0fd-4ba4-ab0d-a05482a3b21f",
   "metadata": {
    "tags": []
   },
   "outputs": [],
   "source": [
    "bclist_to10x  <- read.table(\"barcode_correspondence_data/Fig4/bclist_drop_to_10X_random.txt\",header=T)\n",
    "bclist_toDrop <- read.table(\"barcode_correspondence_data//Fig4/bclist_drop_to_drop_random.txt\",header=T)\n",
    "bclist_to10x_keepUMI  <- read.table(\"barcode_correspondence_data//Fig4/bclist_drop_to_10X_keepUMI.txt\",header=T); colnames(bclist_to10x_keepUMI) <- c(\"segment1.cellID\",\"exCellID\")\n",
    "bclist_toDrop_keepUMI <- read.table(\"barcode_correspondence_data//Fig4/bclist_drop_to_drop_keepUMI.txt\",header=T)"
   ]
  },
  {
   "cell_type": "code",
   "execution_count": null,
   "id": "68e91c71-112e-4136-aeb3-520ade5378b9",
   "metadata": {
    "tags": []
   },
   "outputs": [],
   "source": [
    "colnames(dge_to10x) <- gsub(\"-1\",\"\",colnames(dge_to10x))\n",
    "colnames(dge_to10x_keepUMI) <- gsub(\"-1\",\"\",colnames(dge_to10x_keepUMI))\n",
    "\n",
    "dge_to10x_new  <- refresh_dge(dge_to10x,bclist_to10x$segment1.cellID,bclist_to10x$exCellID)\n",
    "dge_todrop_new <- refresh_dge(dge_todrop,bclist_toDrop$segment1.cellID,bclist_toDrop$exCellID)\n",
    "dge_to10x_keepUMI_new  <- refresh_dge(dge_to10x_keepUMI,bclist_to10x_keepUMI$segment1.cellID,bclist_to10x_keepUMI$exCellID)\n",
    "dge_todrop_keepUMI_new <- refresh_dge(dge_todrop_keepUMI,bclist_toDrop_keepUMI$segment1.cellID,bclist_toDrop_keepUMI$exCellID)"
   ]
  },
  {
   "cell_type": "code",
   "execution_count": null,
   "id": "620abaa9-7902-46a8-95a4-d234ef518223",
   "metadata": {
    "tags": []
   },
   "outputs": [],
   "source": [
    "dge_target_list <- list(dge_todrop_new,dge_to10x_keepUMI_new,dge_todrop_keepUMI_new,dge_todrop_seq2seq)"
   ]
  },
  {
   "cell_type": "code",
   "execution_count": null,
   "id": "b85df4d5-3d5a-4c97-9dae-93628faea2b0",
   "metadata": {
    "tags": []
   },
   "outputs": [],
   "source": [
    "use_cells <- get_cells_used(dge_base,dge_target_list,percent_mito = 20,min_features = 200)"
   ]
  },
  {
   "cell_type": "code",
   "execution_count": null,
   "id": "97c16d6b-38b9-4cd3-a916-ff5f824620a4",
   "metadata": {
    "tags": []
   },
   "outputs": [],
   "source": [
    "store_dir <- \"seurat_rds/\"\n",
    "\n",
    "orig.intersect.seu <- readRDS(paste0(store_dir,\"Feb2021_Drop_original_Seurat.rds\"))"
   ]
  },
  {
   "cell_type": "code",
   "execution_count": null,
   "id": "0edeb8d6-db7d-40b6-b583-52ca20056e67",
   "metadata": {
    "tags": []
   },
   "outputs": [],
   "source": [
    "dge_todrop<- dge_todrop_seq2seq[,use_cells]"
   ]
  },
  {
   "cell_type": "code",
   "execution_count": null,
   "id": "d83dc431-d905-4088-becd-2f0f6aa0bdb8",
   "metadata": {
    "tags": []
   },
   "outputs": [],
   "source": [
    "orig.intersect.seu <- orig.intersect.seu[,use_cells]"
   ]
  },
  {
   "cell_type": "code",
   "execution_count": null,
   "id": "e27b9cdb-42bf-431f-b80d-dddf4c02ad09",
   "metadata": {
    "tags": []
   },
   "outputs": [],
   "source": [
    "todrop.intersect.seu <- CreateSeuratObject(dge_todrop)"
   ]
  },
  {
   "cell_type": "code",
   "execution_count": null,
   "id": "bfb7e17c-22c6-4124-9dc6-b6f9868bcc67",
   "metadata": {
    "tags": []
   },
   "outputs": [],
   "source": [
    "high_var_genes <- VariableFeatures(orig.intersect.seu)"
   ]
  },
  {
   "cell_type": "code",
   "execution_count": null,
   "id": "7fe04e6b-d92e-4a47-82be-62a9883a8a0b",
   "metadata": {
    "tags": []
   },
   "outputs": [],
   "source": [
    "todrop.intersect.seu <- getVarGenes_untilPCA(todrop.intersect.seu,var_genes=high_var_genes,num_varFeatures = 5000)"
   ]
  },
  {
   "cell_type": "code",
   "execution_count": null,
   "id": "eb61776b-bb5f-4a14-ade8-6832ffe1f0a1",
   "metadata": {
    "tags": []
   },
   "outputs": [],
   "source": [
    "todrop.intersect.seu <- seurat_processing_UMAP(todrop.intersect.seu,dimlimit = 20,res = 0.6)"
   ]
  },
  {
   "cell_type": "code",
   "execution_count": null,
   "id": "7c2f93ca-c441-4357-bcb5-e15bca8a7111",
   "metadata": {
    "tags": []
   },
   "outputs": [],
   "source": [
    "store_dir <- \"/home/ha5656/work/Interstellar_test/seurat_obj/\""
   ]
  },
  {
   "cell_type": "code",
   "execution_count": null,
   "id": "4a6770ec-da85-4f7b-8aaa-4f968923a4b5",
   "metadata": {
    "tags": []
   },
   "outputs": [],
   "source": [
    "#Fig drawing\n",
    "draw_umap(seu_base = orig.intersect.seu,\n",
    "          seu_to10x = orig.intersect.seu,\n",
    "          seu_todrop = todrop.intersect.seu,\n",
    "          col_seed = 22,\n",
    "          w=6,\n",
    "          h=6,\n",
    "          outdir = \"figure_out/\",\n",
    "          outname = \"Mar2022_processed_Drop_to_drop_SEQ2SEQ_intersectionAll\")"
   ]
  },
  {
   "cell_type": "code",
   "execution_count": null,
   "id": "a2bc47c7-10b0-4ecf-ae0e-41f4918e32df",
   "metadata": {
    "tags": []
   },
   "outputs": [],
   "source": [
    "#Export CellCellDist\n",
    "v.vln.todrop <- get_dist_pcaspace_scatter(orig.intersect.seu,\n",
    "                          todrop.intersect.seu,\n",
    "                          outdir = \"figure_outdrop_SEQ2SEQ/\",\n",
    "                          outname = \"Mar2022_processed_drop_to_drop_SEQ2SEQ_intersectionAll\")"
   ]
  },
  {
   "cell_type": "code",
   "execution_count": null,
   "id": "0cd14ec4-d818-4d2f-b1a3-66bd8943d9db",
   "metadata": {},
   "outputs": [],
   "source": []
  }
 ],
 "metadata": {
  "kernelspec": {
   "display_name": "R4",
   "language": "R",
   "name": "ir"
  },
  "language_info": {
   "codemirror_mode": "r",
   "file_extension": ".r",
   "mimetype": "text/x-r-source",
   "name": "R",
   "pygments_lexer": "r",
   "version": "4.2.1"
  }
 },
 "nbformat": 4,
 "nbformat_minor": 5
}
