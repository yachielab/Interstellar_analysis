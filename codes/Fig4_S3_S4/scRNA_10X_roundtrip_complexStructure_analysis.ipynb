{
 "cells": [
  {
   "cell_type": "code",
   "execution_count": null,
   "metadata": {},
   "outputs": [],
   "source": [
    "library(Seurat)\n",
    "library(Matrix)\n",
    "library(tidyverse)"
   ]
  },
  {
   "cell_type": "code",
   "execution_count": null,
   "metadata": {},
   "outputs": [],
   "source": [
    "source(\"../../util/sc_preprocess.R\")"
   ]
  },
  {
   "cell_type": "code",
   "execution_count": null,
   "metadata": {},
   "outputs": [],
   "source": [
    "# The following RDS files are products from import_DGE.R\n",
    "\n",
    "store_dir <- \"intermediate_dataset/dge/\"\n",
    "\n",
    "dge_base_h1 <- readRDS(paste0(store_dir,\"crazy10x_original_heart1_rawdge.rds\"))\n",
    "dge_base_h2 <- readRDS(paste0(store_dir,\"crazy10x_original_heart2_rawdge.rds\"))\n",
    "dge_base_n1 <- readRDS(paste0(store_dir,\"crazy10x_original_neuron1_rawdge.rds\"))\n",
    "dge_base_n2 <- readRDS(paste0(store_dir,\"crazy10x_original_neuron2_rawdge.rds\"))\n",
    "\n",
    "dge_10x_h1 <- readRDS(paste0(store_dir,\"crazy10x_to10x_heart1_rawdge.rds\"))\n",
    "dge_10x_h2 <- readRDS(paste0(store_dir,\"crazy10x_to10x_heart2_rawdge.rds\"))\n",
    "dge_10x_n1 <- readRDS(paste0(store_dir,\"crazy10x_to10x_neuron1_rawdge.rds\"))\n",
    "dge_10x_n2 <- readRDS(paste0(store_dir,\"crazy10x_to10x_neuron2_rawdge.rds\"))"
   ]
  },
  {
   "cell_type": "code",
   "execution_count": null,
   "metadata": {},
   "outputs": [],
   "source": [
    "bclist_h1  <- read.table(\"barcode_correspondence_data//FigS4/cb.correspo.heart1\",header=F)[,2:3]\n",
    "bclist_h2  <- read.table(\"barcode_correspondence_data//FigS4/cb.correspo.heart2\",header=F)[,2:3]\n",
    "bclist_n1  <- read.table(\"barcode_correspondence_data//FigS4/cb.correspo.neuron1\",header=F)[,2:3]\n",
    "bclist_n2  <- read.table(\"barcode_correspondence_data//FigS4/cb.correspo.neuron2\",header=F)[,2:3]\n"
   ]
  },
  {
   "cell_type": "code",
   "execution_count": null,
   "metadata": {},
   "outputs": [],
   "source": [
    "dge_10x_h1_new  <- refresh_dge(dge_10x_h1,bclist_h1$V2,bclist_h1$V3,add=\"-1\")\n",
    "dge_10x_h2_new  <- refresh_dge(dge_10x_h2,bclist_h2$V2,bclist_h2$V3,add=\"-1\")\n",
    "dge_10x_n1_new  <- refresh_dge(dge_10x_n1,bclist_n1$V2,bclist_n1$V3,add=\"-1\")\n",
    "dge_10x_n2_new  <- refresh_dge(dge_10x_n2,bclist_n2$V2,bclist_n2$V3,add=\"-1\")"
   ]
  },
  {
   "cell_type": "code",
   "execution_count": null,
   "metadata": {},
   "outputs": [],
   "source": [
    "colnames(dge_10x_h2_new) %>% head"
   ]
  },
  {
   "cell_type": "code",
   "execution_count": null,
   "metadata": {},
   "outputs": [],
   "source": [
    "dge_target_list <- list(list(dge_base_h1,dge_10x_h1_new,\"crazy_10x_heart1\"),\n",
    "                        list(dge_base_h2,dge_10x_h2_new,\"crazy_10x_heart2\"),\n",
    "                        list(dge_base_n1,dge_10x_n1_new,\"crazy_10x_neuron1\"),\n",
    "                        list(dge_base_n2,dge_10x_n2_new,\"crazy_10x_neuron2\"))"
   ]
  },
  {
   "cell_type": "code",
   "execution_count": null,
   "metadata": {},
   "outputs": [],
   "source": [
    "for(dge_set in dge_target_list){\n",
    "    dge_base_now <- dge_set[[1]]\n",
    "    dge_10x_now  <- dge_set[[2]]\n",
    "    use_cells <- get_cells_used(dge_base_now,list(dge_set[[1]],dge_set[[2]]),percent_mito = 20)\n",
    "    print(length(use_cells))\n",
    "    \n",
    "    #Cell reordering\n",
    "    dge_base_intersect  <- dge_base_now[,use_cells]\n",
    "    dge_to10x_intersect  <- dge_10x_now[,use_cells]\n",
    "    \n",
    "    #Create Seurat Object\n",
    "    orig.intersect.seu   <- CreateSeuratObject(dge_base_intersect)\n",
    "    to10x.intersect.seu  <- CreateSeuratObject(dge_to10x_intersect)\n",
    "    \n",
    "    #High-var genes\n",
    "    high_var_genes <- getVarGenes_untilPCA(orig.intersect.seu,num_varFeatures = 5000)\n",
    "    orig.intersect.seu   <- getVarGenes_untilPCA(orig.intersect.seu,var_genes=high_var_genes,num_varFeatures = 5000)\n",
    "    to10x.intersect.seu  <- getVarGenes_untilPCA(to10x.intersect.seu,var_genes=high_var_genes,num_varFeatures = 5000)\n",
    "    \n",
    "    #Deimension reduction\n",
    "    orig.intersect.seu   <- seurat_processing_UMAP(orig.intersect.seu,dimlimit = 20,res = 0.6)\n",
    "    to10x.intersect.seu  <- seurat_processing_UMAP(to10x.intersect.seu,dimlimit = 20,res = 0.6)\n",
    "}"
   ]
  },
  {
   "cell_type": "code",
   "execution_count": null,
   "metadata": {},
   "outputs": [],
   "source": [
    "seed=1\n",
    "for(prefix in c(\"crazy_10x_heart1\",\"crazy_10x_heart2\",\"crazy_10x_neuron1\",\"crazy_10x_neuron2\")){\n",
    "    print(prefix)\n",
    "    store_dir <- \"seurat_rds/\"\n",
    "    orig.intersect.seu <- readRDS(paste0(store_dir,prefix,\"_10x_original_Seurat.rds\"))\n",
    "    to10x.intersect.seu <-readRDS(paste0(store_dir,prefix,\"_10x_to_10x_Seurat.rds\"))\n",
    "    seed=seed+1\n",
    "    draw_umap_crazy10x(seu_base = orig.intersect.seu,\n",
    "                  seu_to10x = to10x.intersect.seu,\n",
    "                  col_seed = seed,\n",
    "                       dot_pt=1,\n",
    "          w=10,\n",
    "          h=10,\n",
    "          is_pdf=F,\n",
    "          dpi=600,\n",
    "                  outdir = \"figure_out/\",\n",
    "                  outname = paste0(prefix,\"_10x\"))\n",
    "    \n",
    "    # Export CellCellDist\n",
    "    v.vln.to10x <- get_dist_pcaspace_scatter(orig.intersect.seu,\n",
    "                                             to10x.intersect.seu,\n",
    "                                             n_cell_sampling = 50000,\n",
    "                                             outdir = \"figure_out/\",\n",
    "                                             outname = paste0(prefix,\"_10x_randUMI\"))\n",
    "    \n",
    "    v.vln.to10x.scr <- get_dist_pcaspace_scatter(orig.intersect.seu,\n",
    "                                             to10x.intersect.seu,\n",
    "                                             n_cell_sampling = 50000,\n",
    "                                             n_scramble_sampling=100,\n",
    "                                            scramble = T,\n",
    "                                             outdir = \"figure_out/\",\n",
    "                                             outname = paste0(prefix,\"_10x_randUMI_scramble\"))\n",
    "    saveRDS(v.vln.to10x,\n",
    "            paste0(\"~/work/barista/paper_data/R_fig_script//intermediate_dataset/CCDist_Apr2021/\",prefix,\".diff.rds\"))\n",
    "    saveRDS(v.vln.to10x.scr,\n",
    "            paste0(\"~/work/barista/paper_data/R_fig_script//intermediate_dataset/CCDist_Apr2021/\",prefix,\".scr.diff.rds\"))\n",
    "    \n",
    "}"
   ]
  },
  {
   "cell_type": "code",
   "execution_count": null,
   "metadata": {},
   "outputs": [],
   "source": []
  }
 ],
 "metadata": {
  "kernelspec": {
   "display_name": "R4",
   "language": "R",
   "name": "ir"
  },
  "language_info": {
   "codemirror_mode": "r",
   "file_extension": ".r",
   "mimetype": "text/x-r-source",
   "name": "R",
   "pygments_lexer": "r",
   "version": "4.2.1"
  }
 },
 "nbformat": 4,
 "nbformat_minor": 4
}
