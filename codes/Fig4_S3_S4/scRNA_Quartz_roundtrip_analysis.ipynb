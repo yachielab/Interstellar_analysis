{
 "cells": [
  {
   "cell_type": "code",
   "execution_count": null,
   "id": "2757d812-cf07-4b1b-b4ac-084d88d02f10",
   "metadata": {
    "tags": []
   },
   "outputs": [],
   "source": [
    "library(Seurat)\n",
    "library(Matrix)\n",
    "library(tidyverse)\n",
    "\n",
    "source(\"../../util/sc_preprocess.R\")"
   ]
  },
  {
   "cell_type": "code",
   "execution_count": null,
   "id": "e0d96dc5-7b40-4eca-94cd-c3460f856c53",
   "metadata": {
    "tags": []
   },
   "outputs": [],
   "source": [
    "dge_roundtrip.p10 <- read_dge_drop(\"Quartz2_plate10.dge.txt.gz\")\n",
    "dge_roundtrip.p3  <- read_dge_drop(\"Quartz2_plate3.dge.txt.gz\")\n",
    "dge_roundtrip.p4  <- read_dge_drop(\"Quartz2_plate4.dge.txt.gz\")\n",
    "\n",
    "colnames(dge_roundtrip.p10) <- paste0(\"p10_\",colnames(dge_roundtrip.p10))\n",
    "colnames(dge_roundtrip.p3) <- paste0(\"p3_\",colnames(dge_roundtrip.p3))\n",
    "colnames(dge_roundtrip.p4) <- paste0(\"p4_\",colnames(dge_roundtrip.p4))\n",
    "\n",
    "use_genes <- intersect(rownames(dge_roundtrip.p10),intersect(rownames(dge_roundtrip.p3),rownames(dge_roundtrip.p4)))\n",
    "dge_roundtrip.p10 <- dge_roundtrip.p10[use_genes,]\n",
    "dge_roundtrip.p3 <- dge_roundtrip.p3[use_genes,]\n",
    "dge_roundtrip.p4 <- dge_roundtrip.p4[use_genes,]\n",
    "\n",
    "dge_roundtrip <- cbind(dge_roundtrip.p10,dge_roundtrip.p3,dge_roundtrip.p4)"
   ]
  },
  {
   "cell_type": "code",
   "execution_count": null,
   "id": "d42cf98f-6d63-4e2b-aabc-8843b8342b08",
   "metadata": {
    "tags": []
   },
   "outputs": [],
   "source": [
    "# The following RDS files are products from import_DGE.R\n",
    "dge_base   <- readRDS(\"vFeb2021_Quartz_original_rawdge.rds\")"
   ]
  },
  {
   "cell_type": "code",
   "execution_count": null,
   "id": "a3ff12d4-a3d9-4f17-8e92-66a077a3230d",
   "metadata": {
    "tags": []
   },
   "outputs": [],
   "source": [
    "colnames(dge_roundtrip) %>% head"
   ]
  },
  {
   "cell_type": "code",
   "execution_count": null,
   "id": "8224fce4-a5fe-44ba-9d1f-4b2391b1d9af",
   "metadata": {
    "tags": []
   },
   "outputs": [],
   "source": [
    "bclist_fwd <- read.table(\"barcode_correspondence_data//FigS3/Quartz/roundtrip/fwd_merged.txv\",header=F)\n",
    "bclist_rev <- read.table(\"barcode_correspondence_data//FigS3/Quartz//roundtrip/rev_merged.txv\",header=F)"
   ]
  },
  {
   "cell_type": "code",
   "execution_count": null,
   "id": "4f3f2a99-c4e6-41d2-96a1-c4828c741d55",
   "metadata": {
    "tags": []
   },
   "outputs": [],
   "source": [
    "bclist <- merge(bclist_fwd,bclist_rev,by.x=2,by.y=1)"
   ]
  },
  {
   "cell_type": "code",
   "execution_count": null,
   "id": "a1d930ab-8384-4da0-81be-7416d3e2bca3",
   "metadata": {
    "tags": []
   },
   "outputs": [],
   "source": [
    "head(bclist)"
   ]
  },
  {
   "cell_type": "code",
   "execution_count": null,
   "id": "a6a3dc4a-3d5a-44ea-bf0c-8b4c2bcb796f",
   "metadata": {
    "tags": []
   },
   "outputs": [],
   "source": [
    "colnames(bclist) <- c(\"sim\",\"orig\",\"roundtrip\")"
   ]
  },
  {
   "cell_type": "code",
   "execution_count": null,
   "id": "72cfd3f9-e26d-4707-8ecf-861ca0362d1e",
   "metadata": {
    "tags": []
   },
   "outputs": [],
   "source": [
    "dge_new <- refresh_dge(dge_roundtrip,bclist$orig,bclist$roundtrip)"
   ]
  },
  {
   "cell_type": "code",
   "execution_count": null,
   "id": "2d25a08f-d32f-4bcd-b09d-b822c844dafd",
   "metadata": {
    "tags": []
   },
   "outputs": [],
   "source": [
    "dim(dge_new)"
   ]
  },
  {
   "cell_type": "code",
   "execution_count": null,
   "id": "a8f917d5-bc78-4f10-bd0b-93814ddbeb46",
   "metadata": {
    "tags": []
   },
   "outputs": [],
   "source": [
    "dim(dge_base)"
   ]
  },
  {
   "cell_type": "code",
   "execution_count": null,
   "id": "cfe898af-c05c-4d0d-a6e2-c1fe1688e30f",
   "metadata": {
    "tags": []
   },
   "outputs": [],
   "source": [
    "dge_target_list <- list(dge_new)\n",
    "use_cells <- get_cells_used(dge_base,dge_target_list,percent_mito = 20)\n",
    "\n",
    "dge_base_intersect   <- dge_base[,use_cells]\n",
    "dge_new_intersect  <- dge_new[,use_cells]"
   ]
  },
  {
   "cell_type": "code",
   "execution_count": null,
   "id": "34a3ec12-b501-4473-97f8-5dc13af6f9dc",
   "metadata": {
    "tags": []
   },
   "outputs": [],
   "source": [
    "# intersection\n",
    "ncol(dge_base_intersect)\n",
    "ncol(dge_new_intersect)"
   ]
  },
  {
   "cell_type": "code",
   "execution_count": null,
   "id": "4d6ee569-a23d-43e6-9e0c-524390cd1b62",
   "metadata": {
    "tags": []
   },
   "outputs": [],
   "source": [
    "orig.intersect.seu   <- CreateSeuratObject(dge_base_intersect)\n",
    "roundtrip.seu    <- CreateSeuratObject(dge_new_intersect)"
   ]
  },
  {
   "cell_type": "code",
   "execution_count": null,
   "id": "d55f8dbc-4823-4d0e-89a0-7cfad47e0014",
   "metadata": {
    "tags": []
   },
   "outputs": [],
   "source": [
    "high_var_genes <- getVarGenes_untilPCA(orig.intersect.seu,num_varFeatures = 5000)"
   ]
  },
  {
   "cell_type": "code",
   "execution_count": null,
   "id": "5cdb4291-9758-4f28-89ee-b182ce11b8c6",
   "metadata": {
    "tags": []
   },
   "outputs": [],
   "source": [
    "orig.intersect.seu   <- getVarGenes_untilPCA(orig.intersect.seu,var_genes=high_var_genes,num_varFeatures = 5000)\n",
    "roundtrip.seu    <- getVarGenes_untilPCA(roundtrip.seu,var_genes=high_var_genes,num_varFeatures = 5000)"
   ]
  },
  {
   "cell_type": "code",
   "execution_count": null,
   "id": "9acd8334-2d44-4569-9d86-cb939397960e",
   "metadata": {
    "tags": []
   },
   "outputs": [],
   "source": [
    "orig.intersect.seu   <- seurat_processing_UMAP(orig.intersect.seu,dimlimit = 20,res = 0.6)\n",
    "roundtrip.seu  <- seurat_processing_UMAP(roundtrip.seu,dimlimit = 20,res = 0.6)"
   ]
  },
  {
   "cell_type": "code",
   "execution_count": null,
   "id": "a21bb106-308b-41b0-bfc1-cb0584c4b1cc",
   "metadata": {
    "tags": []
   },
   "outputs": [],
   "source": [
    "store_dir <- \"intermediate_data/\"\n",
    "\n",
    "saveRDS(orig.intersect.seu, paste0(store_dir,\"Aug2022_processed_Quartz_original_Seurat.intersectionWithRndTrip.rds\"))\n",
    "saveRDS(roundtrip.seu, paste0(store_dir,\"Aug2022_processed_Quartz_roundTrip_Seurat.rds\"))"
   ]
  },
  {
   "cell_type": "markdown",
   "id": "277214dd-79c8-4114-b410-10e2e3fd6410",
   "metadata": {},
   "source": [
    "#### Use cell state labels identified in the original seurat obj used in Figure 4"
   ]
  },
  {
   "cell_type": "code",
   "execution_count": null,
   "id": "e5270e46-9ae2-44dd-9b7b-cab08803cf2e",
   "metadata": {
    "tags": []
   },
   "outputs": [],
   "source": [
    "orig.fig4.seu <- readRDS(\"Quartz_original_Seurat.rds\")"
   ]
  },
  {
   "cell_type": "code",
   "execution_count": null,
   "id": "54beaeac-da76-46ae-8d9e-8646005d6a7d",
   "metadata": {
    "tags": []
   },
   "outputs": [],
   "source": [
    "celltype_v_fig4 <- orig.fig4.seu$seurat_clusters\n",
    "celltype_v_fig4 <- celltype_v_fig4[colnames(orig.intersect.seu)]"
   ]
  },
  {
   "cell_type": "code",
   "execution_count": null,
   "id": "c1aaeb87-d830-4825-87a2-fa9ac2d19dce",
   "metadata": {
    "tags": []
   },
   "outputs": [],
   "source": [
    "head(celltype_v_fig4)"
   ]
  },
  {
   "cell_type": "code",
   "execution_count": null,
   "id": "43afd602-9c0f-4723-848a-165fc1c13892",
   "metadata": {},
   "outputs": [],
   "source": [
    "length(celltype_v_fig4)"
   ]
  },
  {
   "cell_type": "code",
   "execution_count": null,
   "id": "f1b79b65-4185-4bee-9e3b-02ecb467eecd",
   "metadata": {
    "tags": []
   },
   "outputs": [],
   "source": [
    "colnames(orig.intersect.seu) %>% head\n",
    "colnames(roundtrip.seu) %>% head"
   ]
  },
  {
   "cell_type": "code",
   "execution_count": null,
   "id": "e047381c-0ccb-4e57-bfe4-c7cbf666fd38",
   "metadata": {
    "tags": []
   },
   "outputs": [],
   "source": [
    "#Fig drawing\n",
    "draw_umap(seu_base = orig.intersect.seu,\n",
    "          seu_to10x = orig.intersect.seu,\n",
    "          seu_todrop = roundtrip.seu,\n",
    "          col_seed = 3,\n",
    "          w=6,\n",
    "          h=6,\n",
    "          is_pdf=F,\n",
    "          celltype_v=celltype_v_fig4,\n",
    "          outdir = \"figure_out/\",\n",
    "          outname = \"Aug2022_Quartz_roundtrip\")"
   ]
  },
  {
   "cell_type": "code",
   "execution_count": null,
   "id": "a2a7d515-841e-4b7f-b681-9791c1527d2c",
   "metadata": {
    "tags": []
   },
   "outputs": [],
   "source": [
    "#Export CellCellDist\n",
    "v.vln.todrop <- get_dist_pcaspace_scatter(orig.intersect.seu,\n",
    "                                          roundtrip.seu,\n",
    "                                          outdir = \"figure_out/\",\n",
    "                                          outname = \"Aug2022_Quartz_roundtrip\")"
   ]
  },
  {
   "cell_type": "code",
   "execution_count": null,
   "id": "d1270579-0642-4215-9b1b-07fb6f23cce8",
   "metadata": {},
   "outputs": [],
   "source": []
  }
 ],
 "metadata": {
  "kernelspec": {
   "display_name": "R4",
   "language": "R",
   "name": "ir"
  },
  "language_info": {
   "codemirror_mode": "r",
   "file_extension": ".r",
   "mimetype": "text/x-r-source",
   "name": "R",
   "pygments_lexer": "r",
   "version": "4.2.1"
  }
 },
 "nbformat": 4,
 "nbformat_minor": 5
}
