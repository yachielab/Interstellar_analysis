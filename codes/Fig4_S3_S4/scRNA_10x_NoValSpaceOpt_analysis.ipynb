{
 "cells": [
  {
   "cell_type": "code",
   "execution_count": null,
   "id": "5cc64b88-fd7c-4ee1-b338-dcd2ad23252b",
   "metadata": {
    "tags": []
   },
   "outputs": [],
   "source": [
    "library(Seurat)\n",
    "library(Matrix)\n",
    "library(tidyverse)"
   ]
  },
  {
   "cell_type": "code",
   "execution_count": null,
   "id": "f2737687-4872-4920-a828-fe0f2c0b2397",
   "metadata": {
    "tags": []
   },
   "outputs": [],
   "source": [
    "source(\"../../util/sc_preprocess.R\")"
   ]
  },
  {
   "cell_type": "code",
   "execution_count": null,
   "id": "c936541f-d9cd-4719-9124-420a3e7c95d6",
   "metadata": {
    "tags": []
   },
   "outputs": [],
   "source": [
    "# The following RDS files are products from import_DGE.R\n",
    "dge_base   <- readRDS(\"vFeb202110x_original_rawdge.rds\")\n",
    "dge_todrop_NoAlloc <- readRDS(\"10x_to_drop_NoAlloc.drop.rds\")"
   ]
  },
  {
   "cell_type": "code",
   "execution_count": null,
   "id": "7e0faa81-99a9-460d-af26-92fe4f85d605",
   "metadata": {
    "tags": []
   },
   "outputs": [],
   "source": [
    "bclist_todrop_NoAlloc <- read.table(\"barcode_correspondence_data//Fig4/10x_to_drop_NoAlloc_merge_correspondence.tsv\",header=F)"
   ]
  },
  {
   "cell_type": "code",
   "execution_count": null,
   "id": "3120e77e-5932-48d7-8d10-1f35db1b8706",
   "metadata": {
    "tags": []
   },
   "outputs": [],
   "source": [
    "colnames(dge_base) <- gsub(\"-1\",\"\",colnames(dge_base))\n",
    "dge_todrop_NoAlloc_new <- refresh_dge(dge_todrop_NoAlloc,bclist_todrop_NoAlloc$V1,bclist_todrop_NoAlloc$V2)\n"
   ]
  },
  {
   "cell_type": "code",
   "execution_count": null,
   "id": "07b17621-2f65-43fa-814d-b202a0604a43",
   "metadata": {
    "tags": []
   },
   "outputs": [],
   "source": [
    "dge_target_list <- list(dge_todrop_NoAlloc_new)\n",
    "use_cells <- get_cells_used(dge_base,dge_target_list,percent_mito = 20)\n",
    "\n",
    "dge_base_intersect   <- dge_base[,use_cells]\n",
    "dge_todrop_NoAlloc_intersect  <- dge_todrop_NoAlloc_new[,use_cells]\n"
   ]
  },
  {
   "cell_type": "code",
   "execution_count": null,
   "id": "0ddd3c45-c7b8-4cef-bc8a-aad690dbb2e0",
   "metadata": {
    "tags": []
   },
   "outputs": [],
   "source": [
    "# intersection\n",
    "ncol(dge_base_intersect)\n",
    "ncol(dge_todrop_NoAlloc_intersect)"
   ]
  },
  {
   "cell_type": "code",
   "execution_count": null,
   "id": "e7b40ff9-1a39-4646-afed-9154e5703301",
   "metadata": {
    "tags": []
   },
   "outputs": [],
   "source": [
    "orig.intersect.seu   <- CreateSeuratObject(dge_base_intersect)\n",
    "todrop.NoAlloc.seu    <- CreateSeuratObject(dge_todrop_NoAlloc_intersect)\n"
   ]
  },
  {
   "cell_type": "code",
   "execution_count": null,
   "id": "5bd11612-7711-4596-8797-30a22ec73876",
   "metadata": {
    "tags": []
   },
   "outputs": [],
   "source": [
    "high_var_genes <- getVarGenes_untilPCA(orig.intersect.seu,num_varFeatures = 5000)"
   ]
  },
  {
   "cell_type": "code",
   "execution_count": null,
   "id": "bbe31c60-d34c-4ebc-a1b0-dfecd90f166b",
   "metadata": {
    "tags": []
   },
   "outputs": [],
   "source": [
    "orig.intersect.seu   <- getVarGenes_untilPCA(orig.intersect.seu,var_genes=high_var_genes,num_varFeatures = 5000)\n",
    "todrop.NoAlloc.seu    <- getVarGenes_untilPCA(todrop.NoAlloc.seu,var_genes=high_var_genes,num_varFeatures = 5000)\n"
   ]
  },
  {
   "cell_type": "code",
   "execution_count": null,
   "id": "cd8254c0-dad1-4665-9932-ad64858f66ad",
   "metadata": {
    "tags": []
   },
   "outputs": [],
   "source": [
    "orig.intersect.seu   <- seurat_processing_UMAP(orig.intersect.seu,dimlimit = 20,res = 0.6)\n",
    "todrop.NoAlloc.seu  <- seurat_processing_UMAP(todrop.NoAlloc.seu,dimlimit = 20,res = 0.6)"
   ]
  },
  {
   "cell_type": "code",
   "execution_count": null,
   "id": "39b9919f-96d7-416b-9302-96e5cf8d0e9b",
   "metadata": {
    "tags": []
   },
   "outputs": [],
   "source": [
    "store_dir <- \"seurat_obj/\"\n",
    "\n",
    "saveRDS(orig.intersect.seu,paste0(store_dir,\"Mar2022_processed_10x_original_Seurat.intersectionWithNoAlloc.rds\"))\n",
    "saveRDS(todrop.NoAlloc.seu,paste0(store_dir,\"Mar2022_processed_10x_to_drop_NoAlloc_Seurat.rds\"))"
   ]
  },
  {
   "cell_type": "code",
   "execution_count": null,
   "id": "24a34e29-c160-49a7-bbaa-9b7b0885012e",
   "metadata": {
    "tags": []
   },
   "outputs": [],
   "source": [
    "#Fig drawing\n",
    "draw_umap(seu_base = orig.intersect.seu,\n",
    "          seu_to10x = orig.intersect.seu,\n",
    "          seu_todrop = todrop.NoAlloc.seu,\n",
    "          col_seed = 6,\n",
    "          w=6,\n",
    "          h=6,\n",
    "          is_pdf=F,\n",
    "          outdir = \"figure_out/\",\n",
    "          outname = \"Mar2022_10x_NoAlloc\")"
   ]
  },
  {
   "cell_type": "code",
   "execution_count": null,
   "id": "0ab48bd4-d251-4672-b0a6-ad3ef76dae71",
   "metadata": {
    "tags": []
   },
   "outputs": [],
   "source": [
    "#Export CellCellDist\n",
    "v.vln.todrop <- get_dist_pcaspace_scatter(orig.intersect.seu,\n",
    "                                          todrop.NoAlloc.seu,\n",
    "                                          outdir = \"figure_out/\",\n",
    "                                          outname = \"Mar2022_10x_to_drop_NoAlloc\")"
   ]
  },
  {
   "cell_type": "code",
   "execution_count": null,
   "id": "b5ac210f-5c49-40ff-990c-f6f7872fb4b1",
   "metadata": {},
   "outputs": [],
   "source": []
  }
 ],
 "metadata": {
  "kernelspec": {
   "display_name": "R4",
   "language": "R",
   "name": "ir"
  },
  "language_info": {
   "codemirror_mode": "r",
   "file_extension": ".r",
   "mimetype": "text/x-r-source",
   "name": "R",
   "pygments_lexer": "r",
   "version": "4.2.1"
  }
 },
 "nbformat": 4,
 "nbformat_minor": 5
}
