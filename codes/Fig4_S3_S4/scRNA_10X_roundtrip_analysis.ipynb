{
 "cells": [
  {
   "cell_type": "code",
   "execution_count": null,
   "id": "2757d812-cf07-4b1b-b4ac-084d88d02f10",
   "metadata": {
    "tags": []
   },
   "outputs": [],
   "source": [
    "library(Seurat)\n",
    "library(Matrix)\n",
    "library(tidyverse)\n",
    "\n",
    "source(\"../../util/sc_preprocess.R\")"
   ]
  },
  {
   "cell_type": "code",
   "execution_count": null,
   "id": "d42cf98f-6d63-4e2b-aabc-8843b8342b08",
   "metadata": {
    "tags": []
   },
   "outputs": [],
   "source": [
    "# The following RDS files are products from import_DGE.R\n",
    "dge_base   <- readRDS(\"vFeb202110x_original_rawdge.rds\")\n",
    "dge_roundtrip <- readRDS(\"10x_roundtrip.10x.rds\")"
   ]
  },
  {
   "cell_type": "code",
   "execution_count": null,
   "id": "8224fce4-a5fe-44ba-9d1f-4b2391b1d9af",
   "metadata": {
    "tags": []
   },
   "outputs": [],
   "source": [
    "bclist_fwd <- read.table(\"barcode_correspondence_data//FigS3/10X/fwd/merge_correspondence.tsv\",header=F)\n",
    "bclist_rev <- read.table(\"barcode_correspondence_data//FigS3/10X/rev/merge_correspondence.tsv\",header=F)"
   ]
  },
  {
   "cell_type": "code",
   "execution_count": null,
   "id": "4f3f2a99-c4e6-41d2-96a1-c4828c741d55",
   "metadata": {
    "tags": []
   },
   "outputs": [],
   "source": [
    "bclist <- merge(bclist_fwd,bclist_rev,by.x=2,by.y=1)"
   ]
  },
  {
   "cell_type": "code",
   "execution_count": null,
   "id": "a6a3dc4a-3d5a-44ea-bf0c-8b4c2bcb796f",
   "metadata": {
    "tags": []
   },
   "outputs": [],
   "source": [
    "colnames(bclist) <- c(\"sim\",\"orig\",\"roundtrip\")"
   ]
  },
  {
   "cell_type": "code",
   "execution_count": null,
   "id": "e2edebdf-4786-4a29-b069-8119e60d4bd4",
   "metadata": {},
   "outputs": [],
   "source": [
    "dim(bclist)"
   ]
  },
  {
   "cell_type": "code",
   "execution_count": null,
   "id": "72cfd3f9-e26d-4707-8ecf-861ca0362d1e",
   "metadata": {
    "tags": []
   },
   "outputs": [],
   "source": [
    "colnames(dge_base) <- gsub(\"-1\",\"\",colnames(dge_base))\n",
    "colnames(dge_roundtrip) <- gsub(\"-1\",\"\",colnames(dge_roundtrip))\n",
    "dge_new <- refresh_dge(dge_roundtrip,bclist$orig,bclist$roundtrip)"
   ]
  },
  {
   "cell_type": "code",
   "execution_count": null,
   "id": "2d25a08f-d32f-4bcd-b09d-b822c844dafd",
   "metadata": {
    "tags": []
   },
   "outputs": [],
   "source": [
    "colnames(dge_new) %>% head"
   ]
  },
  {
   "cell_type": "code",
   "execution_count": null,
   "id": "cfe898af-c05c-4d0d-a6e2-c1fe1688e30f",
   "metadata": {
    "tags": []
   },
   "outputs": [],
   "source": [
    "dge_target_list <- list(dge_new)\n",
    "use_cells <- get_cells_used(dge_base,dge_target_list,percent_mito = 20)\n",
    "\n",
    "dge_base_intersect   <- dge_base[,use_cells]\n",
    "dge_new_intersect  <- dge_new[,use_cells]"
   ]
  },
  {
   "cell_type": "code",
   "execution_count": null,
   "id": "34a3ec12-b501-4473-97f8-5dc13af6f9dc",
   "metadata": {
    "tags": []
   },
   "outputs": [],
   "source": [
    "# intersection\n",
    "ncol(dge_base_intersect)\n",
    "ncol(dge_new_intersect)"
   ]
  },
  {
   "cell_type": "code",
   "execution_count": null,
   "id": "4d6ee569-a23d-43e6-9e0c-524390cd1b62",
   "metadata": {
    "tags": []
   },
   "outputs": [],
   "source": [
    "orig.intersect.seu   <- CreateSeuratObject(dge_base_intersect)\n",
    "roundtrip.seu    <- CreateSeuratObject(dge_new_intersect)"
   ]
  },
  {
   "cell_type": "code",
   "execution_count": null,
   "id": "d55f8dbc-4823-4d0e-89a0-7cfad47e0014",
   "metadata": {
    "tags": []
   },
   "outputs": [],
   "source": [
    "high_var_genes <- getVarGenes_untilPCA(orig.intersect.seu,num_varFeatures = 5000)"
   ]
  },
  {
   "cell_type": "code",
   "execution_count": null,
   "id": "5cdb4291-9758-4f28-89ee-b182ce11b8c6",
   "metadata": {
    "tags": []
   },
   "outputs": [],
   "source": [
    "orig.intersect.seu   <- getVarGenes_untilPCA(orig.intersect.seu,var_genes=high_var_genes,num_varFeatures = 5000)\n",
    "roundtrip.seu    <- getVarGenes_untilPCA(roundtrip.seu,var_genes=high_var_genes,num_varFeatures = 5000)"
   ]
  },
  {
   "cell_type": "code",
   "execution_count": null,
   "id": "9acd8334-2d44-4569-9d86-cb939397960e",
   "metadata": {
    "tags": []
   },
   "outputs": [],
   "source": [
    "orig.intersect.seu   <- seurat_processing_UMAP(orig.intersect.seu,dimlimit = 20,res = 0.6)\n",
    "roundtrip.seu  <- seurat_processing_UMAP(roundtrip.seu,dimlimit = 20,res = 0.6)"
   ]
  },
  {
   "cell_type": "code",
   "execution_count": null,
   "id": "a21bb106-308b-41b0-bfc1-cb0584c4b1cc",
   "metadata": {
    "tags": []
   },
   "outputs": [],
   "source": [
    "store_dir <- \"intermediate_data/\"\n",
    "\n",
    "saveRDS(orig.intersect.seu, paste0(store_dir,\"Aug2022_processed_10x_original_Seurat.intersectionWithRndTrip.rds\"))\n",
    "saveRDS(roundtrip.seu, paste0(store_dir,\"Aug2022_processed_10x_roundTrip_Seurat.rds\"))"
   ]
  },
  {
   "cell_type": "markdown",
   "id": "f1b02af7-2c6f-4638-a767-623cf939ef6f",
   "metadata": {},
   "source": [
    "#### Use cell state labels identified in the original seurat obj used in Figure 4"
   ]
  },
  {
   "cell_type": "code",
   "execution_count": null,
   "id": "0fda38a6-555b-4c7b-92c1-3eff1b593408",
   "metadata": {
    "tags": []
   },
   "outputs": [],
   "source": [
    "orig.fig4.seu <- readRDS(\"10x_original_Seurat.rds\")"
   ]
  },
  {
   "cell_type": "code",
   "execution_count": null,
   "id": "65073da1-53b0-4e90-acae-7130ec49559a",
   "metadata": {
    "tags": []
   },
   "outputs": [],
   "source": [
    "celltype_v_fig4 <- orig.fig4.seu$seurat_clusters\n",
    "celltype_v_fig4 <- celltype_v_fig4[colnames(orig.intersect.seu)]"
   ]
  },
  {
   "cell_type": "code",
   "execution_count": null,
   "id": "c2358d74-cc55-4d69-8a8a-612c577b16e8",
   "metadata": {
    "tags": []
   },
   "outputs": [],
   "source": [
    "#Fig drawing\n",
    "draw_umap(seu_base = orig.intersect.seu,\n",
    "          seu_to10x = orig.intersect.seu,\n",
    "          seu_todrop = roundtrip.seu,\n",
    "          col_seed = 6,\n",
    "          w=6,\n",
    "          h=6,\n",
    "          is_pdf=F,\n",
    "          celltype_v=celltype_v_fig4,\n",
    "          outdir = \"figure_out/\",\n",
    "          outname = \"Aug2022_10x_roundtrip\")"
   ]
  },
  {
   "cell_type": "code",
   "execution_count": null,
   "id": "a2a7d515-841e-4b7f-b681-9791c1527d2c",
   "metadata": {
    "tags": []
   },
   "outputs": [],
   "source": [
    "#Export CellCellDist\n",
    "v.vln.todrop <- get_dist_pcaspace_scatter(orig.intersect.seu,\n",
    "                                          roundtrip.seu,\n",
    "                                          outdir = \"figure_out/\",\n",
    "                                          outname = \"Aug2022_10x_roundtrip\")"
   ]
  },
  {
   "cell_type": "code",
   "execution_count": null,
   "id": "6de7b4d6-da2a-4845-8aae-fb84375e5803",
   "metadata": {},
   "outputs": [],
   "source": []
  }
 ],
 "metadata": {
  "kernelspec": {
   "display_name": "R4",
   "language": "R",
   "name": "ir"
  },
  "language_info": {
   "codemirror_mode": "r",
   "file_extension": ".r",
   "mimetype": "text/x-r-source",
   "name": "R",
   "pygments_lexer": "r",
   "version": "4.2.1"
  }
 },
 "nbformat": 4,
 "nbformat_minor": 5
}
