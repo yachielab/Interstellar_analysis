{
 "cells": [
  {
   "cell_type": "code",
   "execution_count": null,
   "id": "949d2651-6a65-49da-a472-1bf5b0fc0f7c",
   "metadata": {
    "tags": []
   },
   "outputs": [],
   "source": [
    "library(Seurat)\n",
    "library(tidyverse)\n",
    "library(Matrix)\n",
    "library(RColorBrewer)\n",
    "library(scatterpie)"
   ]
  },
  {
   "cell_type": "code",
   "execution_count": null,
   "id": "b269fe86-2451-4567-b0a9-1d131dab6c07",
   "metadata": {
    "tags": []
   },
   "outputs": [],
   "source": [
    "meta <- read.csv(\"/sciSpace/GSE166692_sciSpace_cell_metadata.tsv.gz\",header=T,stringsAsFactors=F,sep=\"\\t\")\n",
    "genes <- read.csv(\"/sciSpace/GSE166692_sciSpace_gene_metadata.tsv.gz\",header=T,stringsAsFactors=F,sep=\"\\t\")"
   ]
  },
  {
   "cell_type": "code",
   "execution_count": null,
   "id": "3538b4db-7aa8-4a78-bd39-267af3076102",
   "metadata": {
    "tags": []
   },
   "outputs": [],
   "source": [
    "# The following RDS files are products from import_DGE.R\n",
    "seu_CR <- readRDS(\"intermediate_data/sciSpace/exp2_SeuratObj.rds\")\n",
    "seu_orig <- readRDS(\"exp2_origSciSpace_SeuratObj.rds\")"
   ]
  },
  {
   "cell_type": "code",
   "execution_count": null,
   "id": "7ee00a46-28b0-4e48-92df-78e76322474f",
   "metadata": {},
   "outputs": [],
   "source": [
    "df <- read.table(\"barcode_correspondence_data/cb_10x_to_sci.txt\",sep=\"\\t\",header=F)\n",
    "conv_v <- df$V2 %>% as.character\n",
    "names(conv_v) <- df$V1 %>% as.character"
   ]
  },
  {
   "cell_type": "code",
   "execution_count": null,
   "id": "e6f377e0-b291-4d90-bb85-3561b873bfdc",
   "metadata": {
    "tags": []
   },
   "outputs": [],
   "source": [
    "seu_CR %>% colnames %>% head\n",
    "seu_orig %>% colnames %>% head"
   ]
  },
  {
   "cell_type": "code",
   "execution_count": null,
   "id": "4dd0ab00-4415-4b51-b204-dcb730a0f4cf",
   "metadata": {
    "tags": []
   },
   "outputs": [],
   "source": [
    "seu_orig$seurat_clusters %>% head"
   ]
  },
  {
   "cell_type": "code",
   "execution_count": null,
   "id": "4041df8c-400a-4a9c-b719-a23f0fac88a0",
   "metadata": {
    "tags": []
   },
   "outputs": [],
   "source": [
    "qual_col_pals = brewer.pal.info[brewer.pal.info$category == 'qual',]\n",
    "col_vector = unlist(mapply(brewer.pal, qual_col_pals$maxcolors, rownames(qual_col_pals)))\n",
    "\n",
    "set.seed(12)\n",
    "my_col_viri <- sample(col_vector, length(unique(seu_CR$seurat_clusters)))\n",
    "p1 <- DimPlot(seu_CR,cols = my_col_viri) + theme_void() + NoLegend()\n",
    "\n",
    "set.seed(3)\n",
    "my_col_viri2 <- sample(col_vector, length(unique(seu_orig$seurat_clusters)))\n",
    "p2 <- DimPlot(seu_orig,cols = my_col_viri2) + theme_void()+ NoLegend()"
   ]
  },
  {
   "cell_type": "code",
   "execution_count": null,
   "id": "dc2728fa-8743-428a-ab7d-ca262043b6bf",
   "metadata": {
    "tags": []
   },
   "outputs": [],
   "source": [
    "ggsave(\"translated_umap.jpeg\",p1,width = 12,height = 12,units = \"cm\",dpi = 300)"
   ]
  },
  {
   "cell_type": "code",
   "execution_count": null,
   "id": "d102f272-4206-4f0d-b2da-e3ebddb767ff",
   "metadata": {
    "tags": []
   },
   "outputs": [],
   "source": [
    "ggsave(\"orig_umap.jpeg\",p2,width = 12,height = 12,units = \"cm\",dpi = 300)"
   ]
  },
  {
   "cell_type": "code",
   "execution_count": null,
   "id": "97b60668-62a1-4a2e-b057-8e2944badd69",
   "metadata": {},
   "outputs": [],
   "source": [
    "seu_CR_meta <- seu_CR@meta.data\n",
    "seu_CR_meta$CellID <- rownames(seu_CR_meta)"
   ]
  },
  {
   "cell_type": "code",
   "execution_count": null,
   "id": "1312e0e1-3101-4892-b99c-f7e17d581cea",
   "metadata": {
    "tags": []
   },
   "outputs": [],
   "source": [
    "sci_CR_meta_merge <- merge(meta,seu_CR_meta,by.x = 1,by.y=9)"
   ]
  },
  {
   "cell_type": "code",
   "execution_count": null,
   "id": "45e2d9db-50c1-4512-9cbb-58719139e27f",
   "metadata": {
    "tags": []
   },
   "outputs": [],
   "source": [
    "slide=\"Slide 14\"\n",
    "df.slide.select <- filter(sci_CR_meta_merge,slide_id==slide)\n",
    "\n",
    "df.shrink <- df.slide.select[,c(\"Cell\",\"Row\",\"Col\",\"final_cluster_label\",\"seurat_clusters\")]\n",
    "df.shrink$RowCol <- paste0(df.shrink$Row,\"_\",df.shrink$Col)\n",
    "df.shrink.aggr <- aggregate(df.shrink$seurat_clusters,list(df.shrink$RowCol),table)\n",
    "df.shrink.aggr <- df.shrink.aggr %>% as.matrix() %>% as.data.frame\n",
    "df.shrink.coord <- str_split_fixed(string = df.shrink.aggr$Group.1,n=2,pattern = \"_\") %>% as.data.frame() %>% apply(c(1,2),as.integer) %>% as.data.frame()\n",
    "df.shrink.coord$rowcol <- df.shrink.aggr$Group.1\n",
    "df.shrink.ratio <- df.shrink.aggr[,-1] %>% apply(c(1,2),as.integer) %>% as.data.frame\n",
    "df.shrink.ratio <- df.shrink.ratio / rowSums(df.shrink.ratio)\n",
    "colnames(df.shrink.coord) <- c(\"row\",\"col\",\"rowcol\")\n",
    "colnames(df.shrink.ratio) <- sub(\"x.\",\"\",colnames(df.shrink.ratio))\n",
    "df.shrink.merge <- cbind(df.shrink.coord,df.shrink.ratio)\n",
    "\n",
    "g <- ggplot()+\n",
    "  geom_scatterpie(data = df.shrink.merge,aes(x=col,y=row,group=rowcol),cols = colnames(df.shrink.merge)[4:ncol(df.shrink.merge)],color=NA,pie_scale=.5)+\n",
    "  theme_classic()+\n",
    "  coord_equal()+\n",
    "  scale_fill_manual(values = my_col_viri)+\n",
    "theme_void()+\n",
    "NoLegend()+\n",
    "  theme(rect = element_rect(fill = \"transparent\"))"
   ]
  },
  {
   "cell_type": "code",
   "execution_count": null,
   "id": "1c86d66c-ba8b-4243-987e-00a4b76a2347",
   "metadata": {
    "tags": []
   },
   "outputs": [],
   "source": [
    "ggsave(\"spatial_pie_10x.png\",g,width = 14,height = 12,units = \"cm\",dpi = 400)"
   ]
  },
  {
   "cell_type": "code",
   "execution_count": null,
   "id": "7825638b-e3f7-4cd7-b2f1-46647f8a75a2",
   "metadata": {
    "tags": []
   },
   "outputs": [],
   "source": [
    "seu_orig_meta <- seu_orig@meta.data\n",
    "seu_orig_meta$CellID <- rownames(seu_orig_meta)"
   ]
  },
  {
   "cell_type": "code",
   "execution_count": null,
   "id": "eafc1567-2f7a-498a-996e-6e7439ca2e8c",
   "metadata": {
    "tags": []
   },
   "outputs": [],
   "source": [
    "sci_orig_meta_merge <- merge(meta,seu_orig_meta,by.x = 1,by.y=9)"
   ]
  },
  {
   "cell_type": "code",
   "execution_count": null,
   "id": "51e003c0-5d6d-4c1c-93f3-a1e33a96b2e5",
   "metadata": {
    "tags": []
   },
   "outputs": [],
   "source": [
    "slide=\"Slide 14\"\n",
    "df.slide.select <- filter(sci_orig_meta_merge,slide_id==slide)\n",
    "\n",
    "df.shrink <- df.slide.select[,c(\"Cell\",\"Row\",\"Col\",\"final_cluster_label\",\"seurat_clusters\")]\n",
    "df.shrink$RowCol <- paste0(df.shrink$Row,\"_\",df.shrink$Col)\n",
    "# df.shrink.aggr <- aggregate(df.shrink$final_cluster_label,list(df.shrink$RowCol),table)\n",
    "df.shrink.aggr <- aggregate(df.shrink$seurat_clusters,list(df.shrink$RowCol),table)\n",
    "df.shrink.aggr <- df.shrink.aggr %>% as.matrix() %>% as.data.frame\n",
    "df.shrink.coord <- str_split_fixed(string = df.shrink.aggr$Group.1,n=2,pattern = \"_\") %>% as.data.frame() %>% apply(c(1,2),as.integer) %>% as.data.frame()\n",
    "df.shrink.coord$rowcol <- df.shrink.aggr$Group.1\n",
    "df.shrink.ratio <- df.shrink.aggr[,-1] %>% apply(c(1,2),as.integer) %>% as.data.frame\n",
    "df.shrink.ratio <- df.shrink.ratio / rowSums(df.shrink.ratio)\n",
    "colnames(df.shrink.coord) <- c(\"row\",\"col\",\"rowcol\")\n",
    "colnames(df.shrink.ratio) <- sub(\"x.\",\"\",colnames(df.shrink.ratio))\n",
    "df.shrink.merge <- cbind(df.shrink.coord,df.shrink.ratio)\n",
    "\n",
    "g <- ggplot()+\n",
    "  geom_scatterpie(data = df.shrink.merge,aes(x=col,y=row,group=rowcol),cols = colnames(df.shrink.merge)[4:ncol(df.shrink.merge)],color=NA,pie_scale=.5)+\n",
    "  theme_classic()+\n",
    "  coord_equal()+\n",
    "  scale_fill_manual(values = my_col_viri2)+\n",
    "theme_void()+\n",
    "NoLegend()+\n",
    "  theme(rect = element_rect(fill = \"transparent\"))"
   ]
  },
  {
   "cell_type": "code",
   "execution_count": null,
   "id": "0109bcdf-34aa-4962-a71f-b05716edff4d",
   "metadata": {
    "tags": []
   },
   "outputs": [],
   "source": [
    "ggsave(\"spatial_pie_orig.png\",g,width = 14,height = 12,units = \"cm\",dpi = 400)"
   ]
  }
 ],
 "metadata": {
  "kernelspec": {
   "display_name": "R4",
   "language": "R",
   "name": "ir"
  },
  "language_info": {
   "codemirror_mode": "r",
   "file_extension": ".r",
   "mimetype": "text/x-r-source",
   "name": "R",
   "pygments_lexer": "r",
   "version": "4.2.1"
  }
 },
 "nbformat": 4,
 "nbformat_minor": 5
}
