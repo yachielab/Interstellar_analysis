{
 "cells": [
  {
   "cell_type": "code",
   "execution_count": null,
   "metadata": {},
   "outputs": [],
   "source": [
    "library(Matrix)\n",
    "library(Seurat)\n",
    "library(dplyr)"
   ]
  },
  {
   "cell_type": "markdown",
   "metadata": {},
   "source": [
    "In the demonstration in Fig. 5, we performed INTERSTELLAR translation of reads from each subregion independently. Thus, we have SpaceRanger results for each subregion and need to combine the transcriptome information into a single matrix."
   ]
  },
  {
   "cell_type": "code",
   "execution_count": null,
   "metadata": {},
   "outputs": [],
   "source": [
    "cnt <- 0\n",
    "dircount <- 0\n",
    "for(tissue_sample in c(\"hippo\",\"cereb1\",\"cereb2\",\"kidney\",\"liver\")){\n",
    "    dirs <- list.files(paste0(\"/workdir/\",tissue_sample,\"/SpaceRanger/\"))\n",
    "    for(dir in dirs){\n",
    "        if(cnt==0){\n",
    "            outdir <- paste0(\"/workdir/\",tissue_sample,\"/SpaceRanger/\",\n",
    "                             dir,\n",
    "                             \"/outs/filtered_feature_bc_matrix\")\n",
    "            dge <- Read10X(outdir)\n",
    "            dge <- dge[,colSums(dge)>0]\n",
    "            colnames(dge) <- paste0(dir,\"_\",colnames(dge))\n",
    "            cnt <- 1\n",
    "            print(c(dir,ncol(dge)))\n",
    "        }else{\n",
    "            outdir <- paste0(\"/workdir/\",tissue_sample,\"/SpaceRanger/\",\n",
    "                             dir,\n",
    "                             \"/outs/filtered_feature_bc_matrix\")\n",
    "            dge.tmp0 <- Read10X(outdir)\n",
    "            dge.tmp <- dge.tmp0[,colSums(dge.tmp0)>0]\n",
    "            cname <- colnames(dge.tmp0)[colSums(dge.tmp0)>0]\n",
    "            print(c(dir,ncol(dge.tmp)))\n",
    "            if(length(cname)==1){\n",
    "                print(c(dir,\"true\"))\n",
    "                dge <- cbind(dge,dge.tmp)\n",
    "                colnames(dge)[ncol(dge)] <- paste0(dir,\"_\",cname)\n",
    "            }else{\n",
    "                colnames(dge.tmp) <- paste0(dir,\"_\",colnames(dge.tmp))\n",
    "                dge <- cbind(dge,dge.tmp)\n",
    "            }\n",
    "        }\n",
    "\n",
    "    }\n",
    "    write.table(as.matrix(dge),paste0(\"slide_\",tissue_sample,\"_ed0_visium_Feb2021.csv\"),quote=F,sep=\",\")\n",
    "}"
   ]
  },
  {
   "cell_type": "code",
   "execution_count": null,
   "metadata": {},
   "outputs": [],
   "source": []
  }
 ],
 "metadata": {
  "kernelspec": {
   "display_name": "R4",
   "language": "R",
   "name": "ir"
  },
  "language_info": {
   "codemirror_mode": "r",
   "file_extension": ".r",
   "mimetype": "text/x-r-source",
   "name": "R",
   "pygments_lexer": "r",
   "version": "4.2.1"
  }
 },
 "nbformat": 4,
 "nbformat_minor": 4
}
